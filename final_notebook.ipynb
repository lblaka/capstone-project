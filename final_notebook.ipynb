{
 "cells": [
  {
   "cell_type": "markdown",
   "id": "76a7460f",
   "metadata": {},
   "source": [
    "**Outline**\n",
    "\n",
    "**Import Data**\n",
    "<br>**EDA**\n",
    "<br>**Model 1**\n",
    "<br>**1. Random Forest**: Gridsearch, Model Prediction, Model Validation\n",
    "<br>**2. XGBoost**: Gridsearch, Model Prediction, Model Validation\n",
    "<br>**3. Random Forest Model Deployment on Test Data**\n",
    "\n",
    "<br>**Model 2**\n",
    "<br>**1. Random Forest**: Gridsearch, Model Prediction, Model Validation\n",
    "<br>**2. XGBoost**: Gridsearch, Model Prediction, Model Validation\n",
    "<br>**3. XGBoost Model Deployment on Test Data**\n"
   ]
  },
  {
   "cell_type": "code",
   "execution_count": 1,
   "id": "427ea789",
   "metadata": {},
   "outputs": [],
   "source": [
    "import pandas as pd\n",
    "import joblib \n",
    "import numpy as np \n",
    "import seaborn as sns\n",
    "import matplotlib.pyplot as plt\n",
    "%matplotlib inline  \n",
    "\n",
    "from sklearn.metrics import confusion_matrix, plot_confusion_matrix,\\\n",
    "    precision_score, recall_score, accuracy_score, f1_score, log_loss,\\\n",
    "    roc_curve, roc_auc_score, classification_report \n",
    "\n",
    "from sklearn.model_selection import cross_val_score\n",
    "from sklearn.model_selection import cross_validate\n",
    "from sklearn.ensemble import RandomForestClassifier\n",
    "\n",
    "from sklearn.model_selection import train_test_split\n",
    "\n",
    "\n",
    "from sklearn.pipeline import Pipeline\n",
    "\n",
    "from sklearn.model_selection import GridSearchCV\n",
    "from xgboost import XGBClassifier\n",
    "from pathlib import Path\n"
   ]
  },
  {
   "cell_type": "markdown",
   "id": "6056ab7d",
   "metadata": {},
   "source": [
    "# Import data"
   ]
  },
  {
   "cell_type": "code",
   "execution_count": 2,
   "id": "d5801600",
   "metadata": {},
   "outputs": [
    {
     "name": "stdout",
     "output_type": "stream",
     "text": [
      "<class 'pandas.core.frame.DataFrame'>\n",
      "Int64Index: 3848 entries, 1 to 6433\n",
      "Data columns (total 10 columns):\n",
      " #   Column        Non-Null Count  Dtype  \n",
      "---  ------        --------------  -----  \n",
      " 0   ticker        3848 non-null   object \n",
      " 1   sector        3848 non-null   object \n",
      " 2   vc_dummy      3848 non-null   object \n",
      " 3   rollup        3848 non-null   object \n",
      " 4   dual          3848 non-null   object \n",
      " 5   internet      3848 non-null   object \n",
      " 6   years_to_ipo  3848 non-null   int64  \n",
      " 7   day_1_%       3848 non-null   float64\n",
      " 8   month_7_%     1323 non-null   float64\n",
      " 9   successful    3848 non-null   int64  \n",
      "dtypes: float64(2), int64(2), object(6)\n",
      "memory usage: 330.7+ KB\n"
     ]
    }
   ],
   "source": [
    "file_path = Path(\"/Users/lorelablaka/Documents/Flatiron/phase-5/capstone/collect_clean\")\n",
    "data_viz = joblib.load(f\"{file_path}/data2_viz.pkl\")\n",
    "\n",
    "data = joblib.load(f\"{file_path}/data2.pkl\")\n",
    "\n",
    "data.info()"
   ]
  },
  {
   "cell_type": "markdown",
   "id": "51151f3d",
   "metadata": {},
   "source": [
    "# EDA"
   ]
  },
  {
   "cell_type": "markdown",
   "id": "6dbb64d7",
   "metadata": {},
   "source": [
    "**EDA of Dependent Variable**"
   ]
  },
  {
   "cell_type": "code",
   "execution_count": 3,
   "id": "4114994b",
   "metadata": {},
   "outputs": [
    {
     "data": {
      "text/plain": [
       "0    2704\n",
       "1    1144\n",
       "Name: successful, dtype: int64"
      ]
     },
     "execution_count": 3,
     "metadata": {},
     "output_type": "execute_result"
    }
   ],
   "source": [
    "data['successful'].value_counts()"
   ]
  },
  {
   "cell_type": "code",
   "execution_count": 4,
   "id": "43a36554",
   "metadata": {},
   "outputs": [
    {
     "data": {
      "text/html": [
       "<div>\n",
       "<style scoped>\n",
       "    .dataframe tbody tr th:only-of-type {\n",
       "        vertical-align: middle;\n",
       "    }\n",
       "\n",
       "    .dataframe tbody tr th {\n",
       "        vertical-align: top;\n",
       "    }\n",
       "\n",
       "    .dataframe thead th {\n",
       "        text-align: right;\n",
       "    }\n",
       "</style>\n",
       "<table border=\"1\" class=\"dataframe\">\n",
       "  <thead>\n",
       "    <tr style=\"text-align: right;\">\n",
       "      <th></th>\n",
       "      <th>ticker</th>\n",
       "      <th>trade_date</th>\n",
       "      <th>ipo_year</th>\n",
       "      <th>day_1_%</th>\n",
       "      <th>month_7_%</th>\n",
       "      <th>sector</th>\n",
       "      <th>vc_dummy</th>\n",
       "      <th>rollup</th>\n",
       "      <th>dual</th>\n",
       "      <th>internet</th>\n",
       "      <th>...</th>\n",
       "      <th>ebitda_margins</th>\n",
       "      <th>profit_margins</th>\n",
       "      <th>gross_margins</th>\n",
       "      <th>revenue_growth</th>\n",
       "      <th>total_revenue</th>\n",
       "      <th>operating_cashflow</th>\n",
       "      <th>profitable</th>\n",
       "      <th>valuable</th>\n",
       "      <th>success</th>\n",
       "      <th>successful</th>\n",
       "    </tr>\n",
       "  </thead>\n",
       "  <tbody>\n",
       "    <tr>\n",
       "      <th>4490</th>\n",
       "      <td>PRLX</td>\n",
       "      <td>2010-03-10</td>\n",
       "      <td>2010</td>\n",
       "      <td>0.246575</td>\n",
       "      <td>-0.479167</td>\n",
       "      <td>Conglomerates</td>\n",
       "      <td>0</td>\n",
       "      <td>0</td>\n",
       "      <td>0</td>\n",
       "      <td>0</td>\n",
       "      <td>...</td>\n",
       "      <td>0.0</td>\n",
       "      <td>0.0</td>\n",
       "      <td>0.86915</td>\n",
       "      <td>50.369</td>\n",
       "      <td>128600.0</td>\n",
       "      <td>-2945573.0</td>\n",
       "      <td>1</td>\n",
       "      <td>1</td>\n",
       "      <td>2</td>\n",
       "      <td>1</td>\n",
       "    </tr>\n",
       "  </tbody>\n",
       "</table>\n",
       "<p>1 rows × 22 columns</p>\n",
       "</div>"
      ],
      "text/plain": [
       "     ticker trade_date  ipo_year   day_1_%  month_7_%         sector vc_dummy  \\\n",
       "4490   PRLX 2010-03-10      2010  0.246575  -0.479167  Conglomerates        0   \n",
       "\n",
       "     rollup dual internet  ...  ebitda_margins  profit_margins  gross_margins  \\\n",
       "4490      0    0        0  ...             0.0             0.0        0.86915   \n",
       "\n",
       "      revenue_growth  total_revenue  operating_cashflow  profitable  valuable  \\\n",
       "4490          50.369       128600.0          -2945573.0           1         1   \n",
       "\n",
       "      success  successful  \n",
       "4490        2           1  \n",
       "\n",
       "[1 rows x 22 columns]"
      ]
     },
     "execution_count": 4,
     "metadata": {},
     "output_type": "execute_result"
    }
   ],
   "source": [
    "data_viz[data_viz['sector']=='Conglomerates']"
   ]
  },
  {
   "cell_type": "markdown",
   "id": "03e6192f",
   "metadata": {},
   "source": [
    "**Gross Margin by sector**"
   ]
  },
  {
   "cell_type": "code",
   "execution_count": 5,
   "id": "dfa69ef8",
   "metadata": {},
   "outputs": [
    {
     "data": {
      "text/plain": [
       "<BarContainer object of 13 artists>"
      ]
     },
     "execution_count": 5,
     "metadata": {},
     "output_type": "execute_result"
    },
    {
     "data": {
      "image/png": "[encoded data removed]",
      "text/plain": [
       "<Figure size 432x288 with 1 Axes>"
      ]
     },
     "metadata": {
      "needs_background": "light"
     },
     "output_type": "display_data"
    }
   ],
   "source": [
    "data_viz_margin = data_viz.groupby('sector').aggregate({'gross_margins':'median'})\n",
    "data_viz_margin.reset_index(inplace=True)\n",
    "data_viz_margin = data_viz_margin[(data_viz_margin['gross_margins']>0)\n",
    "                                 &( data_viz_margin['sector']!= 'Conglomerates')]\n",
    "\n",
    "\n",
    "\n",
    "x = data_viz_margin['sector']\n",
    "height = data_viz_margin['gross_margins']\n",
    "\n",
    "plt.barh(x,height)\n",
    " "
   ]
  },
  {
   "cell_type": "markdown",
   "id": "42f58727",
   "metadata": {},
   "source": [
    "**Enterprise Value to Revenue by sector**"
   ]
  },
  {
   "cell_type": "code",
   "execution_count": 6,
   "id": "22d87152",
   "metadata": {},
   "outputs": [
    {
     "data": {
      "text/plain": [
       "<BarContainer object of 12 artists>"
      ]
     },
     "execution_count": 6,
     "metadata": {},
     "output_type": "execute_result"
    },
    {
     "data": {
      "image/png": "[encoded data removed]",
      "text/plain": [
       "<Figure size 432x288 with 1 Axes>"
      ]
     },
     "metadata": {
      "needs_background": "light"
     },
     "output_type": "display_data"
    }
   ],
   "source": [
    "data_viz_evr = data_viz.groupby('sector').aggregate({'enterprise_to_revenue':'median'})\n",
    "data_viz_evr.reset_index(inplace=True)\n",
    "data_viz_evr = data_viz_evr[(data_viz_evr['enterprise_to_revenue']>0)\n",
    "                                 &( data_viz_evr['sector']!= 'Conglomerates')]\n",
    "\n",
    "x = data_viz_evr['sector']\n",
    "height = data_viz_evr['enterprise_to_revenue']\n",
    "\n",
    "plt.barh(x,height)\n"
   ]
  },
  {
   "cell_type": "markdown",
   "id": "8260df96",
   "metadata": {},
   "source": [
    "**# of IPOs per year** (in this dataset)"
   ]
  },
  {
   "cell_type": "code",
   "execution_count": 7,
   "id": "2abdee53",
   "metadata": {},
   "outputs": [
    {
     "data": {
      "text/plain": [
       "<AxesSubplot:xlabel='ipo_year'>"
      ]
     },
     "execution_count": 7,
     "metadata": {},
     "output_type": "execute_result"
    },
    {
     "data": {
      "image/png": "[encoded data removed]",
      "text/plain": [
       "<Figure size 432x288 with 1 Axes>"
      ]
     },
     "metadata": {
      "needs_background": "light"
     },
     "output_type": "display_data"
    }
   ],
   "source": [
    "data_viz_return = data_viz.groupby('ipo_year').aggregate({'ticker':'count'})\n",
    "data_viz_return = data_viz.groupby('ipo_year').aggregate({'ticker':'count'})\n",
    "\n",
    "\n",
    " \n",
    "fig, ax = plt.subplots()\n",
    "sns.lineplot(data=data_viz_return, linewidth=4)\n"
   ]
  },
  {
   "cell_type": "markdown",
   "id": "ef83fdf6",
   "metadata": {},
   "source": [
    "**Relationship b.w Month 7 Returns vs first day pop** is weak (although somewhat positive)"
   ]
  },
  {
   "cell_type": "code",
   "execution_count": 8,
   "id": "616306f8",
   "metadata": {},
   "outputs": [
    {
     "data": {
      "image/png": "[encoded data removed]",
      "text/plain": [
       "<Figure size 432x288 with 1 Axes>"
      ]
     },
     "metadata": {
      "needs_background": "light"
     },
     "output_type": "display_data"
    }
   ],
   "source": [
    "data_viz = data_viz[(data_viz['month_7_%']<10)\n",
    "                   & (data_viz['day_1_%']<100)]\n",
    "    \n",
    "    \n",
    "x = data_viz['month_7_%']\n",
    "y = data_viz['day_1_%']\n",
    "\n",
    "plt.scatter(x,y)\n",
    " \n",
    "fig.set_size_inches(20, 20)\n",
    "\n",
    "\n"
   ]
  },
  {
   "cell_type": "markdown",
   "id": "c0712acd",
   "metadata": {},
   "source": [
    "**Successful companies by sector**\n",
    "> The horizontal bar graph attempts to validate our definition of success by making sure profitable sectors such as technology actually rank as most successful. Which they do as we can see below. "
   ]
  },
  {
   "cell_type": "code",
   "execution_count": 9,
   "id": "34f1aace",
   "metadata": {},
   "outputs": [
    {
     "data": {
      "text/plain": [
       "<BarContainer object of 13 artists>"
      ]
     },
     "execution_count": 9,
     "metadata": {},
     "output_type": "execute_result"
    },
    {
     "data": {
      "image/png": "[encoded data removed]",
      "text/plain": [
       "<Figure size 432x288 with 1 Axes>"
      ]
     },
     "metadata": {
      "needs_background": "light"
     },
     "output_type": "display_data"
    }
   ],
   "source": [
    "data_viz_evr = data_viz.groupby('sector').aggregate({'successful':'sum'})\n",
    "data_viz_evr.reset_index(inplace=True)\n",
    "data_viz_evr = data_viz_evr[( data_viz_evr['sector']!= 'Conglomerates')]\n",
    "x = data_viz_evr['sector']\n",
    "height = data_viz_evr['successful']\n",
    "\n",
    "plt.barh(x,height)\n",
    " \n"
   ]
  },
  {
   "cell_type": "markdown",
   "id": "9e7cbb51",
   "metadata": {},
   "source": [
    "# Train Test Split"
   ]
  },
  {
   "cell_type": "code",
   "execution_count": 10,
   "id": "f45d4d5a",
   "metadata": {},
   "outputs": [
    {
     "data": {
      "text/html": [
       "<div>\n",
       "<style scoped>\n",
       "    .dataframe tbody tr th:only-of-type {\n",
       "        vertical-align: middle;\n",
       "    }\n",
       "\n",
       "    .dataframe tbody tr th {\n",
       "        vertical-align: top;\n",
       "    }\n",
       "\n",
       "    .dataframe thead th {\n",
       "        text-align: right;\n",
       "    }\n",
       "</style>\n",
       "<table border=\"1\" class=\"dataframe\">\n",
       "  <thead>\n",
       "    <tr style=\"text-align: right;\">\n",
       "      <th></th>\n",
       "      <th>day_1_%</th>\n",
       "      <th>years_to_ipo</th>\n",
       "      <th>sector_Communication Services</th>\n",
       "      <th>sector_Conglomerates</th>\n",
       "      <th>sector_Consumer Cyclical</th>\n",
       "      <th>sector_Consumer Defensive</th>\n",
       "      <th>sector_Consumer Goods</th>\n",
       "      <th>sector_Energy</th>\n",
       "      <th>sector_Financial Services</th>\n",
       "      <th>sector_Healthcare</th>\n",
       "      <th>...</th>\n",
       "      <th>sector_Real Estate</th>\n",
       "      <th>sector_Services</th>\n",
       "      <th>sector_Technology</th>\n",
       "      <th>sector_Utilities</th>\n",
       "      <th>vc_dummy_1</th>\n",
       "      <th>vc_dummy_2</th>\n",
       "      <th>rollup_1</th>\n",
       "      <th>dual_1</th>\n",
       "      <th>dual_2</th>\n",
       "      <th>internet_1</th>\n",
       "    </tr>\n",
       "  </thead>\n",
       "  <tbody>\n",
       "    <tr>\n",
       "      <th>1</th>\n",
       "      <td>-0.032967</td>\n",
       "      <td>50</td>\n",
       "      <td>0</td>\n",
       "      <td>0</td>\n",
       "      <td>0</td>\n",
       "      <td>0</td>\n",
       "      <td>0</td>\n",
       "      <td>0</td>\n",
       "      <td>0</td>\n",
       "      <td>1</td>\n",
       "      <td>...</td>\n",
       "      <td>0</td>\n",
       "      <td>0</td>\n",
       "      <td>0</td>\n",
       "      <td>0</td>\n",
       "      <td>0</td>\n",
       "      <td>0</td>\n",
       "      <td>0</td>\n",
       "      <td>0</td>\n",
       "      <td>0</td>\n",
       "      <td>0</td>\n",
       "    </tr>\n",
       "    <tr>\n",
       "      <th>4</th>\n",
       "      <td>0.324324</td>\n",
       "      <td>13</td>\n",
       "      <td>0</td>\n",
       "      <td>0</td>\n",
       "      <td>0</td>\n",
       "      <td>0</td>\n",
       "      <td>0</td>\n",
       "      <td>0</td>\n",
       "      <td>0</td>\n",
       "      <td>0</td>\n",
       "      <td>...</td>\n",
       "      <td>0</td>\n",
       "      <td>0</td>\n",
       "      <td>0</td>\n",
       "      <td>0</td>\n",
       "      <td>1</td>\n",
       "      <td>0</td>\n",
       "      <td>0</td>\n",
       "      <td>0</td>\n",
       "      <td>0</td>\n",
       "      <td>0</td>\n",
       "    </tr>\n",
       "    <tr>\n",
       "      <th>6</th>\n",
       "      <td>0.001200</td>\n",
       "      <td>42</td>\n",
       "      <td>0</td>\n",
       "      <td>0</td>\n",
       "      <td>0</td>\n",
       "      <td>0</td>\n",
       "      <td>0</td>\n",
       "      <td>0</td>\n",
       "      <td>0</td>\n",
       "      <td>0</td>\n",
       "      <td>...</td>\n",
       "      <td>0</td>\n",
       "      <td>0</td>\n",
       "      <td>0</td>\n",
       "      <td>0</td>\n",
       "      <td>0</td>\n",
       "      <td>0</td>\n",
       "      <td>0</td>\n",
       "      <td>0</td>\n",
       "      <td>0</td>\n",
       "      <td>0</td>\n",
       "    </tr>\n",
       "    <tr>\n",
       "      <th>10</th>\n",
       "      <td>-0.167247</td>\n",
       "      <td>98</td>\n",
       "      <td>0</td>\n",
       "      <td>0</td>\n",
       "      <td>0</td>\n",
       "      <td>0</td>\n",
       "      <td>0</td>\n",
       "      <td>0</td>\n",
       "      <td>0</td>\n",
       "      <td>0</td>\n",
       "      <td>...</td>\n",
       "      <td>1</td>\n",
       "      <td>0</td>\n",
       "      <td>0</td>\n",
       "      <td>0</td>\n",
       "      <td>0</td>\n",
       "      <td>0</td>\n",
       "      <td>0</td>\n",
       "      <td>1</td>\n",
       "      <td>0</td>\n",
       "      <td>0</td>\n",
       "    </tr>\n",
       "    <tr>\n",
       "      <th>12</th>\n",
       "      <td>-0.043988</td>\n",
       "      <td>23</td>\n",
       "      <td>0</td>\n",
       "      <td>0</td>\n",
       "      <td>0</td>\n",
       "      <td>0</td>\n",
       "      <td>0</td>\n",
       "      <td>0</td>\n",
       "      <td>0</td>\n",
       "      <td>0</td>\n",
       "      <td>...</td>\n",
       "      <td>0</td>\n",
       "      <td>0</td>\n",
       "      <td>0</td>\n",
       "      <td>0</td>\n",
       "      <td>0</td>\n",
       "      <td>0</td>\n",
       "      <td>0</td>\n",
       "      <td>0</td>\n",
       "      <td>0</td>\n",
       "      <td>0</td>\n",
       "    </tr>\n",
       "  </tbody>\n",
       "</table>\n",
       "<p>5 rows × 22 columns</p>\n",
       "</div>"
      ],
      "text/plain": [
       "     day_1_%  years_to_ipo  sector_Communication Services  \\\n",
       "1  -0.032967            50                              0   \n",
       "4   0.324324            13                              0   \n",
       "6   0.001200            42                              0   \n",
       "10 -0.167247            98                              0   \n",
       "12 -0.043988            23                              0   \n",
       "\n",
       "    sector_Conglomerates  sector_Consumer Cyclical  sector_Consumer Defensive  \\\n",
       "1                      0                         0                          0   \n",
       "4                      0                         0                          0   \n",
       "6                      0                         0                          0   \n",
       "10                     0                         0                          0   \n",
       "12                     0                         0                          0   \n",
       "\n",
       "    sector_Consumer Goods  sector_Energy  sector_Financial Services  \\\n",
       "1                       0              0                          0   \n",
       "4                       0              0                          0   \n",
       "6                       0              0                          0   \n",
       "10                      0              0                          0   \n",
       "12                      0              0                          0   \n",
       "\n",
       "    sector_Healthcare  ...  sector_Real Estate  sector_Services  \\\n",
       "1                   1  ...                   0                0   \n",
       "4                   0  ...                   0                0   \n",
       "6                   0  ...                   0                0   \n",
       "10                  0  ...                   1                0   \n",
       "12                  0  ...                   0                0   \n",
       "\n",
       "    sector_Technology  sector_Utilities  vc_dummy_1  vc_dummy_2  rollup_1  \\\n",
       "1                   0                 0           0           0         0   \n",
       "4                   0                 0           1           0         0   \n",
       "6                   0                 0           0           0         0   \n",
       "10                  0                 0           0           0         0   \n",
       "12                  0                 0           0           0         0   \n",
       "\n",
       "    dual_1  dual_2  internet_1  \n",
       "1        0       0           0  \n",
       "4        0       0           0  \n",
       "6        0       0           0  \n",
       "10       1       0           0  \n",
       "12       0       0           0  \n",
       "\n",
       "[5 rows x 22 columns]"
      ]
     },
     "execution_count": 10,
     "metadata": {},
     "output_type": "execute_result"
    }
   ],
   "source": [
    "x_feats = ['sector',\n",
    "           'day_1_%', \n",
    "           'vc_dummy', \n",
    "           'rollup', \n",
    "           'dual', \n",
    "           'internet',\n",
    "           'years_to_ipo'\n",
    "           ]\n",
    "\n",
    "  \n",
    "\n",
    "X = pd.get_dummies(data[x_feats], drop_first=True)\n",
    "y = data['successful'].astype(int)\n",
    "X.head()"
   ]
  },
  {
   "cell_type": "code",
   "execution_count": 11,
   "id": "8918265e",
   "metadata": {},
   "outputs": [],
   "source": [
    "X_train, X_test, y_train, y_test = train_test_split(X, y, random_state=0, test_size=.3)"
   ]
  },
  {
   "cell_type": "markdown",
   "id": "e9571a76",
   "metadata": {},
   "source": [
    "# Random Forest"
   ]
  },
  {
   "cell_type": "code",
   "execution_count": 12,
   "id": "5ffbbf20",
   "metadata": {},
   "outputs": [
    {
     "data": {
      "text/plain": [
       "GridSearchCV(cv=3, estimator=RandomForestClassifier(),\n",
       "             param_grid={'max_depth': [10, 15, 20],\n",
       "                         'min_samples_leaf': [3, 6, 9],\n",
       "                         'n_estimators': [25, 50, 100]},\n",
       "             return_train_score=True)"
      ]
     },
     "execution_count": 12,
     "metadata": {},
     "output_type": "execute_result"
    }
   ],
   "source": [
    "rf = RandomForestClassifier()\n",
    "\n",
    "grid = {'n_estimators': [25, 50, 100], \n",
    "        'max_depth' : [10, 15, 20], \n",
    "        'min_samples_leaf' : [3, 6, 9]} \n",
    " \n",
    "gridsearch = GridSearchCV(rf,grid,cv = 3, return_train_score=True)\n",
    "\n",
    "gridsearch.fit(X_train, y_train) \n",
    "\n",
    "\n",
    "\n",
    " "
   ]
  },
  {
   "cell_type": "code",
   "execution_count": 13,
   "id": "a30e4adf",
   "metadata": {},
   "outputs": [
    {
     "name": "stdout",
     "output_type": "stream",
     "text": [
      "{'max_depth': 15, 'min_samples_leaf': 6, 'n_estimators': 25}\n"
     ]
    }
   ],
   "source": [
    "\n",
    "print(gridsearch.best_params_)"
   ]
  },
  {
   "cell_type": "code",
   "execution_count": 14,
   "id": "d294c9a7",
   "metadata": {},
   "outputs": [],
   "source": [
    "\n",
    "# define the model\n",
    "ran_for = RandomForestClassifier(n_estimators = 25,\n",
    "                              max_depth = 15, \n",
    "                              min_samples_leaf = 9)\n",
    "\n",
    "# fit the model\n",
    "ran_for.fit(X_train, y_train)\n",
    "y_hat_train = ran_for.predict(X_train)"
   ]
  },
  {
   "cell_type": "markdown",
   "id": "695bdcd0",
   "metadata": {},
   "source": [
    "**Model 1 RF Evaluation**"
   ]
  },
  {
   "cell_type": "code",
   "execution_count": 15,
   "id": "531f15c1",
   "metadata": {},
   "outputs": [
    {
     "name": "stdout",
     "output_type": "stream",
     "text": [
      "Accuracy Score: 0.8321574452283699\n",
      "Macro Precision Score: 0.8099421972267895\n",
      "Micro Precision Score: 0.8321574452283699\n",
      "Macro Recall Score: 0.7723520866349709\n",
      "Micro Recall Score: 0.8321574452283699\n"
     ]
    }
   ],
   "source": [
    "acc = accuracy_score(y_train,y_hat_train)\n",
    "macro_precision_score=precision_score(y_train, y_hat_train, average='macro')\n",
    "micro_precision_score=precision_score(y_train , y_hat_train, average='micro')\n",
    "macro_recall_score=recall_score(y_train, y_hat_train, average='macro')\n",
    "micro_recall_score=recall_score(y_train, y_hat_train, average='micro')\n",
    "\n",
    "print('Accuracy Score: {}'.format(acc))\n",
    "print('Macro Precision Score: {}'.format(macro_precision_score))\n",
    "print('Micro Precision Score: {}'.format(micro_precision_score))\n",
    "print('Macro Recall Score: {}'.format(macro_recall_score))\n",
    "print('Micro Recall Score: {}'.format(micro_recall_score))"
   ]
  },
  {
   "cell_type": "code",
   "execution_count": 16,
   "id": "bd90acea",
   "metadata": {},
   "outputs": [
    {
     "name": "stdout",
     "output_type": "stream",
     "text": [
      "Macro Precision Score: 0.7715524582686403\n",
      "Micro Precision Score: 0.8045780487392971\n",
      "Accuracy Score: 0.8045780487392971\n"
     ]
    }
   ],
   "source": [
    "scoring = ['precision_macro', 'precision_micro','accuracy']\n",
    "scores = cross_validate(ran_for, X, y, scoring=scoring)\n",
    "\n",
    "precision_macro_list = list(scores['test_precision_macro'])\n",
    "precision_macro_avg = sum(precision_macro_list)/len(precision_macro_list)\n",
    "\n",
    "\n",
    "precision_micro_list = list(scores['test_precision_micro'])\n",
    "precision_micro_avg = sum(precision_micro_list)/len(precision_micro_list)\n",
    "\n",
    "\n",
    "accuracy_list = list(scores['test_accuracy'])\n",
    "accuracy_avg = sum(accuracy_list)/len(accuracy_list)\n",
    "\n",
    "print('Macro Precision Score: {}'.format(precision_macro_avg))\n",
    "print('Micro Precision Score: {}'.format(precision_micro_avg))\n",
    "print('Accuracy Score: {}'.format(accuracy_avg))"
   ]
  },
  {
   "cell_type": "code",
   "execution_count": 17,
   "id": "e2058aba",
   "metadata": {},
   "outputs": [
    {
     "data": {
      "image/png": "[encoded data removed]",
      "text/plain": [
       "<Figure size 432x288 with 2 Axes>"
      ]
     },
     "metadata": {
      "needs_background": "light"
     },
     "output_type": "display_data"
    }
   ],
   "source": [
    "rf_matrix = plot_confusion_matrix(ran_for,X_train, y_train)"
   ]
  },
  {
   "cell_type": "markdown",
   "id": "2d8cc252",
   "metadata": {},
   "source": [
    "# XGBoost"
   ]
  },
  {
   "cell_type": "code",
   "execution_count": 18,
   "id": "e4e00cb2",
   "metadata": {},
   "outputs": [
    {
     "data": {
      "text/plain": [
       "GridSearchCV(cv=3,\n",
       "             estimator=XGBClassifier(base_score=None, booster=None,\n",
       "                                     colsample_bylevel=None,\n",
       "                                     colsample_bynode=None,\n",
       "                                     colsample_bytree=None,\n",
       "                                     eval_metric='mlogloss', gamma=None,\n",
       "                                     gpu_id=None, importance_type='gain',\n",
       "                                     interaction_constraints=None,\n",
       "                                     learning_rate=None, max_delta_step=None,\n",
       "                                     max_depth=None, min_child_weight=None,\n",
       "                                     missing=nan, monotone_constraints=None,\n",
       "                                     n_estimators=100, n_jobs=None,\n",
       "                                     num_parallel_tree=None, random_state=42,\n",
       "                                     reg_alpha=None, reg_lambda=None,\n",
       "                                     scale_pos_weight=None, subsample=None,\n",
       "                                     tree_method=None, use_label_encoder=False,\n",
       "                                     validate_parameters=None, verbosity=None),\n",
       "             param_grid={'gamma': [5, 10, 15], 'max_depth': [6, 12, 20],\n",
       "                         'min_child_weight': [0.5, 1], 'reg_alpha': [0, 30]},\n",
       "             return_train_score=True)"
      ]
     },
     "execution_count": 18,
     "metadata": {},
     "output_type": "execute_result"
    }
   ],
   "source": [
    "# We ran the following GridSearch for XGBClassifier to find the optimal hyperparameter values.\n",
    "\n",
    "xgb = XGBClassifier(random_state=42, use_label_encoder=False, eval_metric ='mlogloss')\n",
    "\n",
    "grid = {'max_depth': [6, 12, 20], \n",
    "        'min_child_weight' : [.5, 1], \n",
    "        'reg_alpha': [0,30],\n",
    "       'gamma': [5,10,15]} \n",
    "\n",
    " \n",
    "gridsearch = GridSearchCV(xgb,grid,cv = 3, return_train_score=True)\n",
    "\n",
    "gridsearch.fit(X_train, y_train) \n"
   ]
  },
  {
   "cell_type": "code",
   "execution_count": 19,
   "id": "219a964c",
   "metadata": {},
   "outputs": [
    {
     "name": "stdout",
     "output_type": "stream",
     "text": [
      "{'gamma': 5, 'max_depth': 6, 'min_child_weight': 0.5, 'reg_alpha': 30}\n"
     ]
    }
   ],
   "source": [
    "print(gridsearch.best_params_)"
   ]
  },
  {
   "cell_type": "code",
   "execution_count": 20,
   "id": "7d71a763",
   "metadata": {
    "scrolled": true
   },
   "outputs": [
    {
     "name": "stdout",
     "output_type": "stream",
     "text": [
      "fit model\n",
      "predicted on model\n"
     ]
    }
   ],
   "source": [
    "boost_model = XGBClassifier( \n",
    "    max_depth = 6,\n",
    "    min_child_weight = 0.5,\n",
    "    gamma = 5,\n",
    "    eval_metric='mlogloss',\n",
    "    use_label_encoder=False\n",
    ")\n",
    "\n",
    "\n",
    "boost_model.fit(X_train, y_train)\n",
    "print(\"fit model\")\n",
    "    \n",
    "y_hat_train = boost_model.predict(X_train)\n",
    "print(\"predicted on model\")"
   ]
  },
  {
   "cell_type": "markdown",
   "id": "4063bfc9",
   "metadata": {},
   "source": [
    "**Model 1 XGB Evaluation**"
   ]
  },
  {
   "cell_type": "code",
   "execution_count": 21,
   "id": "d4a38b87",
   "metadata": {},
   "outputs": [
    {
     "name": "stdout",
     "output_type": "stream",
     "text": [
      "Accuracy Score: 0.831043445971036\n",
      "Macro Precision Score: 0.8016382814690216\n",
      "Micro Precision Score: 0.831043445971036\n",
      "Macro Recall Score: 0.7841901082937137\n",
      "Micro Recall Score: 0.831043445971036\n"
     ]
    }
   ],
   "source": [
    "acc = accuracy_score(y_train,y_hat_train)\n",
    "macro_precision_score=precision_score(y_train, y_hat_train, average='macro')\n",
    "micro_precision_score=precision_score(y_train , y_hat_train, average='micro')\n",
    "macro_recall_score=recall_score(y_train, y_hat_train, average='macro')\n",
    "micro_recall_score=recall_score(y_train, y_hat_train, average='micro')\n",
    "\n",
    "print('Accuracy Score: {}'.format(acc))\n",
    "print('Macro Precision Score: {}'.format(macro_precision_score))\n",
    "print('Micro Precision Score: {}'.format(micro_precision_score))\n",
    "print('Macro Recall Score: {}'.format(macro_recall_score))\n",
    "print('Micro Recall Score: {}'.format(micro_recall_score))"
   ]
  },
  {
   "cell_type": "code",
   "execution_count": 22,
   "id": "c439d3ba",
   "metadata": {},
   "outputs": [
    {
     "name": "stdout",
     "output_type": "stream",
     "text": [
      "Macro Precision Score: 0.7670473889235804\n",
      "Micro Precision Score: 0.80119973654434\n",
      "Accuracy Score: 0.80119973654434\n"
     ]
    }
   ],
   "source": [
    "scoring = ['precision_macro', 'precision_micro','accuracy']\n",
    "scores = cross_validate(boost_model, X, y, scoring=scoring)\n",
    "\n",
    "precision_macro_list = list(scores['test_precision_macro'])\n",
    "precision_macro_avg = sum(precision_macro_list)/len(precision_macro_list)\n",
    "\n",
    "\n",
    "precision_micro_list = list(scores['test_precision_micro'])\n",
    "precision_micro_avg = sum(precision_micro_list)/len(precision_micro_list)\n",
    "\n",
    "\n",
    "accuracy_list = list(scores['test_accuracy'])\n",
    "accuracy_avg = sum(accuracy_list)/len(accuracy_list)\n",
    "\n",
    "print('Macro Precision Score: {}'.format(precision_macro_avg))\n",
    "print('Micro Precision Score: {}'.format(precision_micro_avg))\n",
    "print('Accuracy Score: {}'.format(accuracy_avg))"
   ]
  },
  {
   "cell_type": "code",
   "execution_count": 23,
   "id": "1edeb940",
   "metadata": {},
   "outputs": [
    {
     "data": {
      "image/png": "[encoded data removed]",
      "text/plain": [
       "<Figure size 432x288 with 2 Axes>"
      ]
     },
     "metadata": {
      "needs_background": "light"
     },
     "output_type": "display_data"
    }
   ],
   "source": [
    "xgb_matrix = plot_confusion_matrix(boost_model,X_train, y_train)"
   ]
  },
  {
   "cell_type": "markdown",
   "id": "036a0133",
   "metadata": {},
   "source": [
    "# **Model 1 Deployment on Test Data**"
   ]
  },
  {
   "cell_type": "markdown",
   "id": "89fec93c",
   "metadata": {},
   "source": [
    "**Random Forest** was the better performing model "
   ]
  },
  {
   "cell_type": "code",
   "execution_count": 24,
   "id": "393f1e53",
   "metadata": {},
   "outputs": [
    {
     "name": "stdout",
     "output_type": "stream",
     "text": [
      "fit model\n"
     ]
    }
   ],
   "source": [
    "ran_for = RandomForestClassifier(n_estimators = 25,\n",
    "                              max_depth = 15, \n",
    "                              min_samples_leaf = 9)\n",
    "\n",
    "ran_for.fit(X_train, y_train)\n",
    "print(\"fit model\")\n",
    "    \n"
   ]
  },
  {
   "cell_type": "code",
   "execution_count": 25,
   "id": "724097f2",
   "metadata": {},
   "outputs": [
    {
     "name": "stdout",
     "output_type": "stream",
     "text": [
      "predicted on model\n"
     ]
    }
   ],
   "source": [
    "y_hat_test = boost_model.predict(X_test)\n",
    "print(\"predicted on model\")"
   ]
  },
  {
   "cell_type": "code",
   "execution_count": 26,
   "id": "1e3fc006",
   "metadata": {},
   "outputs": [
    {
     "name": "stdout",
     "output_type": "stream",
     "text": [
      "Accuracy Score: 0.793939393939394\n",
      "Macro Precision Score: 0.7541727949369346\n",
      "Micro Precision Score: 0.793939393939394\n",
      "Macro Recall Score: 0.7452990135635018\n",
      "Micro Recall Score: 0.793939393939394\n"
     ]
    }
   ],
   "source": [
    "acc = accuracy_score(y_test, y_hat_test)\n",
    "macro_precision_score=precision_score(y_test, y_hat_test, average='macro')\n",
    "micro_precision_score=precision_score(y_test, y_hat_test, average='micro')\n",
    "macro_recall_score=recall_score(y_test, y_hat_test, average='macro')\n",
    "micro_recall_score=recall_score(y_test, y_hat_test, average='micro')\n",
    "\n",
    "print('Accuracy Score: {}'.format(acc))\n",
    "print('Macro Precision Score: {}'.format(macro_precision_score))\n",
    "print('Micro Precision Score: {}'.format(micro_precision_score))\n",
    "print('Macro Recall Score: {}'.format(macro_recall_score))\n",
    "print('Micro Recall Score: {}'.format(micro_recall_score))\n"
   ]
  },
  {
   "cell_type": "code",
   "execution_count": 27,
   "id": "c49a7050",
   "metadata": {},
   "outputs": [
    {
     "data": {
      "image/png": "[encoded data removed]",
      "text/plain": [
       "<Figure size 432x288 with 2 Axes>"
      ]
     },
     "metadata": {
      "needs_background": "light"
     },
     "output_type": "display_data"
    }
   ],
   "source": [
    "xgb_matrix = plot_confusion_matrix(boost_model,X_test, y_test)"
   ]
  },
  {
   "cell_type": "markdown",
   "id": "6d63f51c",
   "metadata": {},
   "source": [
    "# Model 2"
   ]
  },
  {
   "cell_type": "code",
   "execution_count": 28,
   "id": "0389d14e",
   "metadata": {},
   "outputs": [
    {
     "name": "stdout",
     "output_type": "stream",
     "text": [
      "<class 'pandas.core.frame.DataFrame'>\n",
      "Int64Index: 1323 entries, 1 to 6433\n",
      "Data columns (total 10 columns):\n",
      " #   Column        Non-Null Count  Dtype  \n",
      "---  ------        --------------  -----  \n",
      " 0   ticker        1323 non-null   object \n",
      " 1   sector        1323 non-null   object \n",
      " 2   vc_dummy      1323 non-null   object \n",
      " 3   rollup        1323 non-null   object \n",
      " 4   dual          1323 non-null   object \n",
      " 5   internet      1323 non-null   object \n",
      " 6   years_to_ipo  1323 non-null   int64  \n",
      " 7   day_1_%       1323 non-null   float64\n",
      " 8   month_7_%     1323 non-null   float64\n",
      " 9   successful    1323 non-null   int64  \n",
      "dtypes: float64(2), int64(2), object(6)\n",
      "memory usage: 113.7+ KB\n"
     ]
    }
   ],
   "source": [
    "data= data.dropna()\n",
    "\n",
    "data.info()"
   ]
  },
  {
   "cell_type": "code",
   "execution_count": 29,
   "id": "9d557306",
   "metadata": {},
   "outputs": [
    {
     "data": {
      "text/html": [
       "<div>\n",
       "<style scoped>\n",
       "    .dataframe tbody tr th:only-of-type {\n",
       "        vertical-align: middle;\n",
       "    }\n",
       "\n",
       "    .dataframe tbody tr th {\n",
       "        vertical-align: top;\n",
       "    }\n",
       "\n",
       "    .dataframe thead th {\n",
       "        text-align: right;\n",
       "    }\n",
       "</style>\n",
       "<table border=\"1\" class=\"dataframe\">\n",
       "  <thead>\n",
       "    <tr style=\"text-align: right;\">\n",
       "      <th></th>\n",
       "      <th>day_1_%</th>\n",
       "      <th>month_7_%</th>\n",
       "      <th>years_to_ipo</th>\n",
       "      <th>sector_Communication Services</th>\n",
       "      <th>sector_Conglomerates</th>\n",
       "      <th>sector_Consumer Cyclical</th>\n",
       "      <th>sector_Consumer Defensive</th>\n",
       "      <th>sector_Energy</th>\n",
       "      <th>sector_Financial Services</th>\n",
       "      <th>sector_Healthcare</th>\n",
       "      <th>...</th>\n",
       "      <th>sector_Other</th>\n",
       "      <th>sector_Real Estate</th>\n",
       "      <th>sector_Services</th>\n",
       "      <th>sector_Technology</th>\n",
       "      <th>sector_Utilities</th>\n",
       "      <th>vc_dummy_1</th>\n",
       "      <th>vc_dummy_2</th>\n",
       "      <th>rollup_1</th>\n",
       "      <th>dual_1</th>\n",
       "      <th>internet_1</th>\n",
       "    </tr>\n",
       "  </thead>\n",
       "  <tbody>\n",
       "    <tr>\n",
       "      <th>1</th>\n",
       "      <td>-0.032967</td>\n",
       "      <td>-0.009236</td>\n",
       "      <td>50</td>\n",
       "      <td>0</td>\n",
       "      <td>0</td>\n",
       "      <td>0</td>\n",
       "      <td>0</td>\n",
       "      <td>0</td>\n",
       "      <td>0</td>\n",
       "      <td>1</td>\n",
       "      <td>...</td>\n",
       "      <td>0</td>\n",
       "      <td>0</td>\n",
       "      <td>0</td>\n",
       "      <td>0</td>\n",
       "      <td>0</td>\n",
       "      <td>0</td>\n",
       "      <td>0</td>\n",
       "      <td>0</td>\n",
       "      <td>0</td>\n",
       "      <td>0</td>\n",
       "    </tr>\n",
       "    <tr>\n",
       "      <th>10</th>\n",
       "      <td>-0.167247</td>\n",
       "      <td>-0.078261</td>\n",
       "      <td>98</td>\n",
       "      <td>0</td>\n",
       "      <td>0</td>\n",
       "      <td>0</td>\n",
       "      <td>0</td>\n",
       "      <td>0</td>\n",
       "      <td>0</td>\n",
       "      <td>0</td>\n",
       "      <td>...</td>\n",
       "      <td>0</td>\n",
       "      <td>1</td>\n",
       "      <td>0</td>\n",
       "      <td>0</td>\n",
       "      <td>0</td>\n",
       "      <td>0</td>\n",
       "      <td>0</td>\n",
       "      <td>0</td>\n",
       "      <td>1</td>\n",
       "      <td>0</td>\n",
       "    </tr>\n",
       "    <tr>\n",
       "      <th>12</th>\n",
       "      <td>-0.043988</td>\n",
       "      <td>-0.193333</td>\n",
       "      <td>23</td>\n",
       "      <td>0</td>\n",
       "      <td>0</td>\n",
       "      <td>0</td>\n",
       "      <td>0</td>\n",
       "      <td>0</td>\n",
       "      <td>0</td>\n",
       "      <td>0</td>\n",
       "      <td>...</td>\n",
       "      <td>1</td>\n",
       "      <td>0</td>\n",
       "      <td>0</td>\n",
       "      <td>0</td>\n",
       "      <td>0</td>\n",
       "      <td>0</td>\n",
       "      <td>0</td>\n",
       "      <td>0</td>\n",
       "      <td>0</td>\n",
       "      <td>0</td>\n",
       "    </tr>\n",
       "    <tr>\n",
       "      <th>16</th>\n",
       "      <td>0.036853</td>\n",
       "      <td>-0.056920</td>\n",
       "      <td>30</td>\n",
       "      <td>0</td>\n",
       "      <td>0</td>\n",
       "      <td>1</td>\n",
       "      <td>0</td>\n",
       "      <td>0</td>\n",
       "      <td>0</td>\n",
       "      <td>0</td>\n",
       "      <td>...</td>\n",
       "      <td>0</td>\n",
       "      <td>0</td>\n",
       "      <td>0</td>\n",
       "      <td>0</td>\n",
       "      <td>0</td>\n",
       "      <td>0</td>\n",
       "      <td>0</td>\n",
       "      <td>0</td>\n",
       "      <td>0</td>\n",
       "      <td>0</td>\n",
       "    </tr>\n",
       "    <tr>\n",
       "      <th>18</th>\n",
       "      <td>-0.004292</td>\n",
       "      <td>-0.124130</td>\n",
       "      <td>8</td>\n",
       "      <td>0</td>\n",
       "      <td>0</td>\n",
       "      <td>0</td>\n",
       "      <td>0</td>\n",
       "      <td>0</td>\n",
       "      <td>0</td>\n",
       "      <td>0</td>\n",
       "      <td>...</td>\n",
       "      <td>0</td>\n",
       "      <td>0</td>\n",
       "      <td>0</td>\n",
       "      <td>1</td>\n",
       "      <td>0</td>\n",
       "      <td>1</td>\n",
       "      <td>0</td>\n",
       "      <td>0</td>\n",
       "      <td>0</td>\n",
       "      <td>0</td>\n",
       "    </tr>\n",
       "  </tbody>\n",
       "</table>\n",
       "<p>5 rows × 21 columns</p>\n",
       "</div>"
      ],
      "text/plain": [
       "     day_1_%  month_7_%  years_to_ipo  sector_Communication Services  \\\n",
       "1  -0.032967  -0.009236            50                              0   \n",
       "10 -0.167247  -0.078261            98                              0   \n",
       "12 -0.043988  -0.193333            23                              0   \n",
       "16  0.036853  -0.056920            30                              0   \n",
       "18 -0.004292  -0.124130             8                              0   \n",
       "\n",
       "    sector_Conglomerates  sector_Consumer Cyclical  sector_Consumer Defensive  \\\n",
       "1                      0                         0                          0   \n",
       "10                     0                         0                          0   \n",
       "12                     0                         0                          0   \n",
       "16                     0                         1                          0   \n",
       "18                     0                         0                          0   \n",
       "\n",
       "    sector_Energy  sector_Financial Services  sector_Healthcare  ...  \\\n",
       "1               0                          0                  1  ...   \n",
       "10              0                          0                  0  ...   \n",
       "12              0                          0                  0  ...   \n",
       "16              0                          0                  0  ...   \n",
       "18              0                          0                  0  ...   \n",
       "\n",
       "    sector_Other  sector_Real Estate  sector_Services  sector_Technology  \\\n",
       "1              0                   0                0                  0   \n",
       "10             0                   1                0                  0   \n",
       "12             1                   0                0                  0   \n",
       "16             0                   0                0                  0   \n",
       "18             0                   0                0                  1   \n",
       "\n",
       "    sector_Utilities  vc_dummy_1  vc_dummy_2  rollup_1  dual_1  internet_1  \n",
       "1                  0           0           0         0       0           0  \n",
       "10                 0           0           0         0       1           0  \n",
       "12                 0           0           0         0       0           0  \n",
       "16                 0           0           0         0       0           0  \n",
       "18                 0           1           0         0       0           0  \n",
       "\n",
       "[5 rows x 21 columns]"
      ]
     },
     "execution_count": 29,
     "metadata": {},
     "output_type": "execute_result"
    }
   ],
   "source": [
    "x_feats = ['sector',\n",
    "           'day_1_%', \n",
    "           'month_7_%',\n",
    "           'vc_dummy', \n",
    "           'rollup', \n",
    "           'dual', \n",
    "           'internet',\n",
    "           'years_to_ipo'\n",
    "           ]\n",
    "\n",
    "  \n",
    "\n",
    "X = pd.get_dummies(data[x_feats], drop_first=True)\n",
    "y = data['successful'].astype(int)\n",
    "X.head()"
   ]
  },
  {
   "cell_type": "code",
   "execution_count": 30,
   "id": "96bfd6cb",
   "metadata": {},
   "outputs": [],
   "source": [
    "X_train, X_test, y_train, y_test = train_test_split(X, y, random_state=0)"
   ]
  },
  {
   "cell_type": "markdown",
   "id": "a56cfcce",
   "metadata": {},
   "source": [
    "# Random Forest"
   ]
  },
  {
   "cell_type": "code",
   "execution_count": 31,
   "id": "84d626e4",
   "metadata": {},
   "outputs": [
    {
     "data": {
      "text/plain": [
       "GridSearchCV(cv=3, estimator=RandomForestClassifier(),\n",
       "             param_grid={'max_depth': [10, 15, 20],\n",
       "                         'min_samples_leaf': [3, 6, 9],\n",
       "                         'n_estimators': [25, 50, 100]},\n",
       "             return_train_score=True)"
      ]
     },
     "execution_count": 31,
     "metadata": {},
     "output_type": "execute_result"
    }
   ],
   "source": [
    "rf = RandomForestClassifier()\n",
    "\n",
    "grid = {'n_estimators': [25, 50, 100], \n",
    "        'max_depth' : [10, 15, 20], \n",
    "        'min_samples_leaf' : [3, 6, 9]} \n",
    " \n",
    "gridsearch = GridSearchCV(rf,grid,cv = 3, return_train_score=True)\n",
    "\n",
    "gridsearch.fit(X_train, y_train) "
   ]
  },
  {
   "cell_type": "code",
   "execution_count": 32,
   "id": "67cef298",
   "metadata": {},
   "outputs": [
    {
     "name": "stdout",
     "output_type": "stream",
     "text": [
      "{'max_depth': 15, 'min_samples_leaf': 9, 'n_estimators': 25}\n"
     ]
    }
   ],
   "source": [
    "print(gridsearch.best_params_)"
   ]
  },
  {
   "cell_type": "code",
   "execution_count": 33,
   "id": "fc375b62",
   "metadata": {},
   "outputs": [],
   "source": [
    "# random forest for feature importance on a regression problem\n",
    "\n",
    "# define the model\n",
    "ran_for = RandomForestClassifier(n_estimators = 100,\n",
    "                              max_depth = 15, \n",
    "                              min_samples_leaf = 6)\n",
    "\n",
    "# fit the model\n",
    "ran_for.fit(X_train, y_train)\n",
    "y_hat_train = ran_for.predict(X_train)"
   ]
  },
  {
   "cell_type": "markdown",
   "id": "93ed9495",
   "metadata": {},
   "source": [
    "**Model 2 RF Evaluation**"
   ]
  },
  {
   "cell_type": "code",
   "execution_count": 34,
   "id": "7a54d002",
   "metadata": {},
   "outputs": [
    {
     "name": "stdout",
     "output_type": "stream",
     "text": [
      "Accuracy Score: 0.7973790322580645\n",
      "Macro Precision Score: 0.789508946977818\n",
      "Micro Precision Score: 0.7973790322580645\n",
      "Macro Recall Score: 0.7509840716663316\n",
      "Micro Recall Score: 0.7973790322580645\n"
     ]
    }
   ],
   "source": [
    "acc = accuracy_score(y_train,y_hat_train)\n",
    "macro_precision_score=precision_score(y_train, y_hat_train, average='macro')\n",
    "micro_precision_score=precision_score(y_train , y_hat_train, average='micro')\n",
    "macro_recall_score=recall_score(y_train, y_hat_train, average='macro')\n",
    "micro_recall_score=recall_score(y_train, y_hat_train, average='micro')\n",
    "\n",
    "print('Accuracy Score: {}'.format(acc))\n",
    "print('Macro Precision Score: {}'.format(macro_precision_score))\n",
    "print('Micro Precision Score: {}'.format(micro_precision_score))\n",
    "print('Macro Recall Score: {}'.format(macro_recall_score))\n",
    "print('Micro Recall Score: {}'.format(micro_recall_score))"
   ]
  },
  {
   "cell_type": "code",
   "execution_count": 35,
   "id": "fa6f8b77",
   "metadata": {},
   "outputs": [
    {
     "name": "stdout",
     "output_type": "stream",
     "text": [
      "Macro Precision Score: 0.6847345237090854\n",
      "Micro Precision Score: 0.7127587192681533\n",
      "Accuracy Score: 0.7127587192681533\n"
     ]
    }
   ],
   "source": [
    "scoring = ['precision_macro', 'precision_micro','accuracy']\n",
    "scores = cross_validate(ran_for, X, y, scoring=scoring)\n",
    "\n",
    "precision_macro_list = list(scores['test_precision_macro'])\n",
    "precision_macro_avg = sum(precision_macro_list)/len(precision_macro_list)\n",
    "\n",
    "\n",
    "precision_micro_list = list(scores['test_precision_micro'])\n",
    "precision_micro_avg = sum(precision_micro_list)/len(precision_micro_list)\n",
    "\n",
    "\n",
    "accuracy_list = list(scores['test_accuracy'])\n",
    "accuracy_avg = sum(accuracy_list)/len(accuracy_list)\n",
    "\n",
    "print('Macro Precision Score: {}'.format(precision_macro_avg))\n",
    "print('Micro Precision Score: {}'.format(precision_micro_avg))\n",
    "print('Accuracy Score: {}'.format(accuracy_avg))"
   ]
  },
  {
   "cell_type": "code",
   "execution_count": 36,
   "id": "579e43d1",
   "metadata": {},
   "outputs": [
    {
     "data": {
      "image/png": "[encoded data removed]",
      "text/plain": [
       "<Figure size 432x288 with 2 Axes>"
      ]
     },
     "metadata": {
      "needs_background": "light"
     },
     "output_type": "display_data"
    }
   ],
   "source": [
    "rf_matrix = plot_confusion_matrix(ran_for,X_train, y_train)"
   ]
  },
  {
   "cell_type": "markdown",
   "id": "1bb7075e",
   "metadata": {},
   "source": [
    "# XGBoost"
   ]
  },
  {
   "cell_type": "code",
   "execution_count": 37,
   "id": "cca8c16c",
   "metadata": {},
   "outputs": [
    {
     "data": {
      "text/plain": [
       "GridSearchCV(cv=3,\n",
       "             estimator=XGBClassifier(base_score=None, booster=None,\n",
       "                                     colsample_bylevel=None,\n",
       "                                     colsample_bynode=None,\n",
       "                                     colsample_bytree=None,\n",
       "                                     eval_metric='mlogloss', gamma=None,\n",
       "                                     gpu_id=None, importance_type='gain',\n",
       "                                     interaction_constraints=None,\n",
       "                                     learning_rate=None, max_delta_step=None,\n",
       "                                     max_depth=None, min_child_weight=None,\n",
       "                                     missing=nan, monotone_constraints=None,\n",
       "                                     n_estimators=100, n_jobs=None,\n",
       "                                     num_parallel_tree=None, random_state=42,\n",
       "                                     reg_alpha=None, reg_lambda=None,\n",
       "                                     scale_pos_weight=None, subsample=None,\n",
       "                                     tree_method=None, use_label_encoder=False,\n",
       "                                     validate_parameters=None, verbosity=None),\n",
       "             param_grid={'gamma': [5, 10, 15], 'max_depth': [6, 12, 20],\n",
       "                         'min_child_weight': [0.5, 1], 'reg_alpha': [0, 30]},\n",
       "             return_train_score=True)"
      ]
     },
     "execution_count": 37,
     "metadata": {},
     "output_type": "execute_result"
    }
   ],
   "source": [
    "# We ran the following GridSearch for XGBClassifier to find the optimal hyperparameter values.\n",
    "\n",
    "xgb = XGBClassifier(random_state=42, use_label_encoder=False, eval_metric ='mlogloss')\n",
    "\n",
    "grid = {'max_depth': [6, 12, 20], \n",
    "        'min_child_weight' : [.5, 1], \n",
    "        'reg_alpha': [0,30],\n",
    "       'gamma': [5,10,15]} \n",
    "\n",
    " \n",
    "gridsearch = GridSearchCV(xgb,grid,cv = 3, return_train_score=True)\n",
    "\n",
    "gridsearch.fit(X_train, y_train) "
   ]
  },
  {
   "cell_type": "code",
   "execution_count": 38,
   "id": "d43bab94",
   "metadata": {},
   "outputs": [
    {
     "name": "stdout",
     "output_type": "stream",
     "text": [
      "{'gamma': 5, 'max_depth': 6, 'min_child_weight': 1, 'reg_alpha': 0}\n"
     ]
    }
   ],
   "source": [
    "print(gridsearch.best_params_)"
   ]
  },
  {
   "cell_type": "code",
   "execution_count": 39,
   "id": "78bbfd99",
   "metadata": {},
   "outputs": [
    {
     "name": "stdout",
     "output_type": "stream",
     "text": [
      "fit model\n",
      "predicted on model\n"
     ]
    }
   ],
   "source": [
    "boost_model = XGBClassifier( \n",
    "    max_depth = 20,\n",
    "    min_child_weight = 0.5,\n",
    "    gamma = 5,\n",
    "    eval_metric='mlogloss',\n",
    "    use_label_encoder=False\n",
    ")\n",
    "\n",
    "boost_model.fit(X_train, y_train)\n",
    "print(\"fit model\")\n",
    "    \n",
    "y_hat_train = boost_model.predict(X_train)\n",
    "print(\"predicted on model\")"
   ]
  },
  {
   "cell_type": "markdown",
   "id": "fd1c2547",
   "metadata": {},
   "source": [
    "**Model 2 XGBoost Validation**"
   ]
  },
  {
   "cell_type": "code",
   "execution_count": 40,
   "id": "d45cc5fb",
   "metadata": {},
   "outputs": [
    {
     "name": "stdout",
     "output_type": "stream",
     "text": [
      "Accuracy Score: 0.7923387096774194\n",
      "Macro Precision Score: 0.7776960748268307\n",
      "Micro Precision Score: 0.7923387096774194\n",
      "Macro Recall Score: 0.7530996581998526\n",
      "Micro Recall Score: 0.7923387096774194\n"
     ]
    }
   ],
   "source": [
    "acc = accuracy_score(y_train,y_hat_train)\n",
    "macro_precision_score=precision_score(y_train, y_hat_train, average='macro')\n",
    "micro_precision_score=precision_score(y_train , y_hat_train, average='micro')\n",
    "macro_recall_score=recall_score(y_train, y_hat_train, average='macro')\n",
    "micro_recall_score=recall_score(y_train, y_hat_train, average='micro')\n",
    "\n",
    "print('Accuracy Score: {}'.format(acc))\n",
    "print('Macro Precision Score: {}'.format(macro_precision_score))\n",
    "print('Micro Precision Score: {}'.format(micro_precision_score))\n",
    "print('Macro Recall Score: {}'.format(macro_recall_score))\n",
    "print('Micro Recall Score: {}'.format(micro_recall_score))"
   ]
  },
  {
   "cell_type": "code",
   "execution_count": 41,
   "id": "f0ea4b48",
   "metadata": {
    "scrolled": true
   },
   "outputs": [
    {
     "name": "stdout",
     "output_type": "stream",
     "text": [
      "Macro Precision Score: 0.667653257756009\n",
      "Micro Precision Score: 0.7021612349914236\n",
      "Accuracy Score: 0.7021612349914236\n"
     ]
    }
   ],
   "source": [
    "scoring = ['precision_macro', 'precision_micro','accuracy']\n",
    "scores = cross_validate(boost_model, X, y, scoring=scoring)\n",
    "\n",
    "precision_macro_list = list(scores['test_precision_macro'])\n",
    "precision_macro_avg = sum(precision_macro_list)/len(precision_macro_list)\n",
    "\n",
    "\n",
    "precision_micro_list = list(scores['test_precision_micro'])\n",
    "precision_micro_avg = sum(precision_micro_list)/len(precision_micro_list)\n",
    "\n",
    "\n",
    "accuracy_list = list(scores['test_accuracy'])\n",
    "accuracy_avg = sum(accuracy_list)/len(accuracy_list)\n",
    "\n",
    "print('Macro Precision Score: {}'.format(precision_macro_avg))\n",
    "print('Micro Precision Score: {}'.format(precision_micro_avg))\n",
    "print('Accuracy Score: {}'.format(accuracy_avg))"
   ]
  },
  {
   "cell_type": "code",
   "execution_count": 42,
   "id": "4bae86e7",
   "metadata": {},
   "outputs": [
    {
     "data": {
      "image/png": "[encoded data removed]",
      "text/plain": [
       "<Figure size 432x288 with 2 Axes>"
      ]
     },
     "metadata": {
      "needs_background": "light"
     },
     "output_type": "display_data"
    }
   ],
   "source": [
    "rgb_matrix = plot_confusion_matrix(boost_model,X_train, y_train)"
   ]
  },
  {
   "cell_type": "markdown",
   "id": "0c31ba36",
   "metadata": {},
   "source": [
    "# **Model 2 Deployment on Test Data**"
   ]
  },
  {
   "cell_type": "markdown",
   "id": "392f3d78",
   "metadata": {},
   "source": [
    "**XGBoost** was the better performing model "
   ]
  },
  {
   "cell_type": "code",
   "execution_count": 43,
   "id": "16894b93",
   "metadata": {},
   "outputs": [
    {
     "name": "stdout",
     "output_type": "stream",
     "text": [
      "fit model\n"
     ]
    }
   ],
   "source": [
    "boost_model = XGBClassifier( \n",
    "    max_depth = 20,\n",
    "    min_child_weight = 0.5,\n",
    "    gamma = 5,\n",
    "    eval_metric='mlogloss',\n",
    "    use_label_encoder=False\n",
    ")\n",
    "boost_model.fit(X_train, y_train)\n",
    "print(\"fit model\")"
   ]
  },
  {
   "cell_type": "code",
   "execution_count": 44,
   "id": "7cb8d0aa",
   "metadata": {},
   "outputs": [
    {
     "name": "stdout",
     "output_type": "stream",
     "text": [
      "predicted on model\n"
     ]
    }
   ],
   "source": [
    "y_hat_test = boost_model.predict(X_test)\n",
    "print(\"predicted on model\")"
   ]
  },
  {
   "cell_type": "code",
   "execution_count": 45,
   "id": "621e0720",
   "metadata": {},
   "outputs": [
    {
     "name": "stdout",
     "output_type": "stream",
     "text": [
      "Accuracy Score: 0.7220543806646526\n",
      "Macro Precision Score: 0.6841382301908617\n",
      "Micro Precision Score: 0.7220543806646526\n",
      "Macro Recall Score: 0.6571575483340188\n",
      "Micro Recall Score: 0.7220543806646526\n"
     ]
    }
   ],
   "source": [
    "acc = accuracy_score(y_test, y_hat_test)\n",
    "macro_precision_score=precision_score(y_test, y_hat_test, average='macro')\n",
    "micro_precision_score=precision_score(y_test, y_hat_test, average='micro')\n",
    "macro_recall_score=recall_score(y_test, y_hat_test, average='macro')\n",
    "micro_recall_score=recall_score(y_test, y_hat_test, average='micro')\n",
    "\n",
    "print('Accuracy Score: {}'.format(acc))\n",
    "print('Macro Precision Score: {}'.format(macro_precision_score))\n",
    "print('Micro Precision Score: {}'.format(micro_precision_score))\n",
    "print('Macro Recall Score: {}'.format(macro_recall_score))\n",
    "print('Micro Recall Score: {}'.format(micro_recall_score))"
   ]
  }
 ],
 "metadata": {
  "kernelspec": {
   "display_name": "Python 3",
   "language": "python",
   "name": "python3"
  },
  "language_info": {
   "codemirror_mode": {
    "name": "ipython",
    "version": 3
   },
   "file_extension": ".py",
   "mimetype": "text/x-python",
   "name": "python",
   "nbconvert_exporter": "python",
   "pygments_lexer": "ipython3",
   "version": "3.8.8"
  }
 },
 "nbformat": 4,
 "nbformat_minor": 5
}
