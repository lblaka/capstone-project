{
 "cells": [
  {
   "cell_type": "code",
   "execution_count": 1,
   "id": "dd96e2af",
   "metadata": {},
   "outputs": [],
   "source": [
    "import pandas as pd\n",
    "import joblib \n",
    "import numpy as np \n",
    "\n",
    "\n",
    "from sklearn.metrics import confusion_matrix, plot_confusion_matrix,\\\n",
    "    precision_score, recall_score, accuracy_score, f1_score, log_loss,\\\n",
    "    roc_curve, roc_auc_score, classification_report\n"
   ]
  },
  {
   "cell_type": "code",
   "execution_count": 2,
   "id": "f841aabe",
   "metadata": {},
   "outputs": [],
   "source": [
    "baseline_df = joblib.load(\"ipo_stats.pkl\")"
   ]
  },
  {
   "cell_type": "raw",
   "id": "13f463dc",
   "metadata": {},
   "source": [
    "Rollup is a 0-1 dummy variable for whether the IPO was a rollup\n",
    "VC is a dummy with 1 for VC and 2 for a subset of VC that I call growth capital\n",
    "Dual is a dummy for multiple share class IPOs\n",
    "Post-issue shares is listed only for dual class IPOs, and includes all share classes (basic, not fully diluted)\n",
    "\n",
    "Closed-end funds, REITs, and SPACs are not included\n",
    "\n",
    "Internet is a dummy with 1 if it is an internet-based  company\n",
    "Founding is the founding date of the company"
   ]
  },
  {
   "cell_type": "markdown",
   "id": "dcf0f79a",
   "metadata": {},
   "source": [
    "**Define Dependent Variable**"
   ]
  },
  {
   "cell_type": "code",
   "execution_count": 3,
   "id": "2593546b",
   "metadata": {},
   "outputs": [],
   "source": [
    "baseline_df['delta_close'] = baseline_df['offer_price'] - baseline_df['1st_day_close']"
   ]
  },
  {
   "cell_type": "code",
   "execution_count": 4,
   "id": "6dd0c59e",
   "metadata": {},
   "outputs": [],
   "source": [
    "# create function to normalize data\n",
    "def normalize_data(data):\n",
    "    return (data - np.min(data)) / (np.max(data) - np.min(data))\n",
    "baseline_df['delta_close_norm'] = normalize_data(baseline_df['delta_close'])"
   ]
  },
  {
   "cell_type": "code",
   "execution_count": 5,
   "id": "46ae338c",
   "metadata": {},
   "outputs": [
    {
     "data": {
      "text/plain": [
       "True     6284\n",
       "False    2099\n",
       "Name: ipo_success, dtype: int64"
      ]
     },
     "execution_count": 5,
     "metadata": {},
     "output_type": "execute_result"
    }
   ],
   "source": [
    "baseline_df['ipo_success'] = baseline_df['delta_close_norm']>=.9\n",
    "baseline_df['ipo_success'].value_counts()"
   ]
  },
  {
   "cell_type": "markdown",
   "id": "155499d4",
   "metadata": {},
   "source": [
    "**Feature Engineering**"
   ]
  },
  {
   "cell_type": "code",
   "execution_count": 6,
   "id": "638f9faa",
   "metadata": {},
   "outputs": [],
   "source": [
    "def delta_years(df,col1,col2):\n",
    "    df[col1] = df[col1].astype(str)\n",
    "    df[col2] = df[col2].str.replace('.','0').astype(int)\n",
    "    df[col1] = df[col1].map(lambda x: int(x[:4]))\n",
    "    delta = df[col1]-df[col2]\n",
    "    return delta\n",
    "\n"
   ]
  },
  {
   "cell_type": "code",
   "execution_count": 7,
   "id": "5a80c3ef",
   "metadata": {},
   "outputs": [
    {
     "name": "stderr",
     "output_type": "stream",
     "text": [
      "<ipython-input-6-9fc5f488b097>:3: FutureWarning: The default value of regex will change from True to False in a future version. In addition, single character regular expressions will*not* be treated as literal strings when regex=True.\n",
      "  df[col2] = df[col2].str.replace('.','0').astype(int)\n"
     ]
    }
   ],
   "source": [
    "baseline_df['years_to_ipo'] = delta_years(baseline_df,'trade_date','founding')    \n"
   ]
  },
  {
   "cell_type": "code",
   "execution_count": 8,
   "id": "8ee76d85",
   "metadata": {},
   "outputs": [
    {
     "name": "stdout",
     "output_type": "stream",
     "text": [
      "<class 'pandas.core.frame.DataFrame'>\n",
      "Int64Index: 8383 entries, 0 to 9630\n",
      "Data columns (total 18 columns):\n",
      " #   Column             Non-Null Count  Dtype  \n",
      "---  ------             --------------  -----  \n",
      " 0   trade_date         8383 non-null   int64  \n",
      " 1   company_name       8383 non-null   object \n",
      " 2   ticker             8383 non-null   object \n",
      " 3   offer_price        8383 non-null   float64\n",
      " 4   opening_price      8383 non-null   float64\n",
      " 5   1st_day_close      8383 non-null   float64\n",
      " 6   star_ratings       8383 non-null   object \n",
      " 7   managers           8383 non-null   object \n",
      " 8   founding           8383 non-null   int64  \n",
      " 9   vc_dummy           8383 non-null   object \n",
      " 10  rollup             8383 non-null   object \n",
      " 11  dual               8383 non-null   object \n",
      " 12  post-issue_shares  8383 non-null   float64\n",
      " 13  internet           8383 non-null   object \n",
      " 14  delta_close        8383 non-null   float64\n",
      " 15  delta_close_norm   8383 non-null   float64\n",
      " 16  ipo_success        8383 non-null   bool   \n",
      " 17  years_to_ipo       8383 non-null   int64  \n",
      "dtypes: bool(1), float64(6), int64(3), object(8)\n",
      "memory usage: 1.2+ MB\n"
     ]
    }
   ],
   "source": [
    "baseline_df.info()"
   ]
  },
  {
   "cell_type": "code",
   "execution_count": 9,
   "id": "a4e44497",
   "metadata": {},
   "outputs": [],
   "source": [
    "baseline_df.drop(baseline_df.columns[np.r_[0:6,8,12,14,15]], axis=1, inplace=True)"
   ]
  },
  {
   "cell_type": "code",
   "execution_count": 10,
   "id": "57fb85c6",
   "metadata": {},
   "outputs": [
    {
     "data": {
      "text/html": [
       "<div>\n",
       "<style scoped>\n",
       "    .dataframe tbody tr th:only-of-type {\n",
       "        vertical-align: middle;\n",
       "    }\n",
       "\n",
       "    .dataframe tbody tr th {\n",
       "        vertical-align: top;\n",
       "    }\n",
       "\n",
       "    .dataframe thead th {\n",
       "        text-align: right;\n",
       "    }\n",
       "</style>\n",
       "<table border=\"1\" class=\"dataframe\">\n",
       "  <thead>\n",
       "    <tr style=\"text-align: right;\">\n",
       "      <th></th>\n",
       "      <th>star_ratings</th>\n",
       "      <th>managers</th>\n",
       "      <th>vc_dummy</th>\n",
       "      <th>rollup</th>\n",
       "      <th>dual</th>\n",
       "      <th>internet</th>\n",
       "      <th>ipo_success</th>\n",
       "      <th>years_to_ipo</th>\n",
       "    </tr>\n",
       "  </thead>\n",
       "  <tbody>\n",
       "    <tr>\n",
       "      <th>0</th>\n",
       "      <td>2</td>\n",
       "      <td>Jefferies</td>\n",
       "      <td>0</td>\n",
       "      <td>.</td>\n",
       "      <td>1</td>\n",
       "      <td>0</td>\n",
       "      <td>True</td>\n",
       "      <td>6</td>\n",
       "    </tr>\n",
       "    <tr>\n",
       "      <th>1</th>\n",
       "      <td>1</td>\n",
       "      <td>Credit Suisse</td>\n",
       "      <td>1</td>\n",
       "      <td>.</td>\n",
       "      <td>1</td>\n",
       "      <td>0</td>\n",
       "      <td>True</td>\n",
       "      <td>10</td>\n",
       "    </tr>\n",
       "    <tr>\n",
       "      <th>2</th>\n",
       "      <td>1</td>\n",
       "      <td>Citigroup</td>\n",
       "      <td>0</td>\n",
       "      <td>.</td>\n",
       "      <td>1</td>\n",
       "      <td>0</td>\n",
       "      <td>True</td>\n",
       "      <td>5</td>\n",
       "    </tr>\n",
       "    <tr>\n",
       "      <th>3</th>\n",
       "      <td>1</td>\n",
       "      <td>Wells Fargo Securities</td>\n",
       "      <td>2</td>\n",
       "      <td>0</td>\n",
       "      <td>0</td>\n",
       "      <td>0</td>\n",
       "      <td>True</td>\n",
       "      <td>16</td>\n",
       "    </tr>\n",
       "    <tr>\n",
       "      <th>6</th>\n",
       "      <td>1</td>\n",
       "      <td>WestPark Capital</td>\n",
       "      <td>0</td>\n",
       "      <td>0</td>\n",
       "      <td>1</td>\n",
       "      <td>0</td>\n",
       "      <td>True</td>\n",
       "      <td>10</td>\n",
       "    </tr>\n",
       "    <tr>\n",
       "      <th>...</th>\n",
       "      <td>...</td>\n",
       "      <td>...</td>\n",
       "      <td>...</td>\n",
       "      <td>...</td>\n",
       "      <td>...</td>\n",
       "      <td>...</td>\n",
       "      <td>...</td>\n",
       "      <td>...</td>\n",
       "    </tr>\n",
       "    <tr>\n",
       "      <th>9626</th>\n",
       "      <td>1</td>\n",
       "      <td>Wells Fargo Securities</td>\n",
       "      <td>1</td>\n",
       "      <td>0</td>\n",
       "      <td>0</td>\n",
       "      <td>0</td>\n",
       "      <td>True</td>\n",
       "      <td>37</td>\n",
       "    </tr>\n",
       "    <tr>\n",
       "      <th>9627</th>\n",
       "      <td>1</td>\n",
       "      <td>Wells Fargo Securities</td>\n",
       "      <td>0</td>\n",
       "      <td>0</td>\n",
       "      <td>1</td>\n",
       "      <td>0</td>\n",
       "      <td>True</td>\n",
       "      <td>26</td>\n",
       "    </tr>\n",
       "    <tr>\n",
       "      <th>9628</th>\n",
       "      <td>2</td>\n",
       "      <td>Wells Fargo Securities</td>\n",
       "      <td>2</td>\n",
       "      <td>0</td>\n",
       "      <td>0</td>\n",
       "      <td>0</td>\n",
       "      <td>True</td>\n",
       "      <td>19</td>\n",
       "    </tr>\n",
       "    <tr>\n",
       "      <th>9629</th>\n",
       "      <td>3</td>\n",
       "      <td>Baird</td>\n",
       "      <td>0</td>\n",
       "      <td>0</td>\n",
       "      <td>0</td>\n",
       "      <td>0</td>\n",
       "      <td>True</td>\n",
       "      <td>35</td>\n",
       "    </tr>\n",
       "    <tr>\n",
       "      <th>9630</th>\n",
       "      <td>3</td>\n",
       "      <td>William Blair</td>\n",
       "      <td>0</td>\n",
       "      <td>0</td>\n",
       "      <td>0</td>\n",
       "      <td>0</td>\n",
       "      <td>True</td>\n",
       "      <td>35</td>\n",
       "    </tr>\n",
       "  </tbody>\n",
       "</table>\n",
       "<p>8383 rows × 8 columns</p>\n",
       "</div>"
      ],
      "text/plain": [
       "     star_ratings                 managers vc_dummy rollup dual internet  \\\n",
       "0               2               Jefferies         0      .    1        0   \n",
       "1               1           Credit Suisse         1      .    1        0   \n",
       "2               1               Citigroup         0      .    1        0   \n",
       "3               1  Wells Fargo Securities         2      0    0        0   \n",
       "6               1         WestPark Capital        0      0    1        0   \n",
       "...           ...                      ...      ...    ...  ...      ...   \n",
       "9626            1   Wells Fargo Securities        1      0    0        0   \n",
       "9627            1   Wells Fargo Securities        0      0    1        0   \n",
       "9628            2   Wells Fargo Securities        2      0    0        0   \n",
       "9629            3                   Baird         0      0    0        0   \n",
       "9630            3            William Blair        0      0    0        0   \n",
       "\n",
       "      ipo_success  years_to_ipo  \n",
       "0            True             6  \n",
       "1            True            10  \n",
       "2            True             5  \n",
       "3            True            16  \n",
       "6            True            10  \n",
       "...           ...           ...  \n",
       "9626         True            37  \n",
       "9627         True            26  \n",
       "9628         True            19  \n",
       "9629         True            35  \n",
       "9630         True            35  \n",
       "\n",
       "[8383 rows x 8 columns]"
      ]
     },
     "execution_count": 10,
     "metadata": {},
     "output_type": "execute_result"
    }
   ],
   "source": [
    "baseline_df"
   ]
  },
  {
   "cell_type": "markdown",
   "id": "429bf3ee",
   "metadata": {},
   "source": [
    "# Baseline Model"
   ]
  },
  {
   "cell_type": "code",
   "execution_count": 11,
   "id": "7812d23f",
   "metadata": {
    "scrolled": true
   },
   "outputs": [
    {
     "name": "stdout",
     "output_type": "stream",
     "text": [
      "<class 'pandas.core.frame.DataFrame'>\n",
      "Int64Index: 8383 entries, 0 to 9630\n",
      "Data columns (total 8 columns):\n",
      " #   Column        Non-Null Count  Dtype \n",
      "---  ------        --------------  ----- \n",
      " 0   star_ratings  8383 non-null   object\n",
      " 1   managers      8383 non-null   object\n",
      " 2   vc_dummy      8383 non-null   object\n",
      " 3   rollup        8383 non-null   object\n",
      " 4   dual          8383 non-null   object\n",
      " 5   internet      8383 non-null   object\n",
      " 6   ipo_success   8383 non-null   bool  \n",
      " 7   years_to_ipo  8383 non-null   int64 \n",
      "dtypes: bool(1), int64(1), object(6)\n",
      "memory usage: 532.1+ KB\n"
     ]
    }
   ],
   "source": [
    "baseline_df.info()"
   ]
  },
  {
   "cell_type": "code",
   "execution_count": 12,
   "id": "1480f1e2",
   "metadata": {},
   "outputs": [
    {
     "data": {
      "text/html": [
       "<div>\n",
       "<style scoped>\n",
       "    .dataframe tbody tr th:only-of-type {\n",
       "        vertical-align: middle;\n",
       "    }\n",
       "\n",
       "    .dataframe tbody tr th {\n",
       "        vertical-align: top;\n",
       "    }\n",
       "\n",
       "    .dataframe thead th {\n",
       "        text-align: right;\n",
       "    }\n",
       "</style>\n",
       "<table border=\"1\" class=\"dataframe\">\n",
       "  <thead>\n",
       "    <tr style=\"text-align: right;\">\n",
       "      <th></th>\n",
       "      <th>years_to_ipo</th>\n",
       "      <th>star_ratings_2</th>\n",
       "      <th>star_ratings_3</th>\n",
       "      <th>star_ratings_4</th>\n",
       "      <th>star_ratings_5</th>\n",
       "      <th>star_ratings_N/C</th>\n",
       "      <th>star_ratings_NC</th>\n",
       "      <th>managers_</th>\n",
       "      <th>managers_  RBC Capital Markets</th>\n",
       "      <th>managers_ A.G.P.</th>\n",
       "      <th>...</th>\n",
       "      <th>vc_dummy_2</th>\n",
       "      <th>rollup_0</th>\n",
       "      <th>rollup_1</th>\n",
       "      <th>dual_0</th>\n",
       "      <th>dual_1</th>\n",
       "      <th>dual_2</th>\n",
       "      <th>dual_9</th>\n",
       "      <th>internet_0</th>\n",
       "      <th>internet_1</th>\n",
       "      <th>internet_9</th>\n",
       "    </tr>\n",
       "  </thead>\n",
       "  <tbody>\n",
       "    <tr>\n",
       "      <th>0</th>\n",
       "      <td>6</td>\n",
       "      <td>1</td>\n",
       "      <td>0</td>\n",
       "      <td>0</td>\n",
       "      <td>0</td>\n",
       "      <td>0</td>\n",
       "      <td>0</td>\n",
       "      <td>0</td>\n",
       "      <td>0</td>\n",
       "      <td>0</td>\n",
       "      <td>...</td>\n",
       "      <td>0</td>\n",
       "      <td>0</td>\n",
       "      <td>0</td>\n",
       "      <td>0</td>\n",
       "      <td>1</td>\n",
       "      <td>0</td>\n",
       "      <td>0</td>\n",
       "      <td>1</td>\n",
       "      <td>0</td>\n",
       "      <td>0</td>\n",
       "    </tr>\n",
       "    <tr>\n",
       "      <th>1</th>\n",
       "      <td>10</td>\n",
       "      <td>0</td>\n",
       "      <td>0</td>\n",
       "      <td>0</td>\n",
       "      <td>0</td>\n",
       "      <td>0</td>\n",
       "      <td>0</td>\n",
       "      <td>0</td>\n",
       "      <td>0</td>\n",
       "      <td>0</td>\n",
       "      <td>...</td>\n",
       "      <td>0</td>\n",
       "      <td>0</td>\n",
       "      <td>0</td>\n",
       "      <td>0</td>\n",
       "      <td>1</td>\n",
       "      <td>0</td>\n",
       "      <td>0</td>\n",
       "      <td>1</td>\n",
       "      <td>0</td>\n",
       "      <td>0</td>\n",
       "    </tr>\n",
       "    <tr>\n",
       "      <th>2</th>\n",
       "      <td>5</td>\n",
       "      <td>0</td>\n",
       "      <td>0</td>\n",
       "      <td>0</td>\n",
       "      <td>0</td>\n",
       "      <td>0</td>\n",
       "      <td>0</td>\n",
       "      <td>0</td>\n",
       "      <td>0</td>\n",
       "      <td>0</td>\n",
       "      <td>...</td>\n",
       "      <td>0</td>\n",
       "      <td>0</td>\n",
       "      <td>0</td>\n",
       "      <td>0</td>\n",
       "      <td>1</td>\n",
       "      <td>0</td>\n",
       "      <td>0</td>\n",
       "      <td>1</td>\n",
       "      <td>0</td>\n",
       "      <td>0</td>\n",
       "    </tr>\n",
       "    <tr>\n",
       "      <th>3</th>\n",
       "      <td>16</td>\n",
       "      <td>0</td>\n",
       "      <td>0</td>\n",
       "      <td>0</td>\n",
       "      <td>0</td>\n",
       "      <td>0</td>\n",
       "      <td>0</td>\n",
       "      <td>0</td>\n",
       "      <td>0</td>\n",
       "      <td>0</td>\n",
       "      <td>...</td>\n",
       "      <td>1</td>\n",
       "      <td>1</td>\n",
       "      <td>0</td>\n",
       "      <td>1</td>\n",
       "      <td>0</td>\n",
       "      <td>0</td>\n",
       "      <td>0</td>\n",
       "      <td>1</td>\n",
       "      <td>0</td>\n",
       "      <td>0</td>\n",
       "    </tr>\n",
       "    <tr>\n",
       "      <th>6</th>\n",
       "      <td>10</td>\n",
       "      <td>0</td>\n",
       "      <td>0</td>\n",
       "      <td>0</td>\n",
       "      <td>0</td>\n",
       "      <td>0</td>\n",
       "      <td>0</td>\n",
       "      <td>0</td>\n",
       "      <td>0</td>\n",
       "      <td>0</td>\n",
       "      <td>...</td>\n",
       "      <td>0</td>\n",
       "      <td>1</td>\n",
       "      <td>0</td>\n",
       "      <td>0</td>\n",
       "      <td>1</td>\n",
       "      <td>0</td>\n",
       "      <td>0</td>\n",
       "      <td>1</td>\n",
       "      <td>0</td>\n",
       "      <td>0</td>\n",
       "    </tr>\n",
       "  </tbody>\n",
       "</table>\n",
       "<p>5 rows × 770 columns</p>\n",
       "</div>"
      ],
      "text/plain": [
       "   years_to_ipo  star_ratings_2  star_ratings_3  star_ratings_4  \\\n",
       "0             6               1               0               0   \n",
       "1            10               0               0               0   \n",
       "2             5               0               0               0   \n",
       "3            16               0               0               0   \n",
       "6            10               0               0               0   \n",
       "\n",
       "   star_ratings_5  star_ratings_N/C  star_ratings_NC  managers_   \\\n",
       "0               0                 0                0           0   \n",
       "1               0                 0                0           0   \n",
       "2               0                 0                0           0   \n",
       "3               0                 0                0           0   \n",
       "6               0                 0                0           0   \n",
       "\n",
       "   managers_  RBC Capital Markets  managers_ A.G.P.  ...  vc_dummy_2  \\\n",
       "0                               0                 0  ...           0   \n",
       "1                               0                 0  ...           0   \n",
       "2                               0                 0  ...           0   \n",
       "3                               0                 0  ...           1   \n",
       "6                               0                 0  ...           0   \n",
       "\n",
       "   rollup_0  rollup_1  dual_0  dual_1  dual_2  dual_9  internet_0  internet_1  \\\n",
       "0         0         0       0       1       0       0           1           0   \n",
       "1         0         0       0       1       0       0           1           0   \n",
       "2         0         0       0       1       0       0           1           0   \n",
       "3         1         0       1       0       0       0           1           0   \n",
       "6         1         0       0       1       0       0           1           0   \n",
       "\n",
       "   internet_9  \n",
       "0           0  \n",
       "1           0  \n",
       "2           0  \n",
       "3           0  \n",
       "6           0  \n",
       "\n",
       "[5 rows x 770 columns]"
      ]
     },
     "execution_count": 12,
     "metadata": {},
     "output_type": "execute_result"
    }
   ],
   "source": [
    "x_feats = ['star_ratings', \n",
    "           'managers', \n",
    "           'years_to_ipo', \n",
    "           'vc_dummy', \n",
    "           'rollup', \n",
    "           'dual', \n",
    "           'internet'\n",
    "           ]\n",
    "X = pd.get_dummies(baseline_df[x_feats], drop_first=True)\n",
    "y = baseline_df['ipo_success'].astype(int)\n",
    "X.head()"
   ]
  },
  {
   "cell_type": "markdown",
   "id": "5ca12204",
   "metadata": {},
   "source": [
    "**Train Test Split**"
   ]
  },
  {
   "cell_type": "code",
   "execution_count": 13,
   "id": "dc68101b",
   "metadata": {},
   "outputs": [],
   "source": [
    "from sklearn.model_selection import train_test_split\n",
    "X_train, X_test, y_train, y_test = train_test_split(X, y, random_state=0)"
   ]
  },
  {
   "cell_type": "markdown",
   "id": "b2885bcd",
   "metadata": {},
   "source": [
    "**Baseline Logistic Model**"
   ]
  },
  {
   "cell_type": "code",
   "execution_count": 14,
   "id": "607fce52",
   "metadata": {},
   "outputs": [
    {
     "data": {
      "text/plain": [
       "LogisticRegression(C=1000000000000.0, fit_intercept=False, solver='liblinear')"
      ]
     },
     "execution_count": 14,
     "metadata": {},
     "output_type": "execute_result"
    }
   ],
   "source": [
    "from sklearn.linear_model import LogisticRegression\n",
    "\n",
    "logreg = LogisticRegression(fit_intercept=False, C=1e12, solver='liblinear')\n",
    "model_log = logreg.fit(X_train, y_train)\n",
    "model_log"
   ]
  },
  {
   "cell_type": "code",
   "execution_count": 15,
   "id": "b555b463",
   "metadata": {},
   "outputs": [],
   "source": [
    "y_hat_test = logreg.predict(X_test)\n",
    "y_hat_train = logreg.predict(X_train)"
   ]
  },
  {
   "cell_type": "markdown",
   "id": "b95e4049",
   "metadata": {},
   "source": [
    "**Baseline Model Results**"
   ]
  },
  {
   "cell_type": "code",
   "execution_count": 16,
   "id": "ee680896",
   "metadata": {},
   "outputs": [
    {
     "name": "stdout",
     "output_type": "stream",
     "text": [
      "0    5295\n",
      "1     992\n",
      "Name: ipo_success, dtype: int64\n",
      "0    0.842214\n",
      "1    0.157786\n",
      "Name: ipo_success, dtype: float64\n"
     ]
    }
   ],
   "source": [
    "residuals = np.abs(y_train - y_hat_train)\n",
    "print(pd.Series(residuals).value_counts())\n",
    "print(pd.Series(residuals).value_counts(normalize=True))"
   ]
  },
  {
   "cell_type": "code",
   "execution_count": 17,
   "id": "c6d21962",
   "metadata": {},
   "outputs": [
    {
     "name": "stdout",
     "output_type": "stream",
     "text": [
      "0    1673\n",
      "1     423\n",
      "Name: ipo_success, dtype: int64\n",
      "0    0.798187\n",
      "1    0.201813\n",
      "Name: ipo_success, dtype: float64\n"
     ]
    }
   ],
   "source": [
    "residuals = np.abs(y_test - y_hat_test)\n",
    "print(pd.Series(residuals).value_counts())\n",
    "print(pd.Series(residuals).value_counts(normalize=True))"
   ]
  },
  {
   "cell_type": "code",
   "execution_count": 18,
   "id": "7b3d0c60",
   "metadata": {},
   "outputs": [
    {
     "name": "stdout",
     "output_type": "stream",
     "text": [
      "Train Accuracy Score: 0.7981870229007634\n",
      "Test Accuracy Score: 0.7981870229007634\n"
     ]
    }
   ],
   "source": [
    "acc = accuracy_score(y_train,y_hat_train) \n",
    "acc = accuracy_score(y_test,y_hat_test) \n",
    "\n",
    "print('Train Accuracy Score: {}'.format(acc)) \n",
    "print('Test Accuracy Score: {}'.format(acc)) "
   ]
  },
  {
   "cell_type": "code",
   "execution_count": 19,
   "id": "a88bbdac",
   "metadata": {},
   "outputs": [
    {
     "data": {
      "image/png": "[encoded data removed]",
      "text/plain": [
       "<Figure size 432x288 with 2 Axes>"
      ]
     },
     "metadata": {
      "needs_background": "light"
     },
     "output_type": "display_data"
    }
   ],
   "source": [
    "logreg_matrix = plot_confusion_matrix(model_log,X_train, y_train)\n"
   ]
  },
  {
   "cell_type": "code",
   "execution_count": 20,
   "id": "1b4f43bd",
   "metadata": {},
   "outputs": [
    {
     "data": {
      "image/png": "[encoded data removed]",
      "text/plain": [
       "<Figure size 432x288 with 2 Axes>"
      ]
     },
     "metadata": {
      "needs_background": "light"
     },
     "output_type": "display_data"
    }
   ],
   "source": [
    "logreg_matrix = plot_confusion_matrix(model_log,X_test, y_test)\n"
   ]
  },
  {
   "cell_type": "code",
   "execution_count": null,
   "id": "0090d245",
   "metadata": {},
   "outputs": [],
   "source": []
  },
  {
   "cell_type": "code",
   "execution_count": null,
   "id": "dff4c324",
   "metadata": {},
   "outputs": [],
   "source": []
  }
 ],
 "metadata": {
  "kernelspec": {
   "display_name": "Python 3",
   "language": "python",
   "name": "python3"
  },
  "language_info": {
   "codemirror_mode": {
    "name": "ipython",
    "version": 3
   },
   "file_extension": ".py",
   "mimetype": "text/x-python",
   "name": "python",
   "nbconvert_exporter": "python",
   "pygments_lexer": "ipython3",
   "version": "3.8.8"
  }
 },
 "nbformat": 4,
 "nbformat_minor": 5
}
