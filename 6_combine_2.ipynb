{
 "cells": [
  {
   "cell_type": "code",
   "execution_count": 1,
   "id": "a3be0904",
   "metadata": {},
   "outputs": [],
   "source": [
    "import pandas as pd\n",
    "import joblib \n",
    "import numpy as np \n",
    "import datetime as datetime\n",
    "import seaborn as sns\n",
    "import numpy as np\n",
    "import matplotlib.pyplot as plt\n",
    "%matplotlib inline  \n",
    "import joblib\n",
    "from pathlib import Path\n"
   ]
  },
  {
   "cell_type": "code",
   "execution_count": 2,
   "id": "ef0a63ad",
   "metadata": {},
   "outputs": [],
   "source": [
    "\n",
    "file_path = Path(\"/Users/lorelablaka/Documents/Flatiron/phase-5/capstone/collect_clean\")\n",
    "\n",
    "age = joblib.load(f\"{file_path}/age.pkl\")\n",
    "sec_10k = joblib.load(f\"{file_path}/sec_10k.pkl\")\n",
    "managers = joblib.load(f\"{file_path}/managers_all.pkl\")\n",
    "yf1 = joblib.load(f\"{file_path}/yf1.pkl\")\n",
    "yf2 = joblib.load(f\"{file_path}/yf2.pkl\")"
   ]
  },
  {
   "cell_type": "markdown",
   "id": "91f59ff2",
   "metadata": {},
   "source": [
    "**EDA of Datasets**"
   ]
  },
  {
   "cell_type": "code",
   "execution_count": 3,
   "id": "adc535f4",
   "metadata": {},
   "outputs": [
    {
     "name": "stdout",
     "output_type": "stream",
     "text": [
      "10686  unique tickers and 10686 rows in dataset\n",
      "2528  unique tickers and 114475 rows in dataset\n",
      "3543  unique tickers and 3543 rows in dataset\n",
      "8682  unique tickers and 8682 rows in dataset\n",
      "3216  unique tickers and 3420 rows in dataset\n"
     ]
    }
   ],
   "source": [
    "dfs = [age,sec_10k,managers,yf1,yf2]\n",
    "df_names = ['age','sec_10k','managers','yf1','yf2']\n",
    "\n",
    "for df in dfs:\n",
    "    unique_list = list(df['ticker'].unique())\n",
    "    print(f\"{len(set(unique_list))}  unique tickers and {len(df)} rows in dataset\")\n",
    "    \n",
    "    \n",
    " \n"
   ]
  },
  {
   "cell_type": "markdown",
   "id": "bc752214",
   "metadata": {},
   "source": [
    "**Concatinate `yahoofinance` IPO data with `managers` IPO data**"
   ]
  },
  {
   "cell_type": "code",
   "execution_count": 4,
   "id": "a370282d",
   "metadata": {},
   "outputs": [
    {
     "name": "stdout",
     "output_type": "stream",
     "text": [
      "<class 'pandas.core.frame.DataFrame'>\n",
      "Int64Index: 3543 entries, 0 to 3542\n",
      "Data columns (total 4 columns):\n",
      " #   Column      Non-Null Count  Dtype         \n",
      "---  ------      --------------  -----         \n",
      " 0   ticker      3543 non-null   object        \n",
      " 1   trade_date  3542 non-null   datetime64[ns]\n",
      " 2   open        3543 non-null   float64       \n",
      " 3   close       3543 non-null   float64       \n",
      "dtypes: datetime64[ns](1), float64(2), object(1)\n",
      "memory usage: 138.4+ KB\n"
     ]
    }
   ],
   "source": [
    "df_man = managers[['ticker','trade_date','open','close']]\n",
    "df_man.info()"
   ]
  },
  {
   "cell_type": "code",
   "execution_count": 5,
   "id": "f77f55bd",
   "metadata": {},
   "outputs": [],
   "source": [
    "def ipo_returns(df,col1,col2):\n",
    "    ret = (df[col2] - df[col1] )/df[col1]\n",
    "    return ret"
   ]
  },
  {
   "cell_type": "code",
   "execution_count": 6,
   "id": "bddfc586",
   "metadata": {},
   "outputs": [
    {
     "name": "stderr",
     "output_type": "stream",
     "text": [
      "<ipython-input-6-60729fe8924f>:1: SettingWithCopyWarning: \n",
      "A value is trying to be set on a copy of a slice from a DataFrame.\n",
      "Try using .loc[row_indexer,col_indexer] = value instead\n",
      "\n",
      "See the caveats in the documentation: https://pandas.pydata.org/pandas-docs/stable/user_guide/indexing.html#returning-a-view-versus-a-copy\n",
      "  df_man['day_1_%'] = ipo_returns(df_man,'open','close')\n"
     ]
    }
   ],
   "source": [
    "df_man['day_1_%'] = ipo_returns(df_man,'open','close')"
   ]
  },
  {
   "cell_type": "code",
   "execution_count": 7,
   "id": "134e0412",
   "metadata": {},
   "outputs": [],
   "source": [
    "df_man =df_man[['ticker','trade_date','day_1_%']]"
   ]
  },
  {
   "cell_type": "code",
   "execution_count": 8,
   "id": "233c5012",
   "metadata": {},
   "outputs": [
    {
     "name": "stdout",
     "output_type": "stream",
     "text": [
      "<class 'pandas.core.frame.DataFrame'>\n",
      "Int64Index: 6963 entries, 0 to 3542\n",
      "Data columns (total 4 columns):\n",
      " #   Column      Non-Null Count  Dtype         \n",
      "---  ------      --------------  -----         \n",
      " 0   ticker      6963 non-null   object        \n",
      " 1   trade_date  6962 non-null   datetime64[ns]\n",
      " 2   day_1_%     6963 non-null   float64       \n",
      " 3   month_7_%   2588 non-null   float64       \n",
      "dtypes: datetime64[ns](1), float64(2), object(1)\n",
      "memory usage: 272.0+ KB\n"
     ]
    }
   ],
   "source": [
    "all_ipos = (yf2,df_man)\n",
    "all_ipos = pd.concat(all_ipos)\n",
    "all_ipos.info()"
   ]
  },
  {
   "cell_type": "markdown",
   "id": "b1fae141",
   "metadata": {},
   "source": [
    "Significantly less rows for `month_7_%`  "
   ]
  },
  {
   "cell_type": "code",
   "execution_count": 9,
   "id": "5e470047",
   "metadata": {},
   "outputs": [
    {
     "data": {
      "text/html": [
       "<div>\n",
       "<style scoped>\n",
       "    .dataframe tbody tr th:only-of-type {\n",
       "        vertical-align: middle;\n",
       "    }\n",
       "\n",
       "    .dataframe tbody tr th {\n",
       "        vertical-align: top;\n",
       "    }\n",
       "\n",
       "    .dataframe thead th {\n",
       "        text-align: right;\n",
       "    }\n",
       "</style>\n",
       "<table border=\"1\" class=\"dataframe\">\n",
       "  <thead>\n",
       "    <tr style=\"text-align: right;\">\n",
       "      <th></th>\n",
       "      <th>ticker</th>\n",
       "      <th>trade_date</th>\n",
       "      <th>day_1_%</th>\n",
       "      <th>month_7_%</th>\n",
       "    </tr>\n",
       "  </thead>\n",
       "  <tbody>\n",
       "    <tr>\n",
       "      <th>0</th>\n",
       "      <td>SERV</td>\n",
       "      <td>2014-06-26</td>\n",
       "      <td>0.028653</td>\n",
       "      <td>NaN</td>\n",
       "    </tr>\n",
       "    <tr>\n",
       "      <th>1</th>\n",
       "      <td>A</td>\n",
       "      <td>1999-11-18</td>\n",
       "      <td>-0.032967</td>\n",
       "      <td>-0.009236</td>\n",
       "    </tr>\n",
       "    <tr>\n",
       "      <th>2</th>\n",
       "      <td>AA</td>\n",
       "      <td>1962-01-02</td>\n",
       "      <td>inf</td>\n",
       "      <td>0.051095</td>\n",
       "    </tr>\n",
       "    <tr>\n",
       "      <th>3</th>\n",
       "      <td>AAACU</td>\n",
       "      <td>2006-04-11</td>\n",
       "      <td>0.080460</td>\n",
       "      <td>NaN</td>\n",
       "    </tr>\n",
       "    <tr>\n",
       "      <th>4</th>\n",
       "      <td>AAAP</td>\n",
       "      <td>2015-11-11</td>\n",
       "      <td>0.324324</td>\n",
       "      <td>NaN</td>\n",
       "    </tr>\n",
       "    <tr>\n",
       "      <th>...</th>\n",
       "      <td>...</td>\n",
       "      <td>...</td>\n",
       "      <td>...</td>\n",
       "      <td>...</td>\n",
       "    </tr>\n",
       "    <tr>\n",
       "      <th>6430</th>\n",
       "      <td>ZX</td>\n",
       "      <td>2011-05-12</td>\n",
       "      <td>-0.025000</td>\n",
       "      <td>NaN</td>\n",
       "    </tr>\n",
       "    <tr>\n",
       "      <th>6431</th>\n",
       "      <td>ZYME</td>\n",
       "      <td>2017-04-28</td>\n",
       "      <td>-0.037037</td>\n",
       "      <td>NaN</td>\n",
       "    </tr>\n",
       "    <tr>\n",
       "      <th>6432</th>\n",
       "      <td>ZYNE</td>\n",
       "      <td>2015-08-05</td>\n",
       "      <td>-0.097222</td>\n",
       "      <td>NaN</td>\n",
       "    </tr>\n",
       "    <tr>\n",
       "      <th>6433</th>\n",
       "      <td>ZZ</td>\n",
       "      <td>2006-04-07</td>\n",
       "      <td>0.040000</td>\n",
       "      <td>0.078161</td>\n",
       "    </tr>\n",
       "    <tr>\n",
       "      <th>6434</th>\n",
       "      <td>rue</td>\n",
       "      <td>2009-11-13</td>\n",
       "      <td>0.056522</td>\n",
       "      <td>NaN</td>\n",
       "    </tr>\n",
       "  </tbody>\n",
       "</table>\n",
       "<p>6435 rows × 4 columns</p>\n",
       "</div>"
      ],
      "text/plain": [
       "     ticker trade_date   day_1_%  month_7_%\n",
       "0      SERV 2014-06-26  0.028653        NaN\n",
       "1         A 1999-11-18 -0.032967  -0.009236\n",
       "2        AA 1962-01-02       inf   0.051095\n",
       "3     AAACU 2006-04-11  0.080460        NaN\n",
       "4      AAAP 2015-11-11  0.324324        NaN\n",
       "...     ...        ...       ...        ...\n",
       "6430     ZX 2011-05-12 -0.025000        NaN\n",
       "6431   ZYME 2017-04-28 -0.037037        NaN\n",
       "6432   ZYNE 2015-08-05 -0.097222        NaN\n",
       "6433     ZZ 2006-04-07  0.040000   0.078161\n",
       "6434    rue 2009-11-13  0.056522        NaN\n",
       "\n",
       "[6435 rows x 4 columns]"
      ]
     },
     "execution_count": 9,
     "metadata": {},
     "output_type": "execute_result"
    }
   ],
   "source": [
    "all_ipos= all_ipos.groupby(['ticker']).max().reset_index()\n",
    "all_ipos"
   ]
  },
  {
   "cell_type": "markdown",
   "id": "61fb87bf",
   "metadata": {},
   "source": [
    "**Merging `all_ipo` data with recent company financials from `yf1` dataset**"
   ]
  },
  {
   "cell_type": "code",
   "execution_count": 10,
   "id": "de7ef355",
   "metadata": {},
   "outputs": [
    {
     "name": "stdout",
     "output_type": "stream",
     "text": [
      "<class 'pandas.core.frame.DataFrame'>\n",
      "Int64Index: 6435 entries, 0 to 6434\n",
      "Data columns (total 14 columns):\n",
      " #   Column                 Non-Null Count  Dtype         \n",
      "---  ------                 --------------  -----         \n",
      " 0   ticker                 6435 non-null   object        \n",
      " 1   trade_date             6434 non-null   datetime64[ns]\n",
      " 2   day_1_%                6435 non-null   float64       \n",
      " 3   month_7_%              2392 non-null   float64       \n",
      " 4   total_revenue          5482 non-null   float64       \n",
      " 5   operating_cashflow     5482 non-null   float64       \n",
      " 6   full_time_employees    5482 non-null   float64       \n",
      " 7   sector                 5451 non-null   object        \n",
      " 8   revenue_growth         4937 non-null   float64       \n",
      " 9   gross_margins          5442 non-null   float64       \n",
      " 10  profit_margins         5263 non-null   float64       \n",
      " 11  enterprise_to_revenue  4937 non-null   float64       \n",
      " 12  ebitda_margins         5442 non-null   float64       \n",
      " 13  market_cap             5482 non-null   float64       \n",
      "dtypes: datetime64[ns](1), float64(11), object(2)\n",
      "memory usage: 754.1+ KB\n"
     ]
    }
   ],
   "source": [
    "yf =  all_ipos.merge(yf1, how='left',on='ticker')\n",
    "yf.info()"
   ]
  },
  {
   "cell_type": "code",
   "execution_count": 11,
   "id": "596aac0d",
   "metadata": {},
   "outputs": [
    {
     "data": {
      "text/plain": [
       "0       2014.0\n",
       "1       1999.0\n",
       "2       1962.0\n",
       "3       2006.0\n",
       "4       2015.0\n",
       "         ...  \n",
       "6430    2011.0\n",
       "6431    2017.0\n",
       "6432    2015.0\n",
       "6433    2006.0\n",
       "6434    2009.0\n",
       "Name: ipo_year, Length: 6435, dtype: float64"
      ]
     },
     "execution_count": 11,
     "metadata": {},
     "output_type": "execute_result"
    }
   ],
   "source": [
    "yf['ipo_year']= yf['trade_date'].dt.year\n",
    "yf['ipo_year']"
   ]
  },
  {
   "cell_type": "markdown",
   "id": "91d04d36",
   "metadata": {},
   "source": [
    "**Merging `all_ipo` data and recent company financials with `age` dataset to include stock features**"
   ]
  },
  {
   "cell_type": "code",
   "execution_count": 12,
   "id": "52089c85",
   "metadata": {},
   "outputs": [
    {
     "name": "stdout",
     "output_type": "stream",
     "text": [
      "<class 'pandas.core.frame.DataFrame'>\n",
      "Int64Index: 6435 entries, 0 to 6434\n",
      "Data columns (total 21 columns):\n",
      " #   Column                 Non-Null Count  Dtype         \n",
      "---  ------                 --------------  -----         \n",
      " 0   ticker                 6435 non-null   object        \n",
      " 1   trade_date             6434 non-null   datetime64[ns]\n",
      " 2   day_1_%                6435 non-null   float64       \n",
      " 3   month_7_%              2392 non-null   float64       \n",
      " 4   total_revenue          5482 non-null   float64       \n",
      " 5   operating_cashflow     5482 non-null   float64       \n",
      " 6   full_time_employees    5482 non-null   float64       \n",
      " 7   sector                 5451 non-null   object        \n",
      " 8   revenue_growth         4937 non-null   float64       \n",
      " 9   gross_margins          5442 non-null   float64       \n",
      " 10  profit_margins         5263 non-null   float64       \n",
      " 11  enterprise_to_revenue  4937 non-null   float64       \n",
      " 12  ebitda_margins         5442 non-null   float64       \n",
      " 13  market_cap             5482 non-null   float64       \n",
      " 14  ipo_year               6434 non-null   float64       \n",
      " 15  company_name           4820 non-null   object        \n",
      " 16  founding               4820 non-null   object        \n",
      " 17  vc_dummy               4820 non-null   object        \n",
      " 18  rollup                 4820 non-null   object        \n",
      " 19  dual                   4820 non-null   object        \n",
      " 20  internet               4820 non-null   object        \n",
      "dtypes: datetime64[ns](1), float64(12), object(8)\n",
      "memory usage: 1.1+ MB\n"
     ]
    }
   ],
   "source": [
    "data2 = yf.merge(age, how='left',on=['ticker'])\n",
    "data2.info()"
   ]
  },
  {
   "cell_type": "markdown",
   "id": "c8771fc2",
   "metadata": {},
   "source": [
    "Clean up `data2` and create `years_to_ipo` feature"
   ]
  },
  {
   "cell_type": "code",
   "execution_count": 13,
   "id": "768ee6ee",
   "metadata": {},
   "outputs": [],
   "source": [
    "data2['ipo_year'] = data2['ipo_year'].fillna(2000).astype(int)\n"
   ]
  },
  {
   "cell_type": "code",
   "execution_count": 14,
   "id": "40b6aa4f",
   "metadata": {},
   "outputs": [],
   "source": [
    "data2['founding'] = data2['founding'].fillna(2000).astype(int)\n"
   ]
  },
  {
   "cell_type": "code",
   "execution_count": 15,
   "id": "6bb23583",
   "metadata": {},
   "outputs": [],
   "source": [
    "data2['years_to_ipo'] = data2['ipo_year'] - data2['founding']\n"
   ]
  },
  {
   "cell_type": "markdown",
   "id": "6812b5cb",
   "metadata": {},
   "source": [
    "**Modeling 2 Dataset**"
   ]
  },
  {
   "cell_type": "code",
   "execution_count": 16,
   "id": "1d7ef738",
   "metadata": {},
   "outputs": [
    {
     "name": "stdout",
     "output_type": "stream",
     "text": [
      "<class 'pandas.core.frame.DataFrame'>\n",
      "Int64Index: 6435 entries, 0 to 6434\n",
      "Data columns (total 18 columns):\n",
      " #   Column                 Non-Null Count  Dtype         \n",
      "---  ------                 --------------  -----         \n",
      " 0   ticker                 6435 non-null   object        \n",
      " 1   trade_date             6434 non-null   datetime64[ns]\n",
      " 2   ipo_year               6435 non-null   int64         \n",
      " 3   day_1_%                6435 non-null   float64       \n",
      " 4   month_7_%              2392 non-null   float64       \n",
      " 5   sector                 5451 non-null   object        \n",
      " 6   vc_dummy               4820 non-null   object        \n",
      " 7   rollup                 4820 non-null   object        \n",
      " 8   dual                   4820 non-null   object        \n",
      " 9   internet               4820 non-null   object        \n",
      " 10  years_to_ipo           6435 non-null   int64         \n",
      " 11  enterprise_to_revenue  4937 non-null   float64       \n",
      " 12  ebitda_margins         5442 non-null   float64       \n",
      " 13  profit_margins         5263 non-null   float64       \n",
      " 14  gross_margins          5442 non-null   float64       \n",
      " 15  revenue_growth         4937 non-null   float64       \n",
      " 16  total_revenue          5482 non-null   float64       \n",
      " 17  operating_cashflow     5482 non-null   float64       \n",
      "dtypes: datetime64[ns](1), float64(9), int64(2), object(6)\n",
      "memory usage: 955.2+ KB\n"
     ]
    }
   ],
   "source": [
    "data2 = data2[['ticker',\n",
    "               'trade_date', 'ipo_year',\n",
    "                      'day_1_%',\n",
    "                      'month_7_%',\n",
    "                      'sector',\n",
    "                      'vc_dummy',\n",
    "                      'rollup',\n",
    "                      'dual',\n",
    "                      'internet',\n",
    "                      'years_to_ipo',\n",
    "                      'enterprise_to_revenue',\n",
    "                      'ebitda_margins',\n",
    "                      'profit_margins',\n",
    "                      'gross_margins',\n",
    "                      'revenue_growth',\n",
    "                      'total_revenue',\n",
    "                      'operating_cashflow'\n",
    "                    ]]\n",
    "data2.info()\n"
   ]
  },
  {
   "cell_type": "code",
   "execution_count": 17,
   "id": "87d3f33d",
   "metadata": {
    "scrolled": false
   },
   "outputs": [],
   "source": [
    "data2= data2.groupby(['ticker']).max().reset_index()"
   ]
  },
  {
   "cell_type": "code",
   "execution_count": 18,
   "id": "dc215b55",
   "metadata": {},
   "outputs": [],
   "source": [
    "data2 = data2[data2['vc_dummy'].notna()]\n"
   ]
  },
  {
   "cell_type": "code",
   "execution_count": 19,
   "id": "94b6a2e5",
   "metadata": {},
   "outputs": [
    {
     "name": "stdout",
     "output_type": "stream",
     "text": [
      "<class 'pandas.core.frame.DataFrame'>\n",
      "Int64Index: 4716 entries, 1 to 6433\n",
      "Data columns (total 18 columns):\n",
      " #   Column                 Non-Null Count  Dtype         \n",
      "---  ------                 --------------  -----         \n",
      " 0   ticker                 4716 non-null   object        \n",
      " 1   trade_date             4715 non-null   datetime64[ns]\n",
      " 2   ipo_year               4716 non-null   int64         \n",
      " 3   day_1_%                4716 non-null   float64       \n",
      " 4   month_7_%              1563 non-null   float64       \n",
      " 5   sector                 4340 non-null   object        \n",
      " 6   vc_dummy               4716 non-null   object        \n",
      " 7   rollup                 4716 non-null   object        \n",
      " 8   dual                   4716 non-null   object        \n",
      " 9   internet               4716 non-null   object        \n",
      " 10  years_to_ipo           4716 non-null   int64         \n",
      " 11  enterprise_to_revenue  3865 non-null   float64       \n",
      " 12  ebitda_margins         4329 non-null   float64       \n",
      " 13  profit_margins         4162 non-null   float64       \n",
      " 14  gross_margins          4329 non-null   float64       \n",
      " 15  revenue_growth         3872 non-null   float64       \n",
      " 16  total_revenue          4368 non-null   float64       \n",
      " 17  operating_cashflow     4368 non-null   float64       \n",
      "dtypes: datetime64[ns](1), float64(9), int64(2), object(6)\n",
      "memory usage: 700.0+ KB\n"
     ]
    }
   ],
   "source": [
    "data2 = data2[data2['day_1_%'].replace([np.inf, -np.inf], np.nan).notna()]\n",
    "data2.info()"
   ]
  },
  {
   "cell_type": "markdown",
   "id": "373b8d73",
   "metadata": {},
   "source": [
    "**Feature Engineer Dependent Variable `Successful`**"
   ]
  },
  {
   "cell_type": "code",
   "execution_count": 20,
   "id": "c17d09ef",
   "metadata": {},
   "outputs": [
    {
     "data": {
      "text/plain": [
       "count    4329.000000\n",
       "mean        0.197415\n",
       "std         0.414192\n",
       "min        -2.943020\n",
       "25%         0.000000\n",
       "50%         0.000000\n",
       "75%         0.410980\n",
       "max         8.502710\n",
       "Name: gross_margins, dtype: float64"
      ]
     },
     "execution_count": 20,
     "metadata": {},
     "output_type": "execute_result"
    }
   ],
   "source": [
    "data2['gross_margins'].describe().T"
   ]
  },
  {
   "cell_type": "code",
   "execution_count": 21,
   "id": "f738d90f",
   "metadata": {},
   "outputs": [
    {
     "data": {
      "text/plain": [
       "count      3865.000000\n",
       "mean        300.886847\n",
       "std       10128.686824\n",
       "min       -4069.345000\n",
       "25%           0.000000\n",
       "50%           0.542000\n",
       "75%           4.270000\n",
       "max      560179.440000\n",
       "Name: enterprise_to_revenue, dtype: float64"
      ]
     },
     "execution_count": 21,
     "metadata": {},
     "output_type": "execute_result"
    }
   ],
   "source": [
    "data2['enterprise_to_revenue'].describe().T"
   ]
  },
  {
   "cell_type": "code",
   "execution_count": 22,
   "id": "e27558e5",
   "metadata": {},
   "outputs": [],
   "source": [
    "def profitable(value):\n",
    "    if value >=.65:\n",
    "        return 1\n",
    "    else:\n",
    "        return 0\n",
    "data2['profitable'] = data2['gross_margins'].map(lambda x: profitable(x))\n"
   ]
  },
  {
   "cell_type": "code",
   "execution_count": 23,
   "id": "ff4bf6df",
   "metadata": {},
   "outputs": [
    {
     "data": {
      "text/plain": [
       "0    4145\n",
       "1     571\n",
       "Name: profitable, dtype: int64"
      ]
     },
     "execution_count": 23,
     "metadata": {},
     "output_type": "execute_result"
    }
   ],
   "source": [
    "data2['profitable'].value_counts()  "
   ]
  },
  {
   "cell_type": "code",
   "execution_count": 24,
   "id": "3ffaf66a",
   "metadata": {},
   "outputs": [],
   "source": [
    "def valuable(value):\n",
    "    if value >=4.27:\n",
    "        return 1\n",
    "    else:\n",
    "        return 0\n",
    "data2['valuable'] = data2['enterprise_to_revenue'].map(lambda x: valuable(x))\n"
   ]
  },
  {
   "cell_type": "code",
   "execution_count": 25,
   "id": "960ee674",
   "metadata": {},
   "outputs": [
    {
     "data": {
      "text/plain": [
       "0    3749\n",
       "1     967\n",
       "Name: valuable, dtype: int64"
      ]
     },
     "execution_count": 25,
     "metadata": {},
     "output_type": "execute_result"
    }
   ],
   "source": [
    "data2['valuable'].value_counts()"
   ]
  },
  {
   "cell_type": "code",
   "execution_count": 26,
   "id": "6d913014",
   "metadata": {},
   "outputs": [],
   "source": [
    "data2['day_1_%'] = data2['day_1_%'].replace([np.inf, -np.inf],0.0)"
   ]
  },
  {
   "cell_type": "code",
   "execution_count": 27,
   "id": "377f8630",
   "metadata": {},
   "outputs": [],
   "source": [
    "data2['month_7_%'] = data2['month_7_%'].replace([np.inf, -np.inf],0.0)"
   ]
  },
  {
   "cell_type": "code",
   "execution_count": 28,
   "id": "1404d954",
   "metadata": {},
   "outputs": [
    {
     "data": {
      "text/plain": [
       "0    3565\n",
       "1     764\n",
       "2     387\n",
       "Name: success, dtype: int64"
      ]
     },
     "execution_count": 28,
     "metadata": {},
     "output_type": "execute_result"
    }
   ],
   "source": [
    "data2['success']  = data2['valuable']+data2['profitable']\n",
    "data2['success'].value_counts()"
   ]
  },
  {
   "cell_type": "code",
   "execution_count": 29,
   "id": "1b62c71a",
   "metadata": {},
   "outputs": [],
   "source": [
    "def success(value):\n",
    "    if value > 0:\n",
    "        return 1\n",
    "        \n",
    "    if value ==0:\n",
    "        return 0\n",
    "\n",
    "    \n",
    "data2['successful'] = data2['success'].map(lambda x: success(x))"
   ]
  },
  {
   "cell_type": "code",
   "execution_count": 30,
   "id": "d9757360",
   "metadata": {},
   "outputs": [
    {
     "data": {
      "text/plain": [
       "0    3565\n",
       "1    1151\n",
       "Name: successful, dtype: int64"
      ]
     },
     "execution_count": 30,
     "metadata": {},
     "output_type": "execute_result"
    }
   ],
   "source": [
    "data2['successful'].value_counts()"
   ]
  },
  {
   "cell_type": "code",
   "execution_count": 31,
   "id": "58edfba6",
   "metadata": {},
   "outputs": [],
   "source": [
    "data2 = data2[data2['successful'].notna()]\n"
   ]
  },
  {
   "cell_type": "code",
   "execution_count": 32,
   "id": "042b6a65",
   "metadata": {},
   "outputs": [],
   "source": [
    "data2 = data2[data2['sector'].notna()]\n"
   ]
  },
  {
   "cell_type": "code",
   "execution_count": 33,
   "id": "040dcaa1",
   "metadata": {},
   "outputs": [],
   "source": [
    "data2 = data2[data2['enterprise_to_revenue'].notna()]\n"
   ]
  },
  {
   "cell_type": "code",
   "execution_count": 34,
   "id": "16464fea",
   "metadata": {},
   "outputs": [
    {
     "name": "stdout",
     "output_type": "stream",
     "text": [
      "<class 'pandas.core.frame.DataFrame'>\n",
      "Int64Index: 3848 entries, 1 to 6433\n",
      "Data columns (total 22 columns):\n",
      " #   Column                 Non-Null Count  Dtype         \n",
      "---  ------                 --------------  -----         \n",
      " 0   ticker                 3848 non-null   object        \n",
      " 1   trade_date             3847 non-null   datetime64[ns]\n",
      " 2   ipo_year               3848 non-null   int64         \n",
      " 3   day_1_%                3848 non-null   float64       \n",
      " 4   month_7_%              1323 non-null   float64       \n",
      " 5   sector                 3848 non-null   object        \n",
      " 6   vc_dummy               3848 non-null   object        \n",
      " 7   rollup                 3848 non-null   object        \n",
      " 8   dual                   3848 non-null   object        \n",
      " 9   internet               3848 non-null   object        \n",
      " 10  years_to_ipo           3848 non-null   int64         \n",
      " 11  enterprise_to_revenue  3848 non-null   float64       \n",
      " 12  ebitda_margins         3809 non-null   float64       \n",
      " 13  profit_margins         3809 non-null   float64       \n",
      " 14  gross_margins          3809 non-null   float64       \n",
      " 15  revenue_growth         3678 non-null   float64       \n",
      " 16  total_revenue          3848 non-null   float64       \n",
      " 17  operating_cashflow     3848 non-null   float64       \n",
      " 18  profitable             3848 non-null   int64         \n",
      " 19  valuable               3848 non-null   int64         \n",
      " 20  success                3848 non-null   int64         \n",
      " 21  successful             3848 non-null   int64         \n",
      "dtypes: datetime64[ns](1), float64(9), int64(6), object(6)\n",
      "memory usage: 691.4+ KB\n"
     ]
    }
   ],
   "source": [
    "data2.info()"
   ]
  },
  {
   "cell_type": "code",
   "execution_count": 35,
   "id": "dc63605f",
   "metadata": {},
   "outputs": [],
   "source": [
    "data2_viz = data2"
   ]
  },
  {
   "cell_type": "code",
   "execution_count": 36,
   "id": "19cd26d4",
   "metadata": {},
   "outputs": [
    {
     "name": "stdout",
     "output_type": "stream",
     "text": [
      "<class 'pandas.core.frame.DataFrame'>\n",
      "Int64Index: 3848 entries, 1 to 6433\n",
      "Data columns (total 10 columns):\n",
      " #   Column        Non-Null Count  Dtype  \n",
      "---  ------        --------------  -----  \n",
      " 0   ticker        3848 non-null   object \n",
      " 1   sector        3848 non-null   object \n",
      " 2   vc_dummy      3848 non-null   object \n",
      " 3   rollup        3848 non-null   object \n",
      " 4   dual          3848 non-null   object \n",
      " 5   internet      3848 non-null   object \n",
      " 6   years_to_ipo  3848 non-null   int64  \n",
      " 7   day_1_%       3848 non-null   float64\n",
      " 8   month_7_%     1323 non-null   float64\n",
      " 9   successful    3848 non-null   int64  \n",
      "dtypes: float64(2), int64(2), object(6)\n",
      "memory usage: 330.7+ KB\n"
     ]
    }
   ],
   "source": [
    "data2 = data2[['ticker',\n",
    "                      'sector',\n",
    "                      'vc_dummy',\n",
    "                      'rollup',\n",
    "                      'dual',\n",
    "                      'internet',\n",
    "                      'years_to_ipo',\n",
    "                      'day_1_%',\n",
    "                      'month_7_%',\n",
    "                      'successful']]\n",
    "data2.info()"
   ]
  },
  {
   "cell_type": "code",
   "execution_count": 37,
   "id": "40a45789",
   "metadata": {},
   "outputs": [
    {
     "data": {
      "text/plain": [
       "['data2_viz.pkl']"
      ]
     },
     "execution_count": 37,
     "metadata": {},
     "output_type": "execute_result"
    }
   ],
   "source": [
    "joblib.dump(data2_viz,\"data2_viz.pkl\")"
   ]
  },
  {
   "cell_type": "code",
   "execution_count": 38,
   "id": "c72bcb91",
   "metadata": {},
   "outputs": [
    {
     "data": {
      "text/plain": [
       "['data2.pkl']"
      ]
     },
     "execution_count": 38,
     "metadata": {},
     "output_type": "execute_result"
    }
   ],
   "source": [
    "joblib.dump(data2,\"data2.pkl\")"
   ]
  }
 ],
 "metadata": {
  "kernelspec": {
   "display_name": "Python 3",
   "language": "python",
   "name": "python3"
  },
  "language_info": {
   "codemirror_mode": {
    "name": "ipython",
    "version": 3
   },
   "file_extension": ".py",
   "mimetype": "text/x-python",
   "name": "python",
   "nbconvert_exporter": "python",
   "pygments_lexer": "ipython3",
   "version": "3.8.8"
  }
 },
 "nbformat": 4,
 "nbformat_minor": 5
}
