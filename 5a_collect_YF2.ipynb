{
 "cells": [
  {
   "cell_type": "code",
   "execution_count": 1,
   "id": "6bea5be7",
   "metadata": {},
   "outputs": [],
   "source": [
    "import yfinance as yf\n",
    "from yahoofinancials import YahooFinancials\n",
    "import pandas as pd\n",
    "import numpy as np\n",
    "import joblib \n",
    "from pathlib import Path\n",
    "\n",
    "import datetime\n"
   ]
  },
  {
   "cell_type": "code",
   "execution_count": 2,
   "id": "cdcf07b3",
   "metadata": {},
   "outputs": [
    {
     "data": {
      "text/plain": [
       "[]"
      ]
     },
     "execution_count": 2,
     "metadata": {},
     "output_type": "execute_result"
    }
   ],
   "source": [
    "tickers =[]\n",
    "tickers"
   ]
  },
  {
   "cell_type": "code",
   "execution_count": 3,
   "id": "2f9b7270",
   "metadata": {},
   "outputs": [],
   "source": [
    "\n",
    "cols = ['date',\n",
    "'high',\n",
    "'low',        \n",
    "'open',\n",
    "'close',\n",
    "'volume',\n",
    "'formatted_date']  \n",
    "    \n",
    "df = pd.DataFrame(columns=cols)\n",
    "\n",
    " "
   ]
  },
  {
   "cell_type": "code",
   "execution_count": 4,
   "id": "e3aaa434",
   "metadata": {},
   "outputs": [
    {
     "data": {
      "text/html": [
       "<div>\n",
       "<style scoped>\n",
       "    .dataframe tbody tr th:only-of-type {\n",
       "        vertical-align: middle;\n",
       "    }\n",
       "\n",
       "    .dataframe tbody tr th {\n",
       "        vertical-align: top;\n",
       "    }\n",
       "\n",
       "    .dataframe thead th {\n",
       "        text-align: right;\n",
       "    }\n",
       "</style>\n",
       "<table border=\"1\" class=\"dataframe\">\n",
       "  <thead>\n",
       "    <tr style=\"text-align: right;\">\n",
       "      <th></th>\n",
       "    </tr>\n",
       "  </thead>\n",
       "  <tbody>\n",
       "  </tbody>\n",
       "</table>\n",
       "</div>"
      ],
      "text/plain": [
       "Empty DataFrame\n",
       "Columns: []\n",
       "Index: []"
      ]
     },
     "execution_count": 4,
     "metadata": {},
     "output_type": "execute_result"
    }
   ],
   "source": [
    "from interruptingcow import timeout \n",
    "\n",
    "\n",
    "min_data_list = []\n",
    "\n",
    "for ticker in tickers:\n",
    "    try: \n",
    "        with timeout(7, exception = RuntimeError):  \n",
    "            symbol = YahooFinancials(ticker)\n",
    "            \n",
    "            data = symbol.get_historical_price_data(\"1850-01-01\", \"2021-05-30\", \"monthly\")\n",
    "\n",
    "            min_data = data[ticker]['prices'][6]\n",
    "            min_data['ticker'] = ticker\n",
    "            min_data_list.append(min_data)\n",
    "            print(f\"\"\"finished {ticker} at {str(datetime.datetime.now())}\"\"\" ) \n",
    "    \n",
    "    except  (RuntimeError, IndexError, TypeError,KeyError):\n",
    "        pass\n",
    "\n",
    "\n",
    "df1 = pd.DataFrame(min_data_list)\n",
    "df1\n",
    " "
   ]
  },
  {
   "cell_type": "code",
   "execution_count": 5,
   "id": "0f15d74d",
   "metadata": {},
   "outputs": [],
   "source": [
    "df1.to_csv('data/yahoo_ipo/ ')"
   ]
  },
  {
   "cell_type": "code",
   "execution_count": null,
   "id": "228b3583",
   "metadata": {},
   "outputs": [],
   "source": []
  },
  {
   "cell_type": "code",
   "execution_count": null,
   "id": "0d0aba8b",
   "metadata": {},
   "outputs": [],
   "source": []
  }
 ],
 "metadata": {
  "kernelspec": {
   "display_name": "Python 3",
   "language": "python",
   "name": "python3"
  },
  "language_info": {
   "codemirror_mode": {
    "name": "ipython",
    "version": 3
   },
   "file_extension": ".py",
   "mimetype": "text/x-python",
   "name": "python",
   "nbconvert_exporter": "python",
   "pygments_lexer": "ipython3",
   "version": "3.8.8"
  }
 },
 "nbformat": 4,
 "nbformat_minor": 5
}
