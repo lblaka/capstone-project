{
 "cells": [
  {
   "cell_type": "code",
   "execution_count": 1,
   "id": "2314a119",
   "metadata": {},
   "outputs": [],
   "source": [
    "import pandas as pd\n",
    "import os\n",
    "import requests, zipfile, io\n",
    "import numpy as np\n"
   ]
  },
  {
   "cell_type": "markdown",
   "id": "04d2fbae",
   "metadata": {},
   "source": [
    "# Managers"
   ]
  },
  {
   "cell_type": "code",
   "execution_count": 2,
   "id": "d11e7dd5",
   "metadata": {},
   "outputs": [],
   "source": [
    "managers = pd.read_csv(\"data/ipo_managers.csv\", header=[0,1])\n"
   ]
  },
  {
   "cell_type": "code",
   "execution_count": 3,
   "id": "ec8c02be",
   "metadata": {},
   "outputs": [],
   "source": [
    "managers.columns = ['_'.join(col) for col in managers.columns.values]\n"
   ]
  },
  {
   "cell_type": "code",
   "execution_count": 4,
   "id": "d5652ee7",
   "metadata": {},
   "outputs": [],
   "source": [
    "managers.columns = managers.columns.str.replace(' ','_').str.lower()"
   ]
  },
  {
   "cell_type": "code",
   "execution_count": 5,
   "id": "ad155424",
   "metadata": {},
   "outputs": [
    {
     "data": {
      "text/html": [
       "<div>\n",
       "<style scoped>\n",
       "    .dataframe tbody tr th:only-of-type {\n",
       "        vertical-align: middle;\n",
       "    }\n",
       "\n",
       "    .dataframe tbody tr th {\n",
       "        vertical-align: top;\n",
       "    }\n",
       "\n",
       "    .dataframe thead th {\n",
       "        text-align: right;\n",
       "    }\n",
       "</style>\n",
       "<table border=\"1\" class=\"dataframe\">\n",
       "  <thead>\n",
       "    <tr style=\"text-align: right;\">\n",
       "      <th></th>\n",
       "      <th>trade_date</th>\n",
       "      <th>unnamed:_1_level_0_issuer</th>\n",
       "      <th>unnamed:_2_level_0_symbol</th>\n",
       "      <th>lead/joint-lead__managers</th>\n",
       "      <th>offer_price</th>\n",
       "      <th>opening_price</th>\n",
       "      <th>1st_day_close</th>\n",
       "      <th>1st_day_%_px_chng_</th>\n",
       "      <th>$_change_opening</th>\n",
       "      <th>$_change_close</th>\n",
       "      <th>star_ratings</th>\n",
       "      <th>unnamed:_11_level_0_performed</th>\n",
       "    </tr>\n",
       "  </thead>\n",
       "  <tbody>\n",
       "    <tr>\n",
       "      <th>0</th>\n",
       "      <td>1/17/20</td>\n",
       "      <td>I-Mab</td>\n",
       "      <td>IMAB</td>\n",
       "      <td>Jefferies/ CICC</td>\n",
       "      <td>$14.00</td>\n",
       "      <td>$14.75</td>\n",
       "      <td>$12.75</td>\n",
       "      <td>-8.93%</td>\n",
       "      <td>$0.75</td>\n",
       "      <td>($1.25)</td>\n",
       "      <td>2</td>\n",
       "      <td>NaN</td>\n",
       "    </tr>\n",
       "    <tr>\n",
       "      <th>1</th>\n",
       "      <td>1/17/20</td>\n",
       "      <td>LIZHI</td>\n",
       "      <td>LIZI</td>\n",
       "      <td>Credit Suisse/ Citigroup</td>\n",
       "      <td>$11.00</td>\n",
       "      <td>$11.03</td>\n",
       "      <td>$11.63</td>\n",
       "      <td>5.73%</td>\n",
       "      <td>$0.03</td>\n",
       "      <td>$0.63</td>\n",
       "      <td>1</td>\n",
       "      <td>NaN</td>\n",
       "    </tr>\n",
       "    <tr>\n",
       "      <th>2</th>\n",
       "      <td>1/17/20</td>\n",
       "      <td>Phoenix Tree Holdings Ltd.</td>\n",
       "      <td>DNK</td>\n",
       "      <td>Citigroup/ Credit Suisse/ J.P. Morgan</td>\n",
       "      <td>$13.50</td>\n",
       "      <td>$13.50</td>\n",
       "      <td>$13.50</td>\n",
       "      <td>0.00%</td>\n",
       "      <td>$0.00</td>\n",
       "      <td>$0.00</td>\n",
       "      <td>1</td>\n",
       "      <td>NaN</td>\n",
       "    </tr>\n",
       "    <tr>\n",
       "      <th>3</th>\n",
       "      <td>1/17/20</td>\n",
       "      <td>Velocity Financial</td>\n",
       "      <td>VEL</td>\n",
       "      <td>Wells Fargo Securities/ Citigroup/ JMP Securities</td>\n",
       "      <td>$13.00</td>\n",
       "      <td>$13.85</td>\n",
       "      <td>$13.51</td>\n",
       "      <td>3.92%</td>\n",
       "      <td>$0.85</td>\n",
       "      <td>$0.51</td>\n",
       "      <td>1</td>\n",
       "      <td>NaN</td>\n",
       "    </tr>\n",
       "    <tr>\n",
       "      <th>4</th>\n",
       "      <td>1/24/20</td>\n",
       "      <td>Gores Holdings IV</td>\n",
       "      <td>GHIVU</td>\n",
       "      <td>Deutsche Bank Securities</td>\n",
       "      <td>$10.00</td>\n",
       "      <td>$10.52</td>\n",
       "      <td>$10.45</td>\n",
       "      <td>4.50%</td>\n",
       "      <td>$0.52</td>\n",
       "      <td>$0.45</td>\n",
       "      <td>1</td>\n",
       "      <td>NaN</td>\n",
       "    </tr>\n",
       "    <tr>\n",
       "      <th>...</th>\n",
       "      <td>...</td>\n",
       "      <td>...</td>\n",
       "      <td>...</td>\n",
       "      <td>...</td>\n",
       "      <td>...</td>\n",
       "      <td>...</td>\n",
       "      <td>...</td>\n",
       "      <td>...</td>\n",
       "      <td>...</td>\n",
       "      <td>...</td>\n",
       "      <td>...</td>\n",
       "      <td>...</td>\n",
       "    </tr>\n",
       "    <tr>\n",
       "      <th>3628</th>\n",
       "      <td>12/8/00</td>\n",
       "      <td>Specialty Laboratories</td>\n",
       "      <td>SP</td>\n",
       "      <td>Merrill Lynch</td>\n",
       "      <td>$16.00</td>\n",
       "      <td>$21.94</td>\n",
       "      <td>$23.31</td>\n",
       "      <td>45.70%</td>\n",
       "      <td>$5.94</td>\n",
       "      <td>$7.31</td>\n",
       "      <td>3</td>\n",
       "      <td>NaN</td>\n",
       "    </tr>\n",
       "    <tr>\n",
       "      <th>3629</th>\n",
       "      <td>12/8/00</td>\n",
       "      <td>W.P. Stewart &amp; Co.</td>\n",
       "      <td>WPL</td>\n",
       "      <td>Goldman Sachs/Lazard</td>\n",
       "      <td>$20.00</td>\n",
       "      <td>$22.06</td>\n",
       "      <td>$24.50</td>\n",
       "      <td>22.50%</td>\n",
       "      <td>$2.06</td>\n",
       "      <td>$4.50</td>\n",
       "      <td>2</td>\n",
       "      <td>NaN</td>\n",
       "    </tr>\n",
       "    <tr>\n",
       "      <th>3630</th>\n",
       "      <td>12/11/00</td>\n",
       "      <td>Gemplus</td>\n",
       "      <td>GEMP</td>\n",
       "      <td>Credit Suisse First Boston</td>\n",
       "      <td>$10.69</td>\n",
       "      <td>$12.00</td>\n",
       "      <td>$13.38</td>\n",
       "      <td>25.12%</td>\n",
       "      <td>$1.31</td>\n",
       "      <td>$2.69</td>\n",
       "      <td>1</td>\n",
       "      <td>NaN</td>\n",
       "    </tr>\n",
       "    <tr>\n",
       "      <th>3631</th>\n",
       "      <td>12/12/00</td>\n",
       "      <td>GenVec</td>\n",
       "      <td>GNVC</td>\n",
       "      <td>J.P. Morgan</td>\n",
       "      <td>$9.50</td>\n",
       "      <td>$10.56</td>\n",
       "      <td>$9.88</td>\n",
       "      <td>3.95%</td>\n",
       "      <td>$1.06</td>\n",
       "      <td>$0.38</td>\n",
       "      <td>2</td>\n",
       "      <td>NaN</td>\n",
       "    </tr>\n",
       "    <tr>\n",
       "      <th>3632</th>\n",
       "      <td>12/15/00</td>\n",
       "      <td>Resources Connection</td>\n",
       "      <td>RECN</td>\n",
       "      <td>Credit Suisse First Boston</td>\n",
       "      <td>$12.00</td>\n",
       "      <td>$13.63</td>\n",
       "      <td>$16.00</td>\n",
       "      <td>33.33%</td>\n",
       "      <td>$1.63</td>\n",
       "      <td>$4.00</td>\n",
       "      <td>2</td>\n",
       "      <td>NaN</td>\n",
       "    </tr>\n",
       "  </tbody>\n",
       "</table>\n",
       "<p>3633 rows × 12 columns</p>\n",
       "</div>"
      ],
      "text/plain": [
       "     trade_date    unnamed:_1_level_0_issuer unnamed:_2_level_0_symbol  \\\n",
       "0       1/17/20                       I-Mab                       IMAB   \n",
       "1       1/17/20                       LIZHI                       LIZI   \n",
       "2       1/17/20  Phoenix Tree Holdings Ltd.                        DNK   \n",
       "3       1/17/20          Velocity Financial                        VEL   \n",
       "4       1/24/20           Gores Holdings IV                      GHIVU   \n",
       "...         ...                          ...                       ...   \n",
       "3628    12/8/00      Specialty Laboratories                         SP   \n",
       "3629    12/8/00          W.P. Stewart & Co.                        WPL   \n",
       "3630   12/11/00                     Gemplus                       GEMP   \n",
       "3631   12/12/00                       GenVec                      GNVC   \n",
       "3632   12/15/00        Resources Connection                       RECN   \n",
       "\n",
       "                              lead/joint-lead__managers offer_price  \\\n",
       "0                                       Jefferies/ CICC     $14.00    \n",
       "1                              Credit Suisse/ Citigroup     $11.00    \n",
       "2                 Citigroup/ Credit Suisse/ J.P. Morgan     $13.50    \n",
       "3     Wells Fargo Securities/ Citigroup/ JMP Securities     $13.00    \n",
       "4                              Deutsche Bank Securities     $10.00    \n",
       "...                                                 ...         ...   \n",
       "3628                                      Merrill Lynch     $16.00    \n",
       "3629                               Goldman Sachs/Lazard     $20.00    \n",
       "3630                         Credit Suisse First Boston     $10.69    \n",
       "3631                                        J.P. Morgan      $9.50    \n",
       "3632                         Credit Suisse First Boston     $12.00    \n",
       "\n",
       "     opening_price 1st_day_close 1st_day_%_px_chng_ $_change_opening  \\\n",
       "0          $14.75        $12.75              -8.93%           $0.75    \n",
       "1          $11.03        $11.63               5.73%           $0.03    \n",
       "2          $13.50        $13.50               0.00%           $0.00    \n",
       "3          $13.85        $13.51               3.92%           $0.85    \n",
       "4          $10.52        $10.45               4.50%           $0.52    \n",
       "...            ...           ...                ...              ...   \n",
       "3628       $21.94        $23.31              45.70%           $5.94    \n",
       "3629       $22.06        $24.50              22.50%           $2.06    \n",
       "3630       $12.00        $13.38              25.12%           $1.31    \n",
       "3631       $10.56         $9.88               3.95%           $1.06    \n",
       "3632       $13.63        $16.00              33.33%           $1.63    \n",
       "\n",
       "     $_change_close star_ratings unnamed:_11_level_0_performed  \n",
       "0           ($1.25)            2                           NaN  \n",
       "1            $0.63             1                           NaN  \n",
       "2            $0.00             1                           NaN  \n",
       "3            $0.51             1                           NaN  \n",
       "4            $0.45             1                           NaN  \n",
       "...             ...          ...                           ...  \n",
       "3628         $7.31             3                           NaN  \n",
       "3629         $4.50             2                           NaN  \n",
       "3630         $2.69             1                           NaN  \n",
       "3631         $0.38             2                           NaN  \n",
       "3632         $4.00             2                           NaN  \n",
       "\n",
       "[3633 rows x 12 columns]"
      ]
     },
     "execution_count": 5,
     "metadata": {},
     "output_type": "execute_result"
    }
   ],
   "source": [
    "managers "
   ]
  },
  {
   "cell_type": "code",
   "execution_count": 6,
   "id": "af920d00",
   "metadata": {},
   "outputs": [],
   "source": [
    "managers.rename(columns={\n",
    "    'unnamed:_1_level_0_issuer':'company_name', \n",
    "    'unnamed:_2_level_0_symbol': 'ticker',\n",
    "    'lead/joint-lead__managers': 'all_managers',\n",
    "    'opening_price': 'open',\n",
    "    '1st_day_close': 'close',\n",
    "    'offer_price': 'offer',\n",
    "\n",
    "    'unnamed:_11_level_0_performed': 'performed'},\n",
    "                inplace=True)"
   ]
  },
  {
   "cell_type": "code",
   "execution_count": 7,
   "id": "817e4c38",
   "metadata": {},
   "outputs": [],
   "source": [
    "managers.drop(managers.columns[np.r_[7:12]],inplace=True,axis=1)"
   ]
  },
  {
   "cell_type": "code",
   "execution_count": 8,
   "id": "2454253c",
   "metadata": {},
   "outputs": [],
   "source": [
    "managers.drop_duplicates(inplace=True)"
   ]
  },
  {
   "cell_type": "code",
   "execution_count": 9,
   "id": "3188730c",
   "metadata": {},
   "outputs": [],
   "source": [
    "managers= managers.groupby(['ticker']).max().reset_index()"
   ]
  },
  {
   "cell_type": "markdown",
   "id": "96d03c47",
   "metadata": {},
   "source": [
    "**Data Formatting**"
   ]
  },
  {
   "cell_type": "code",
   "execution_count": 10,
   "id": "b9a9ce42",
   "metadata": {},
   "outputs": [],
   "source": [
    "def format_prices(df,col):\n",
    "    df[col] = df[col].str.strip('$\\n\\t').str.replace(',','').astype(float)\n",
    "    return df[col]\n",
    "\n",
    "cols = ['close', 'open','offer']\n",
    "\n",
    "for col in cols:\n",
    "    format_prices(managers,col)\n"
   ]
  },
  {
   "cell_type": "code",
   "execution_count": 11,
   "id": "274d2e5e",
   "metadata": {},
   "outputs": [],
   "source": [
    "managers['trade_date'] = pd.to_datetime(managers['trade_date'], errors = 'coerce')\n"
   ]
  },
  {
   "cell_type": "code",
   "execution_count": 12,
   "id": "a44c18da",
   "metadata": {},
   "outputs": [
    {
     "data": {
      "text/plain": [
       "['ticker', 'trade_date', 'company_name', 'offer', 'open', 'close']"
      ]
     },
     "execution_count": 12,
     "metadata": {},
     "output_type": "execute_result"
    }
   ],
   "source": [
    "# turn multi-valued managers cells into multi-row, single-valued --> -->\n",
    "managers_columns = list(managers.columns)\n",
    "managers_columns.remove('all_managers')\n",
    "managers_columns"
   ]
  },
  {
   "cell_type": "code",
   "execution_count": 13,
   "id": "17ab455e",
   "metadata": {},
   "outputs": [
    {
     "data": {
      "text/plain": [
       "0       [J.P. Morgan ,  Credit Suisse ,  Goldman Sachs...\n",
       "1                                      [Rodman & Renshaw]\n",
       "2                             [Citigroup ,  Jefferies​ ​]\n",
       "3                        [William Blair ,  Raymond James]\n",
       "4                                          [Bear Stearns]\n",
       "                              ...                        \n",
       "3538                                     [Morgan Stanley]\n",
       "3539    [Citigroup ,  Barclays ,  Wells Fargo Securiti...\n",
       "3540                         [Jefferies ,  Piper Jaffray]\n",
       "3541    [Citigroup , Goldman Sachs , JP Morgan , Banc ...\n",
       "3542    [BofA Merrill Lynch , Goldman Sachs , J.P. Mor...\n",
       "Name: all_managers, Length: 3543, dtype: object"
      ]
     },
     "execution_count": 13,
     "metadata": {},
     "output_type": "execute_result"
    }
   ],
   "source": [
    "managers.dropna(subset=['all_managers'], inplace=True)\n",
    "managers['all_managers'] = managers['all_managers'].map(lambda x: x.replace(\"/\",\" ,\"))\n",
    "\n",
    "managers['all_managers'] = managers['all_managers'].map(lambda x: x.split(\",\"))\n",
    "managers['all_managers']"
   ]
  },
  {
   "cell_type": "code",
   "execution_count": 14,
   "id": "65428543",
   "metadata": {},
   "outputs": [],
   "source": [
    "managers_melt = managers.all_managers.apply(pd.Series) \\\n",
    "    .merge(managers, right_index = True, left_index = True) \\\n",
    "    .drop([\"all_managers\"], axis = 1) \\\n",
    "    .melt(id_vars = managers_columns , value_name = \"managers\") \n"
   ]
  },
  {
   "cell_type": "code",
   "execution_count": 15,
   "id": "2719d330",
   "metadata": {},
   "outputs": [],
   "source": [
    "managers_melt.dropna(subset=['managers'], inplace=True)"
   ]
  },
  {
   "cell_type": "code",
   "execution_count": 16,
   "id": "9fcd5e9c",
   "metadata": {},
   "outputs": [],
   "source": [
    "managers_melt.drop(managers_melt.columns[np.r_[6]],inplace=True,axis=1)"
   ]
  },
  {
   "cell_type": "code",
   "execution_count": 17,
   "id": "3dda18c0",
   "metadata": {},
   "outputs": [
    {
     "name": "stdout",
     "output_type": "stream",
     "text": [
      "<class 'pandas.core.frame.DataFrame'>\n",
      "Int64Index: 7956 entries, 0 to 52096\n",
      "Data columns (total 7 columns):\n",
      " #   Column        Non-Null Count  Dtype         \n",
      "---  ------        --------------  -----         \n",
      " 0   ticker        7956 non-null   object        \n",
      " 1   trade_date    7952 non-null   datetime64[ns]\n",
      " 2   company_name  7956 non-null   object        \n",
      " 3   offer         7956 non-null   float64       \n",
      " 4   open          7956 non-null   float64       \n",
      " 5   close         7956 non-null   float64       \n",
      " 6   managers      7956 non-null   object        \n",
      "dtypes: datetime64[ns](1), float64(3), object(3)\n",
      "memory usage: 497.2+ KB\n"
     ]
    }
   ],
   "source": [
    "managers_melt.info()"
   ]
  },
  {
   "cell_type": "code",
   "execution_count": 18,
   "id": "0cbb7985",
   "metadata": {},
   "outputs": [
    {
     "name": "stdout",
     "output_type": "stream",
     "text": [
      "<class 'pandas.core.frame.DataFrame'>\n",
      "Int64Index: 3543 entries, 0 to 3542\n",
      "Data columns (total 7 columns):\n",
      " #   Column        Non-Null Count  Dtype         \n",
      "---  ------        --------------  -----         \n",
      " 0   ticker        3543 non-null   object        \n",
      " 1   trade_date    3542 non-null   datetime64[ns]\n",
      " 2   company_name  3543 non-null   object        \n",
      " 3   all_managers  3543 non-null   object        \n",
      " 4   offer         3543 non-null   float64       \n",
      " 5   open          3543 non-null   float64       \n",
      " 6   close         3543 non-null   float64       \n",
      "dtypes: datetime64[ns](1), float64(3), object(3)\n",
      "memory usage: 350.5+ KB\n"
     ]
    }
   ],
   "source": [
    "managers.info()"
   ]
  },
  {
   "cell_type": "markdown",
   "id": "e55b1e3e",
   "metadata": {},
   "source": [
    "# Save Collected Data "
   ]
  },
  {
   "cell_type": "code",
   "execution_count": 19,
   "id": "bd7a2aaf",
   "metadata": {},
   "outputs": [
    {
     "data": {
      "text/plain": [
       "['managers_all.pkl']"
      ]
     },
     "execution_count": 19,
     "metadata": {},
     "output_type": "execute_result"
    }
   ],
   "source": [
    "import joblib \n",
    "joblib.dump(managers_melt,\"managers_melt.pkl\")\n",
    "joblib.dump(managers,\"managers_all.pkl\")\n"
   ]
  },
  {
   "cell_type": "code",
   "execution_count": 20,
   "id": "b22246df",
   "metadata": {},
   "outputs": [
    {
     "name": "stdout",
     "output_type": "stream",
     "text": [
      "1_collect_clean_AGE.ipynb       \u001b[34mdata\u001b[m\u001b[m/\r\n",
      "2_collect_clean_MANAGERS.ipynb  ipo_180.pkl\r\n",
      "3a_collect_SEC.ipynb            managers_all.pkl\r\n",
      "3b_clean_SEC.ipynb              managers_melt.pkl\r\n",
      "4a_collect_YF1.ipynb            sec_10k.pkl\r\n",
      "4b_clean_YF1.ipynb              sec_10k_raw.pkl\r\n",
      "5a_collect_YF2.ipynb            yf1.pkl\r\n",
      "5b_clean_YF2.ipynb              yf1_raw.pkl\r\n",
      "age.pkl                         yf2.pkl\r\n",
      "crowdfunding.pkl\r\n"
     ]
    }
   ],
   "source": [
    "ls\n"
   ]
  },
  {
   "cell_type": "code",
   "execution_count": null,
   "id": "244e6f20",
   "metadata": {},
   "outputs": [],
   "source": []
  },
  {
   "cell_type": "code",
   "execution_count": null,
   "id": "cada8900",
   "metadata": {},
   "outputs": [],
   "source": []
  }
 ],
 "metadata": {
  "kernelspec": {
   "display_name": "Python 3",
   "language": "python",
   "name": "python3"
  },
  "language_info": {
   "codemirror_mode": {
    "name": "ipython",
    "version": 3
   },
   "file_extension": ".py",
   "mimetype": "text/x-python",
   "name": "python",
   "nbconvert_exporter": "python",
   "pygments_lexer": "ipython3",
   "version": "3.8.8"
  }
 },
 "nbformat": 4,
 "nbformat_minor": 5
}
