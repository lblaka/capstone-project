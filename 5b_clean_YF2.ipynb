{
 "cells": [
  {
   "cell_type": "code",
   "execution_count": 1,
   "id": "d8cb5f57",
   "metadata": {},
   "outputs": [],
   "source": [
    "import pandas as pd \n",
    "import numpy as np \n",
    "import joblib"
   ]
  },
  {
   "cell_type": "code",
   "execution_count": 2,
   "id": "09c1a993",
   "metadata": {},
   "outputs": [],
   "source": [
    "\n",
    "\n",
    "def concat(file,numbers):\n",
    "    urls = []\n",
    "    for num in numbers:         \n",
    "        url=f\"data/yahoo_ipo/{file}{num}\"\n",
    "        urls.append(url)\n",
    "        \n",
    "    files = []\n",
    "    for url in urls:\n",
    "        file = pd.read_csv(url)\n",
    "        files.append(file)\n",
    "    df = pd.concat(files)\n",
    "    \n",
    "    return df\n",
    " "
   ]
  },
  {
   "cell_type": "code",
   "execution_count": 3,
   "id": "08d4360e",
   "metadata": {},
   "outputs": [],
   "source": [
    "numbers1 = ['200','1000','2000','2500',\n",
    "           '2_500','2_1000','2_1500','2_2000','2_2500','2_3500','2_4000','2_4500','2_5000','2_5500',\n",
    "           '2_6000','2_6500','2_7000','2_8000','2_8500','2_9000','2_10000']\n",
    "numbers180 = ['1000','2000','3000','3500','4000','4500','5000','5500','6000','6500','7000','7500','8000','8500',\n",
    "              '9000','9500','10000']\n",
    "\n",
    "file1='yf2_'\n",
    "file180='post_6mo_'\n",
    "\n",
    "\n",
    "ipo_1_raw = concat(file1,numbers1)\n",
    "ipo_180_raw = concat(file180,numbers180)\n"
   ]
  },
  {
   "cell_type": "code",
   "execution_count": 4,
   "id": "59c85e0d",
   "metadata": {},
   "outputs": [],
   "source": [
    "def ipo_returns(df,col1,col2):\n",
    "    ret = (df[col2] - df[col1] )/df[col1]\n",
    "    return ret"
   ]
  },
  {
   "cell_type": "code",
   "execution_count": 5,
   "id": "1f512c01",
   "metadata": {},
   "outputs": [],
   "source": [
    "ipo_1_raw['day_1_%'] = ipo_returns(ipo_1_raw,'open','close')"
   ]
  },
  {
   "cell_type": "code",
   "execution_count": 6,
   "id": "6796184c",
   "metadata": {},
   "outputs": [],
   "source": [
    "ipo_180_raw['month_7_%'] = ipo_returns(ipo_180_raw,'open','close')"
   ]
  },
  {
   "cell_type": "code",
   "execution_count": 7,
   "id": "8fa3c4b6",
   "metadata": {},
   "outputs": [],
   "source": [
    "dfs = [ipo_1_raw,ipo_180_raw]\n",
    "for df in dfs:\n",
    "    df.drop(columns=['Unnamed: 0','date'],inplace=True)\n",
    "    df.rename(columns = {'formatted_date': 'trade_date'},\n",
    "              inplace=True)\n",
    "    df.drop_duplicates(inplace=True)\n",
    "    df.groupby(['ticker']).max().reset_index()\n",
    "    df['trade_date'] = pd.to_datetime(df['trade_date'], errors = 'coerce')\n",
    "    \n",
    "    \n"
   ]
  },
  {
   "cell_type": "code",
   "execution_count": 8,
   "id": "e5deb24e",
   "metadata": {},
   "outputs": [],
   "source": [
    "yf2 = ipo_1_raw.merge(ipo_180_raw, how ='left', on='ticker')"
   ]
  },
  {
   "cell_type": "code",
   "execution_count": 9,
   "id": "b82e89e5",
   "metadata": {},
   "outputs": [],
   "source": [
    "yf2.rename(columns={'trade_date_x': 'trade_date'},\n",
    "                inplace=True) \n"
   ]
  },
  {
   "cell_type": "code",
   "execution_count": 10,
   "id": "aad6c3a0",
   "metadata": {},
   "outputs": [
    {
     "name": "stdout",
     "output_type": "stream",
     "text": [
      "<class 'pandas.core.frame.DataFrame'>\n",
      "Int64Index: 3420 entries, 0 to 3419\n",
      "Data columns (total 4 columns):\n",
      " #   Column      Non-Null Count  Dtype         \n",
      "---  ------      --------------  -----         \n",
      " 0   ticker      3420 non-null   object        \n",
      " 1   trade_date  3420 non-null   datetime64[ns]\n",
      " 2   day_1_%     3420 non-null   float64       \n",
      " 3   month_7_%   2588 non-null   float64       \n",
      "dtypes: datetime64[ns](1), float64(2), object(1)\n",
      "memory usage: 133.6+ KB\n"
     ]
    }
   ],
   "source": [
    "\n",
    "yf2= yf2[['ticker','trade_date','day_1_%','month_7_%']]\n",
    "yf2.info()"
   ]
  },
  {
   "cell_type": "code",
   "execution_count": 11,
   "id": "256bee71",
   "metadata": {
    "scrolled": true
   },
   "outputs": [
    {
     "data": {
      "text/plain": [
       "['yf2.pkl']"
      ]
     },
     "execution_count": 11,
     "metadata": {},
     "output_type": "execute_result"
    }
   ],
   "source": [
    "joblib.dump(yf2,\"yf2.pkl\")"
   ]
  },
  {
   "cell_type": "code",
   "execution_count": null,
   "id": "b8bf2c52",
   "metadata": {},
   "outputs": [],
   "source": []
  },
  {
   "cell_type": "code",
   "execution_count": null,
   "id": "fbba7053",
   "metadata": {},
   "outputs": [],
   "source": []
  },
  {
   "cell_type": "code",
   "execution_count": null,
   "id": "2f0d23d6",
   "metadata": {},
   "outputs": [],
   "source": []
  },
  {
   "cell_type": "code",
   "execution_count": null,
   "id": "f295e354",
   "metadata": {},
   "outputs": [],
   "source": []
  }
 ],
 "metadata": {
  "kernelspec": {
   "display_name": "Python 3",
   "language": "python",
   "name": "python3"
  },
  "language_info": {
   "codemirror_mode": {
    "name": "ipython",
    "version": 3
   },
   "file_extension": ".py",
   "mimetype": "text/x-python",
   "name": "python",
   "nbconvert_exporter": "python",
   "pygments_lexer": "ipython3",
   "version": "3.8.8"
  }
 },
 "nbformat": 4,
 "nbformat_minor": 5
}
