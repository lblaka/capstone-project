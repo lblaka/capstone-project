{
 "cells": [
  {
   "cell_type": "code",
   "execution_count": 1,
   "id": "170381f4",
   "metadata": {},
   "outputs": [],
   "source": [
    "import joblib\n",
    "import pandas as pd\n",
    "import datetime\n",
    "import yfinance as yf\n"
   ]
  },
  {
   "cell_type": "code",
   "execution_count": 2,
   "id": "fe575f3d",
   "metadata": {},
   "outputs": [],
   "source": [
    "tickers = []"
   ]
  },
  {
   "cell_type": "code",
   "execution_count": 3,
   "id": "7c9a9b7f",
   "metadata": {},
   "outputs": [],
   "source": [
    "cols = ['symbol',\n",
    "'sector',        \n",
    "'totalRevenue',\n",
    "'fullTimeEmployees',\n",
    "'ebitdaMargins',\n",
    "'profitMargins',\n",
    "'grossMargins',\n",
    "'operatingCashflow',\n",
    "'revenueGrowth',\n",
    "'operatingMargins',\n",
    "'ebitda',\n",
    "'grossProfits',\n",
    "'bookValue',\n",
    "'nextFiscalYearEnd',\n",
    "'enterpriseToRevenue',\n",
    "'enterpriseValue',\n",
    "'marketCap']\n",
    "df = pd.DataFrame(columns=cols)\n"
   ]
  },
  {
   "cell_type": "code",
   "execution_count": 4,
   "id": "279bcf2a",
   "metadata": {},
   "outputs": [
    {
     "data": {
      "text/html": [
       "<div>\n",
       "<style scoped>\n",
       "    .dataframe tbody tr th:only-of-type {\n",
       "        vertical-align: middle;\n",
       "    }\n",
       "\n",
       "    .dataframe tbody tr th {\n",
       "        vertical-align: top;\n",
       "    }\n",
       "\n",
       "    .dataframe thead th {\n",
       "        text-align: right;\n",
       "    }\n",
       "</style>\n",
       "<table border=\"1\" class=\"dataframe\">\n",
       "  <thead>\n",
       "    <tr style=\"text-align: right;\">\n",
       "      <th></th>\n",
       "      <th>symbol</th>\n",
       "      <th>sector</th>\n",
       "      <th>totalRevenue</th>\n",
       "      <th>fullTimeEmployees</th>\n",
       "      <th>ebitdaMargins</th>\n",
       "      <th>profitMargins</th>\n",
       "      <th>grossMargins</th>\n",
       "      <th>operatingCashflow</th>\n",
       "      <th>revenueGrowth</th>\n",
       "      <th>operatingMargins</th>\n",
       "      <th>ebitda</th>\n",
       "      <th>grossProfits</th>\n",
       "      <th>bookValue</th>\n",
       "      <th>nextFiscalYearEnd</th>\n",
       "      <th>enterpriseToRevenue</th>\n",
       "      <th>enterpriseValue</th>\n",
       "      <th>marketCap</th>\n",
       "    </tr>\n",
       "  </thead>\n",
       "  <tbody>\n",
       "  </tbody>\n",
       "</table>\n",
       "</div>"
      ],
      "text/plain": [
       "Empty DataFrame\n",
       "Columns: [symbol, sector, totalRevenue, fullTimeEmployees, ebitdaMargins, profitMargins, grossMargins, operatingCashflow, revenueGrowth, operatingMargins, ebitda, grossProfits, bookValue, nextFiscalYearEnd, enterpriseToRevenue, enterpriseValue, marketCap]\n",
       "Index: []"
      ]
     },
     "execution_count": 4,
     "metadata": {},
     "output_type": "execute_result"
    }
   ],
   "source": [
    " \n",
    "symbols = []    \n",
    "for ticker in tickers:\n",
    "    ticker = yf.Ticker(ticker)\n",
    "    symbols.append(ticker)\n",
    "symbols    \n",
    "\n",
    "        \n",
    "rows = []\n",
    "rows_processed=0\n",
    "\n",
    "\n",
    "for symbol in symbols:\n",
    "#     clear_output(wait=True)\n",
    "    values = []\n",
    "    try:\n",
    "        \n",
    "        for col in cols:\n",
    "            if col not in list(symbol.info.keys()):\n",
    "                for val in list(symbol.info.values()):\n",
    "                    val = 'Null'\n",
    "\n",
    "            else:\n",
    "                for val in list(symbol.info.values()):\n",
    "                    val = symbol.info[col]\n",
    "            values.append(val)\n",
    "\n",
    "        rows.append(values)\n",
    "        rows_processed += 1\n",
    "\n",
    "    except  (RuntimeError, IndexError, TypeError,KeyError):\n",
    "        pass\n",
    "    print('Progress: {}/{} rows processed'.format(rows_processed, len(tickers)) )\n",
    "    print(f\"\"\"current progress : {rows_processed/len(tickers)*100} %\"\"\" )\n",
    "\n",
    "    print(f\"\"\"finished {symbol} at {str(datetime.datetime.now())}\"\"\" )    \n",
    "    \n",
    "df = df.append(pd.DataFrame(rows, columns=cols))\n",
    "df\n"
   ]
  },
  {
   "cell_type": "code",
   "execution_count": 5,
   "id": "0913f32b",
   "metadata": {},
   "outputs": [],
   "source": [
    "df.to_csv('data/yahoo_finance/ ')"
   ]
  },
  {
   "cell_type": "code",
   "execution_count": null,
   "id": "c76e61ee",
   "metadata": {},
   "outputs": [],
   "source": []
  }
 ],
 "metadata": {
  "kernelspec": {
   "display_name": "Python 3",
   "language": "python",
   "name": "python3"
  },
  "language_info": {
   "codemirror_mode": {
    "name": "ipython",
    "version": 3
   },
   "file_extension": ".py",
   "mimetype": "text/x-python",
   "name": "python",
   "nbconvert_exporter": "python",
   "pygments_lexer": "ipython3",
   "version": "3.8.8"
  }
 },
 "nbformat": 4,
 "nbformat_minor": 5
}
