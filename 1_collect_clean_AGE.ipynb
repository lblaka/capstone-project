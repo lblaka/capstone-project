{
 "cells": [
  {
   "cell_type": "code",
   "execution_count": 1,
   "id": "2314a119",
   "metadata": {},
   "outputs": [],
   "source": [
    "import pandas as pd\n",
    "import os\n",
    "import requests, zipfile, io\n",
    "import numpy as np\n"
   ]
  },
  {
   "cell_type": "markdown",
   "id": "cbc5b4df",
   "metadata": {},
   "source": [
    "# Age"
   ]
  },
  {
   "cell_type": "code",
   "execution_count": 2,
   "id": "c949c7fa",
   "metadata": {},
   "outputs": [
    {
     "data": {
      "text/html": [
       "<div>\n",
       "<style scoped>\n",
       "    .dataframe tbody tr th:only-of-type {\n",
       "        vertical-align: middle;\n",
       "    }\n",
       "\n",
       "    .dataframe tbody tr th {\n",
       "        vertical-align: top;\n",
       "    }\n",
       "\n",
       "    .dataframe thead th {\n",
       "        text-align: right;\n",
       "    }\n",
       "</style>\n",
       "<table border=\"1\" class=\"dataframe\">\n",
       "  <thead>\n",
       "    <tr style=\"text-align: right;\">\n",
       "      <th></th>\n",
       "      <th>CUSIP</th>\n",
       "      <th>Offer date</th>\n",
       "      <th>Company name</th>\n",
       "      <th>Ticker</th>\n",
       "      <th>Founding</th>\n",
       "      <th>PERM</th>\n",
       "      <th>VC dummy</th>\n",
       "      <th>Rollup</th>\n",
       "      <th>Dual</th>\n",
       "      <th>Post-issue shares</th>\n",
       "      <th>Internet</th>\n",
       "    </tr>\n",
       "  </thead>\n",
       "  <tbody>\n",
       "    <tr>\n",
       "      <th>0</th>\n",
       "      <td>00846U101</td>\n",
       "      <td>19991117</td>\n",
       "      <td>Agilent Technologies Inc</td>\n",
       "      <td>A</td>\n",
       "      <td>1949</td>\n",
       "      <td>87432</td>\n",
       "      <td>0</td>\n",
       "      <td>0</td>\n",
       "      <td>0</td>\n",
       "      <td>.</td>\n",
       "      <td>0</td>\n",
       "    </tr>\n",
       "    <tr>\n",
       "      <th>1</th>\n",
       "      <td>7231103</td>\n",
       "      <td>19980925</td>\n",
       "      <td>Admiralty Bancorp Inc, FL</td>\n",
       "      <td>AAABB</td>\n",
       "      <td>1987</td>\n",
       "      <td>86352</td>\n",
       "      <td>0</td>\n",
       "      <td>0</td>\n",
       "      <td>0</td>\n",
       "      <td>.</td>\n",
       "      <td>0</td>\n",
       "    </tr>\n",
       "    <tr>\n",
       "      <th>2</th>\n",
       "      <td>00790T100</td>\n",
       "      <td>20151111</td>\n",
       "      <td>Advanced Accelerator</td>\n",
       "      <td>AAAP</td>\n",
       "      <td>2002</td>\n",
       "      <td>15829</td>\n",
       "      <td>1</td>\n",
       "      <td>0</td>\n",
       "      <td>0</td>\n",
       "      <td>.</td>\n",
       "      <td>0</td>\n",
       "    </tr>\n",
       "    <tr>\n",
       "      <th>3</th>\n",
       "      <td>307108</td>\n",
       "      <td>20141002</td>\n",
       "      <td>AAC Holdings Inc</td>\n",
       "      <td>AAC</td>\n",
       "      <td>2009</td>\n",
       "      <td>14945</td>\n",
       "      <td>0</td>\n",
       "      <td>0</td>\n",
       "      <td>0</td>\n",
       "      <td>.</td>\n",
       "      <td>0</td>\n",
       "    </tr>\n",
       "    <tr>\n",
       "      <th>4</th>\n",
       "      <td>04543P100</td>\n",
       "      <td>20040204</td>\n",
       "      <td>Asset Acceptance Corp</td>\n",
       "      <td>AACC</td>\n",
       "      <td>1962</td>\n",
       "      <td>90020</td>\n",
       "      <td>0</td>\n",
       "      <td>0</td>\n",
       "      <td>0</td>\n",
       "      <td>.</td>\n",
       "      <td>0</td>\n",
       "    </tr>\n",
       "    <tr>\n",
       "      <th>...</th>\n",
       "      <td>...</td>\n",
       "      <td>...</td>\n",
       "      <td>...</td>\n",
       "      <td>...</td>\n",
       "      <td>...</td>\n",
       "      <td>...</td>\n",
       "      <td>...</td>\n",
       "      <td>...</td>\n",
       "      <td>...</td>\n",
       "      <td>...</td>\n",
       "      <td>...</td>\n",
       "    </tr>\n",
       "    <tr>\n",
       "      <th>12001</th>\n",
       "      <td>09060J20</td>\n",
       "      <td>20020624</td>\n",
       "      <td>Biodelivery Sciences Int'l Inc</td>\n",
       "      <td>NaN</td>\n",
       "      <td>1997</td>\n",
       "      <td>89445</td>\n",
       "      <td>1</td>\n",
       "      <td>0</td>\n",
       "      <td>0</td>\n",
       "      <td>.</td>\n",
       "      <td>0</td>\n",
       "    </tr>\n",
       "    <tr>\n",
       "      <th>12002</th>\n",
       "      <td>78460M209</td>\n",
       "      <td>20040817</td>\n",
       "      <td>SNB Bancshares Inc,Texas</td>\n",
       "      <td>NaN</td>\n",
       "      <td>1985</td>\n",
       "      <td>90324</td>\n",
       "      <td>0</td>\n",
       "      <td>0</td>\n",
       "      <td>0</td>\n",
       "      <td>.</td>\n",
       "      <td>0</td>\n",
       "    </tr>\n",
       "    <tr>\n",
       "      <th>12003</th>\n",
       "      <td>33708M206</td>\n",
       "      <td>20041209</td>\n",
       "      <td>First State Financial Corp</td>\n",
       "      <td>NaN</td>\n",
       "      <td>-99</td>\n",
       "      <td>90480</td>\n",
       "      <td>0</td>\n",
       "      <td>0</td>\n",
       "      <td>0</td>\n",
       "      <td>.</td>\n",
       "      <td>0</td>\n",
       "    </tr>\n",
       "    <tr>\n",
       "      <th>12004</th>\n",
       "      <td>67071X100</td>\n",
       "      <td>20050620</td>\n",
       "      <td>Nuvim Inc</td>\n",
       "      <td>NaN</td>\n",
       "      <td>1999</td>\n",
       "      <td>.</td>\n",
       "      <td>0</td>\n",
       "      <td>0</td>\n",
       "      <td>0</td>\n",
       "      <td>.</td>\n",
       "      <td>0</td>\n",
       "    </tr>\n",
       "    <tr>\n",
       "      <th>12005</th>\n",
       "      <td>86782T109</td>\n",
       "      <td>20110330</td>\n",
       "      <td>Sunshine Financial Inc</td>\n",
       "      <td>NaN</td>\n",
       "      <td>-99</td>\n",
       "      <td>.</td>\n",
       "      <td>0</td>\n",
       "      <td>.</td>\n",
       "      <td>0</td>\n",
       "      <td>.</td>\n",
       "      <td>0</td>\n",
       "    </tr>\n",
       "  </tbody>\n",
       "</table>\n",
       "<p>12006 rows × 11 columns</p>\n",
       "</div>"
      ],
      "text/plain": [
       "           CUSIP  Offer date                    Company name Ticker Founding  \\\n",
       "0      00846U101    19991117        Agilent Technologies Inc      A     1949   \n",
       "1        7231103    19980925       Admiralty Bancorp Inc, FL  AAABB     1987   \n",
       "2      00790T100    20151111            Advanced Accelerator   AAAP     2002   \n",
       "3         307108    20141002                AAC Holdings Inc    AAC     2009   \n",
       "4      04543P100    20040204           Asset Acceptance Corp   AACC     1962   \n",
       "...          ...         ...                             ...    ...      ...   \n",
       "12001   09060J20    20020624  Biodelivery Sciences Int'l Inc    NaN     1997   \n",
       "12002  78460M209    20040817        SNB Bancshares Inc,Texas    NaN     1985   \n",
       "12003  33708M206    20041209      First State Financial Corp    NaN      -99   \n",
       "12004  67071X100    20050620                       Nuvim Inc    NaN     1999   \n",
       "12005  86782T109    20110330          Sunshine Financial Inc    NaN      -99   \n",
       "\n",
       "        PERM VC dummy Rollup Dual Post-issue shares Internet  \n",
       "0      87432        0      0    0                 .        0  \n",
       "1      86352        0      0    0                 .        0  \n",
       "2      15829        1      0    0                 .        0  \n",
       "3      14945        0      0    0                 .        0  \n",
       "4      90020        0      0    0                 .        0  \n",
       "...      ...      ...    ...  ...               ...      ...  \n",
       "12001  89445        1      0    0                 .        0  \n",
       "12002  90324        0      0    0                 .        0  \n",
       "12003  90480        0      0    0                 .        0  \n",
       "12004      .        0      0    0                 .        0  \n",
       "12005      .        0      .    0                 .        0  \n",
       "\n",
       "[12006 rows x 11 columns]"
      ]
     },
     "execution_count": 2,
     "metadata": {},
     "output_type": "execute_result"
    }
   ],
   "source": [
    "age = pd.read_csv(\"data/ipo_age.csv\")\n",
    "age"
   ]
  },
  {
   "cell_type": "code",
   "execution_count": 3,
   "id": "14158bc1",
   "metadata": {},
   "outputs": [],
   "source": [
    "age.columns = age.columns.str.replace(' ','_').str.lower()"
   ]
  },
  {
   "cell_type": "code",
   "execution_count": 4,
   "id": "73663db8",
   "metadata": {},
   "outputs": [],
   "source": [
    "age.drop(age.columns[np.r_[0,1,5,9]], axis=1, inplace=True)"
   ]
  },
  {
   "cell_type": "code",
   "execution_count": 5,
   "id": "e4618c61",
   "metadata": {},
   "outputs": [
    {
     "name": "stdout",
     "output_type": "stream",
     "text": [
      "<class 'pandas.core.frame.DataFrame'>\n",
      "RangeIndex: 12006 entries, 0 to 12005\n",
      "Data columns (total 7 columns):\n",
      " #   Column        Non-Null Count  Dtype \n",
      "---  ------        --------------  ----- \n",
      " 0   company_name  12006 non-null  object\n",
      " 1   ticker        11600 non-null  object\n",
      " 2   founding      12006 non-null  object\n",
      " 3   vc_dummy      12006 non-null  object\n",
      " 4   rollup        12006 non-null  object\n",
      " 5   dual          12006 non-null  object\n",
      " 6   internet      12006 non-null  object\n",
      "dtypes: object(7)\n",
      "memory usage: 656.7+ KB\n"
     ]
    }
   ],
   "source": [
    "age.info()"
   ]
  },
  {
   "cell_type": "code",
   "execution_count": 6,
   "id": "551741d5",
   "metadata": {},
   "outputs": [
    {
     "name": "stdout",
     "output_type": "stream",
     "text": [
      "<class 'pandas.core.frame.DataFrame'>\n",
      "Int64Index: 11600 entries, 0 to 11605\n",
      "Data columns (total 7 columns):\n",
      " #   Column        Non-Null Count  Dtype \n",
      "---  ------        --------------  ----- \n",
      " 0   company_name  11600 non-null  object\n",
      " 1   ticker        11600 non-null  object\n",
      " 2   founding      11600 non-null  object\n",
      " 3   vc_dummy      11600 non-null  object\n",
      " 4   rollup        11600 non-null  object\n",
      " 5   dual          11600 non-null  object\n",
      " 6   internet      11600 non-null  object\n",
      "dtypes: object(7)\n",
      "memory usage: 725.0+ KB\n"
     ]
    }
   ],
   "source": [
    "age = age[age['ticker'].notna()]\n",
    "age.info()"
   ]
  },
  {
   "cell_type": "markdown",
   "id": "9bf222a8",
   "metadata": {},
   "source": [
    "**Manual Data Formatting**"
   ]
  },
  {
   "cell_type": "code",
   "execution_count": 7,
   "id": "781c5450",
   "metadata": {},
   "outputs": [
    {
     "name": "stderr",
     "output_type": "stream",
     "text": [
      "/Users/lorelablaka/opt/anaconda3/lib/python3.8/site-packages/pandas/core/frame.py:4524: SettingWithCopyWarning: \n",
      "A value is trying to be set on a copy of a slice from a DataFrame\n",
      "\n",
      "See the caveats in the documentation: https://pandas.pydata.org/pandas-docs/stable/user_guide/indexing.html#returning-a-view-versus-a-copy\n",
      "  return super().replace(\n"
     ]
    }
   ],
   "source": [
    "age[age['ticker']=='BIGC'].replace('-99','2009',inplace=True)"
   ]
  },
  {
   "cell_type": "code",
   "execution_count": 8,
   "id": "e936f433",
   "metadata": {},
   "outputs": [],
   "source": [
    "age[age['ticker']=='ANNX'].replace('-99','2011',inplace=True)"
   ]
  },
  {
   "cell_type": "code",
   "execution_count": 9,
   "id": "2fe344a5",
   "metadata": {},
   "outputs": [],
   "source": [
    "age.replace(['9','.'], '0',inplace=True)\n"
   ]
  },
  {
   "cell_type": "code",
   "execution_count": 10,
   "id": "def9cbc2",
   "metadata": {},
   "outputs": [
    {
     "data": {
      "text/html": [
       "<div>\n",
       "<style scoped>\n",
       "    .dataframe tbody tr th:only-of-type {\n",
       "        vertical-align: middle;\n",
       "    }\n",
       "\n",
       "    .dataframe tbody tr th {\n",
       "        vertical-align: top;\n",
       "    }\n",
       "\n",
       "    .dataframe thead th {\n",
       "        text-align: right;\n",
       "    }\n",
       "</style>\n",
       "<table border=\"1\" class=\"dataframe\">\n",
       "  <thead>\n",
       "    <tr style=\"text-align: right;\">\n",
       "      <th></th>\n",
       "      <th>company_name</th>\n",
       "      <th>ticker</th>\n",
       "      <th>founding</th>\n",
       "      <th>vc_dummy</th>\n",
       "      <th>rollup</th>\n",
       "      <th>dual</th>\n",
       "      <th>internet</th>\n",
       "    </tr>\n",
       "  </thead>\n",
       "  <tbody>\n",
       "  </tbody>\n",
       "</table>\n",
       "</div>"
      ],
      "text/plain": [
       "Empty DataFrame\n",
       "Columns: [company_name, ticker, founding, vc_dummy, rollup, dual, internet]\n",
       "Index: []"
      ]
     },
     "execution_count": 10,
     "metadata": {},
     "output_type": "execute_result"
    }
   ],
   "source": [
    "messy_columns = age[(age[\"vc_dummy\"].isin(['9','.']))\n",
    "   | (age[\"dual\"].isin(['9','.']))\n",
    "   | (age[\"rollup\"].isin(['.']))\n",
    "   | (age[\"internet\"].isin(['9','.']))]\n",
    "\n",
    "messy_columns[messy_columns[\"rollup\"].isin(['9','.'])] "
   ]
  },
  {
   "cell_type": "markdown",
   "id": "54ce9da6",
   "metadata": {},
   "source": [
    "<br>**vc_dummy** - is a dummy with 1 for VC and 2 for a subset of VC (growth capital)\n",
    "<br>**dual** - dummy for multiple share class IPOs\n",
    "<br>**rollup** - 0-1 dummy variable for whether the IPO was a rollup \n",
    "<br>**internet** - dummy with 1 if it is an internet-based  company "
   ]
  },
  {
   "cell_type": "code",
   "execution_count": 11,
   "id": "12f3397e",
   "metadata": {},
   "outputs": [
    {
     "name": "stdout",
     "output_type": "stream",
     "text": [
      "<class 'pandas.core.frame.DataFrame'>\n",
      "Int64Index: 11600 entries, 0 to 11605\n",
      "Data columns (total 7 columns):\n",
      " #   Column        Non-Null Count  Dtype \n",
      "---  ------        --------------  ----- \n",
      " 0   company_name  11600 non-null  object\n",
      " 1   ticker        11600 non-null  object\n",
      " 2   founding      11600 non-null  object\n",
      " 3   vc_dummy      11600 non-null  object\n",
      " 4   rollup        11600 non-null  object\n",
      " 5   dual          11600 non-null  object\n",
      " 6   internet      11600 non-null  object\n",
      "dtypes: object(7)\n",
      "memory usage: 725.0+ KB\n"
     ]
    }
   ],
   "source": [
    "age.info()"
   ]
  },
  {
   "cell_type": "code",
   "execution_count": 12,
   "id": "c630a3e4",
   "metadata": {},
   "outputs": [
    {
     "name": "stderr",
     "output_type": "stream",
     "text": [
      "<ipython-input-12-00299f27f858>:1: SettingWithCopyWarning: \n",
      "A value is trying to be set on a copy of a slice from a DataFrame\n",
      "\n",
      "See the caveats in the documentation: https://pandas.pydata.org/pandas-docs/stable/user_guide/indexing.html#returning-a-view-versus-a-copy\n",
      "  age.drop_duplicates(inplace=True)\n"
     ]
    }
   ],
   "source": [
    "age.drop_duplicates(inplace=True)"
   ]
  },
  {
   "cell_type": "code",
   "execution_count": 13,
   "id": "f02aa75b",
   "metadata": {},
   "outputs": [],
   "source": [
    "age= age.groupby(['ticker']).max().reset_index()"
   ]
  },
  {
   "cell_type": "code",
   "execution_count": 14,
   "id": "da087740",
   "metadata": {},
   "outputs": [
    {
     "data": {
      "text/html": [
       "<div>\n",
       "<style scoped>\n",
       "    .dataframe tbody tr th:only-of-type {\n",
       "        vertical-align: middle;\n",
       "    }\n",
       "\n",
       "    .dataframe tbody tr th {\n",
       "        vertical-align: top;\n",
       "    }\n",
       "\n",
       "    .dataframe thead th {\n",
       "        text-align: right;\n",
       "    }\n",
       "</style>\n",
       "<table border=\"1\" class=\"dataframe\">\n",
       "  <thead>\n",
       "    <tr style=\"text-align: right;\">\n",
       "      <th></th>\n",
       "      <th>ticker</th>\n",
       "      <th>company_name</th>\n",
       "      <th>founding</th>\n",
       "      <th>vc_dummy</th>\n",
       "      <th>rollup</th>\n",
       "      <th>dual</th>\n",
       "      <th>internet</th>\n",
       "    </tr>\n",
       "  </thead>\n",
       "  <tbody>\n",
       "    <tr>\n",
       "      <th>0</th>\n",
       "      <td>A</td>\n",
       "      <td>Agilent Technologies Inc</td>\n",
       "      <td>1949</td>\n",
       "      <td>0</td>\n",
       "      <td>0</td>\n",
       "      <td>0</td>\n",
       "      <td>0</td>\n",
       "    </tr>\n",
       "    <tr>\n",
       "      <th>1</th>\n",
       "      <td>AAABB</td>\n",
       "      <td>Admiralty Bancorp Inc, FL</td>\n",
       "      <td>1987</td>\n",
       "      <td>0</td>\n",
       "      <td>0</td>\n",
       "      <td>0</td>\n",
       "      <td>0</td>\n",
       "    </tr>\n",
       "    <tr>\n",
       "      <th>2</th>\n",
       "      <td>AAAP</td>\n",
       "      <td>Advanced Accelerator</td>\n",
       "      <td>2002</td>\n",
       "      <td>1</td>\n",
       "      <td>0</td>\n",
       "      <td>0</td>\n",
       "      <td>0</td>\n",
       "    </tr>\n",
       "    <tr>\n",
       "      <th>3</th>\n",
       "      <td>AAC</td>\n",
       "      <td>AAC Holdings Inc</td>\n",
       "      <td>2009</td>\n",
       "      <td>0</td>\n",
       "      <td>0</td>\n",
       "      <td>0</td>\n",
       "      <td>0</td>\n",
       "    </tr>\n",
       "    <tr>\n",
       "      <th>4</th>\n",
       "      <td>AACC</td>\n",
       "      <td>Asset Acceptance Corp</td>\n",
       "      <td>1962</td>\n",
       "      <td>0</td>\n",
       "      <td>0</td>\n",
       "      <td>0</td>\n",
       "      <td>0</td>\n",
       "    </tr>\n",
       "    <tr>\n",
       "      <th>...</th>\n",
       "      <td>...</td>\n",
       "      <td>...</td>\n",
       "      <td>...</td>\n",
       "      <td>...</td>\n",
       "      <td>...</td>\n",
       "      <td>...</td>\n",
       "      <td>...</td>\n",
       "    </tr>\n",
       "    <tr>\n",
       "      <th>10681</th>\n",
       "      <td>ZYMS</td>\n",
       "      <td>ZY MOS CORPORATION</td>\n",
       "      <td>1978</td>\n",
       "      <td>0</td>\n",
       "      <td>0</td>\n",
       "      <td>0</td>\n",
       "      <td>0</td>\n",
       "    </tr>\n",
       "    <tr>\n",
       "      <th>10682</th>\n",
       "      <td>ZYNE</td>\n",
       "      <td>Zynerba Pharmaceuticals Inc</td>\n",
       "      <td>2007</td>\n",
       "      <td>1</td>\n",
       "      <td>0</td>\n",
       "      <td>0</td>\n",
       "      <td>0</td>\n",
       "    </tr>\n",
       "    <tr>\n",
       "      <th>10683</th>\n",
       "      <td>ZYNX</td>\n",
       "      <td>Zynaxis</td>\n",
       "      <td>1987</td>\n",
       "      <td>1</td>\n",
       "      <td>0</td>\n",
       "      <td>0</td>\n",
       "      <td>0</td>\n",
       "    </tr>\n",
       "    <tr>\n",
       "      <th>10684</th>\n",
       "      <td>ZYTC</td>\n",
       "      <td>Zytec Corp</td>\n",
       "      <td>1983</td>\n",
       "      <td>0</td>\n",
       "      <td>0</td>\n",
       "      <td>0</td>\n",
       "      <td>0</td>\n",
       "    </tr>\n",
       "    <tr>\n",
       "      <th>10685</th>\n",
       "      <td>ZZ</td>\n",
       "      <td>Sealy Corp</td>\n",
       "      <td>1881</td>\n",
       "      <td>0</td>\n",
       "      <td>0</td>\n",
       "      <td>0</td>\n",
       "      <td>0</td>\n",
       "    </tr>\n",
       "  </tbody>\n",
       "</table>\n",
       "<p>10686 rows × 7 columns</p>\n",
       "</div>"
      ],
      "text/plain": [
       "      ticker                 company_name founding vc_dummy rollup dual  \\\n",
       "0          A     Agilent Technologies Inc     1949        0      0    0   \n",
       "1      AAABB    Admiralty Bancorp Inc, FL     1987        0      0    0   \n",
       "2       AAAP         Advanced Accelerator     2002        1      0    0   \n",
       "3        AAC             AAC Holdings Inc     2009        0      0    0   \n",
       "4       AACC        Asset Acceptance Corp     1962        0      0    0   \n",
       "...      ...                          ...      ...      ...    ...  ...   \n",
       "10681   ZYMS           ZY MOS CORPORATION     1978        0      0    0   \n",
       "10682   ZYNE  Zynerba Pharmaceuticals Inc     2007        1      0    0   \n",
       "10683   ZYNX                      Zynaxis     1987        1      0    0   \n",
       "10684   ZYTC                   Zytec Corp     1983        0      0    0   \n",
       "10685     ZZ                   Sealy Corp     1881        0      0    0   \n",
       "\n",
       "      internet  \n",
       "0            0  \n",
       "1            0  \n",
       "2            0  \n",
       "3            0  \n",
       "4            0  \n",
       "...        ...  \n",
       "10681        0  \n",
       "10682        0  \n",
       "10683        0  \n",
       "10684        0  \n",
       "10685        0  \n",
       "\n",
       "[10686 rows x 7 columns]"
      ]
     },
     "execution_count": 14,
     "metadata": {},
     "output_type": "execute_result"
    }
   ],
   "source": [
    "age "
   ]
  },
  {
   "cell_type": "markdown",
   "id": "e55b1e3e",
   "metadata": {},
   "source": [
    "# Save Collected Data "
   ]
  },
  {
   "cell_type": "code",
   "execution_count": 15,
   "id": "bd7a2aaf",
   "metadata": {},
   "outputs": [
    {
     "data": {
      "text/plain": [
       "['age.pkl']"
      ]
     },
     "execution_count": 15,
     "metadata": {},
     "output_type": "execute_result"
    }
   ],
   "source": [
    "import joblib \n",
    "joblib.dump(age,\"age.pkl\")"
   ]
  },
  {
   "cell_type": "code",
   "execution_count": 16,
   "id": "b22246df",
   "metadata": {},
   "outputs": [
    {
     "name": "stdout",
     "output_type": "stream",
     "text": [
      "1_collect_clean_AGE.ipynb       \u001b[34mdata\u001b[m\u001b[m/\r\n",
      "2_collect_clean_MANAGERS.ipynb  ipo_180.pkl\r\n",
      "3a_collect_SEC.ipynb            managers_all.pkl\r\n",
      "3b_clean_SEC.ipynb              managers_melt.pkl\r\n",
      "4a_collect_YF1.ipynb            sec_10k.pkl\r\n",
      "4b_clean_YF1.ipynb              sec_10k_raw.pkl\r\n",
      "5a_collect_YF2.ipynb            yf1.pkl\r\n",
      "5b_clean_YF2.ipynb              yf1_raw.pkl\r\n",
      "age.pkl                         yf2.pkl\r\n",
      "crowdfunding.pkl\r\n"
     ]
    }
   ],
   "source": [
    "ls\n"
   ]
  },
  {
   "cell_type": "code",
   "execution_count": null,
   "id": "244e6f20",
   "metadata": {},
   "outputs": [],
   "source": []
  },
  {
   "cell_type": "code",
   "execution_count": null,
   "id": "cada8900",
   "metadata": {},
   "outputs": [],
   "source": []
  }
 ],
 "metadata": {
  "kernelspec": {
   "display_name": "Python 3",
   "language": "python",
   "name": "python3"
  },
  "language_info": {
   "codemirror_mode": {
    "name": "ipython",
    "version": 3
   },
   "file_extension": ".py",
   "mimetype": "text/x-python",
   "name": "python",
   "nbconvert_exporter": "python",
   "pygments_lexer": "ipython3",
   "version": "3.8.8"
  }
 },
 "nbformat": 4,
 "nbformat_minor": 5
}
