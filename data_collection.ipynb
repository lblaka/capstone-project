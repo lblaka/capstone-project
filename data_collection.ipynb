{
 "cells": [
  {
   "cell_type": "code",
   "execution_count": 1,
   "id": "2314a119",
   "metadata": {},
   "outputs": [],
   "source": [
    "import pandas as pd\n",
    "import os\n",
    "import requests, zipfile, io\n",
    "import numpy as np\n"
   ]
  },
  {
   "cell_type": "markdown",
   "id": "04d2fbae",
   "metadata": {},
   "source": [
    "# Managers"
   ]
  },
  {
   "cell_type": "code",
   "execution_count": 2,
   "id": "d11e7dd5",
   "metadata": {},
   "outputs": [
    {
     "data": {
      "text/html": [
       "<div>\n",
       "<style scoped>\n",
       "    .dataframe tbody tr th:only-of-type {\n",
       "        vertical-align: middle;\n",
       "    }\n",
       "\n",
       "    .dataframe tbody tr th {\n",
       "        vertical-align: top;\n",
       "    }\n",
       "\n",
       "    .dataframe thead tr th {\n",
       "        text-align: left;\n",
       "    }\n",
       "</style>\n",
       "<table border=\"1\" class=\"dataframe\">\n",
       "  <thead>\n",
       "    <tr>\n",
       "      <th></th>\n",
       "      <th>Trade</th>\n",
       "      <th>Unnamed: 1_level_0</th>\n",
       "      <th>Unnamed: 2_level_0</th>\n",
       "      <th>Lead/Joint-Lead</th>\n",
       "      <th>Offer</th>\n",
       "      <th>Opening</th>\n",
       "      <th colspan=\"2\" halign=\"left\">1st Day</th>\n",
       "      <th colspan=\"2\" halign=\"left\">$ Change</th>\n",
       "      <th>Star</th>\n",
       "      <th>Unnamed: 11_level_0</th>\n",
       "    </tr>\n",
       "    <tr>\n",
       "      <th></th>\n",
       "      <th>Date</th>\n",
       "      <th>Issuer</th>\n",
       "      <th>Symbol</th>\n",
       "      <th>Managers</th>\n",
       "      <th>Price</th>\n",
       "      <th>Price</th>\n",
       "      <th>Close</th>\n",
       "      <th>% Px Chng</th>\n",
       "      <th>Opening</th>\n",
       "      <th>Close</th>\n",
       "      <th>Ratings</th>\n",
       "      <th>Performed</th>\n",
       "    </tr>\n",
       "  </thead>\n",
       "  <tbody>\n",
       "    <tr>\n",
       "      <th>0</th>\n",
       "      <td>1/17/20</td>\n",
       "      <td>I-Mab</td>\n",
       "      <td>IMAB</td>\n",
       "      <td>Jefferies/ CICC</td>\n",
       "      <td>$14.00</td>\n",
       "      <td>$14.75</td>\n",
       "      <td>$12.75</td>\n",
       "      <td>-8.93%</td>\n",
       "      <td>$0.75</td>\n",
       "      <td>($1.25)</td>\n",
       "      <td>2</td>\n",
       "      <td>NaN</td>\n",
       "    </tr>\n",
       "    <tr>\n",
       "      <th>1</th>\n",
       "      <td>1/17/20</td>\n",
       "      <td>LIZHI</td>\n",
       "      <td>LIZI</td>\n",
       "      <td>Credit Suisse/ Citigroup</td>\n",
       "      <td>$11.00</td>\n",
       "      <td>$11.03</td>\n",
       "      <td>$11.63</td>\n",
       "      <td>5.73%</td>\n",
       "      <td>$0.03</td>\n",
       "      <td>$0.63</td>\n",
       "      <td>1</td>\n",
       "      <td>NaN</td>\n",
       "    </tr>\n",
       "    <tr>\n",
       "      <th>2</th>\n",
       "      <td>1/17/20</td>\n",
       "      <td>Phoenix Tree Holdings Ltd.</td>\n",
       "      <td>DNK</td>\n",
       "      <td>Citigroup/ Credit Suisse/ J.P. Morgan</td>\n",
       "      <td>$13.50</td>\n",
       "      <td>$13.50</td>\n",
       "      <td>$13.50</td>\n",
       "      <td>0.00%</td>\n",
       "      <td>$0.00</td>\n",
       "      <td>$0.00</td>\n",
       "      <td>1</td>\n",
       "      <td>NaN</td>\n",
       "    </tr>\n",
       "    <tr>\n",
       "      <th>3</th>\n",
       "      <td>1/17/20</td>\n",
       "      <td>Velocity Financial</td>\n",
       "      <td>VEL</td>\n",
       "      <td>Wells Fargo Securities/ Citigroup/ JMP Securities</td>\n",
       "      <td>$13.00</td>\n",
       "      <td>$13.85</td>\n",
       "      <td>$13.51</td>\n",
       "      <td>3.92%</td>\n",
       "      <td>$0.85</td>\n",
       "      <td>$0.51</td>\n",
       "      <td>1</td>\n",
       "      <td>NaN</td>\n",
       "    </tr>\n",
       "    <tr>\n",
       "      <th>4</th>\n",
       "      <td>1/24/20</td>\n",
       "      <td>Gores Holdings IV</td>\n",
       "      <td>GHIVU</td>\n",
       "      <td>Deutsche Bank Securities</td>\n",
       "      <td>$10.00</td>\n",
       "      <td>$10.52</td>\n",
       "      <td>$10.45</td>\n",
       "      <td>4.50%</td>\n",
       "      <td>$0.52</td>\n",
       "      <td>$0.45</td>\n",
       "      <td>1</td>\n",
       "      <td>NaN</td>\n",
       "    </tr>\n",
       "    <tr>\n",
       "      <th>...</th>\n",
       "      <td>...</td>\n",
       "      <td>...</td>\n",
       "      <td>...</td>\n",
       "      <td>...</td>\n",
       "      <td>...</td>\n",
       "      <td>...</td>\n",
       "      <td>...</td>\n",
       "      <td>...</td>\n",
       "      <td>...</td>\n",
       "      <td>...</td>\n",
       "      <td>...</td>\n",
       "      <td>...</td>\n",
       "    </tr>\n",
       "    <tr>\n",
       "      <th>3628</th>\n",
       "      <td>12/8/00</td>\n",
       "      <td>Specialty Laboratories</td>\n",
       "      <td>SP</td>\n",
       "      <td>Merrill Lynch</td>\n",
       "      <td>$16.00</td>\n",
       "      <td>$21.94</td>\n",
       "      <td>$23.31</td>\n",
       "      <td>45.70%</td>\n",
       "      <td>$5.94</td>\n",
       "      <td>$7.31</td>\n",
       "      <td>3</td>\n",
       "      <td>NaN</td>\n",
       "    </tr>\n",
       "    <tr>\n",
       "      <th>3629</th>\n",
       "      <td>12/8/00</td>\n",
       "      <td>W.P. Stewart &amp; Co.</td>\n",
       "      <td>WPL</td>\n",
       "      <td>Goldman Sachs/Lazard</td>\n",
       "      <td>$20.00</td>\n",
       "      <td>$22.06</td>\n",
       "      <td>$24.50</td>\n",
       "      <td>22.50%</td>\n",
       "      <td>$2.06</td>\n",
       "      <td>$4.50</td>\n",
       "      <td>2</td>\n",
       "      <td>NaN</td>\n",
       "    </tr>\n",
       "    <tr>\n",
       "      <th>3630</th>\n",
       "      <td>12/11/00</td>\n",
       "      <td>Gemplus</td>\n",
       "      <td>GEMP</td>\n",
       "      <td>Credit Suisse First Boston</td>\n",
       "      <td>$10.69</td>\n",
       "      <td>$12.00</td>\n",
       "      <td>$13.38</td>\n",
       "      <td>25.12%</td>\n",
       "      <td>$1.31</td>\n",
       "      <td>$2.69</td>\n",
       "      <td>1</td>\n",
       "      <td>NaN</td>\n",
       "    </tr>\n",
       "    <tr>\n",
       "      <th>3631</th>\n",
       "      <td>12/12/00</td>\n",
       "      <td>GenVec</td>\n",
       "      <td>GNVC</td>\n",
       "      <td>J.P. Morgan</td>\n",
       "      <td>$9.50</td>\n",
       "      <td>$10.56</td>\n",
       "      <td>$9.88</td>\n",
       "      <td>3.95%</td>\n",
       "      <td>$1.06</td>\n",
       "      <td>$0.38</td>\n",
       "      <td>2</td>\n",
       "      <td>NaN</td>\n",
       "    </tr>\n",
       "    <tr>\n",
       "      <th>3632</th>\n",
       "      <td>12/15/00</td>\n",
       "      <td>Resources Connection</td>\n",
       "      <td>RECN</td>\n",
       "      <td>Credit Suisse First Boston</td>\n",
       "      <td>$12.00</td>\n",
       "      <td>$13.63</td>\n",
       "      <td>$16.00</td>\n",
       "      <td>33.33%</td>\n",
       "      <td>$1.63</td>\n",
       "      <td>$4.00</td>\n",
       "      <td>2</td>\n",
       "      <td>NaN</td>\n",
       "    </tr>\n",
       "  </tbody>\n",
       "</table>\n",
       "<p>3633 rows × 12 columns</p>\n",
       "</div>"
      ],
      "text/plain": [
       "         Trade           Unnamed: 1_level_0 Unnamed: 2_level_0  \\\n",
       "          Date                       Issuer             Symbol   \n",
       "0      1/17/20                       I-Mab                IMAB   \n",
       "1      1/17/20                       LIZHI                LIZI   \n",
       "2      1/17/20  Phoenix Tree Holdings Ltd.                 DNK   \n",
       "3      1/17/20          Velocity Financial                 VEL   \n",
       "4      1/24/20           Gores Holdings IV               GHIVU   \n",
       "...        ...                          ...                ...   \n",
       "3628   12/8/00      Specialty Laboratories                  SP   \n",
       "3629   12/8/00          W.P. Stewart & Co.                 WPL   \n",
       "3630  12/11/00                     Gemplus                GEMP   \n",
       "3631  12/12/00                       GenVec               GNVC   \n",
       "3632  12/15/00        Resources Connection                RECN   \n",
       "\n",
       "                                        Lead/Joint-Lead    Offer  Opening  \\\n",
       "                                               Managers    Price    Price   \n",
       "0                                       Jefferies/ CICC  $14.00   $14.75    \n",
       "1                              Credit Suisse/ Citigroup  $11.00   $11.03    \n",
       "2                 Citigroup/ Credit Suisse/ J.P. Morgan  $13.50   $13.50    \n",
       "3     Wells Fargo Securities/ Citigroup/ JMP Securities  $13.00   $13.85    \n",
       "4                              Deutsche Bank Securities  $10.00   $10.52    \n",
       "...                                                 ...      ...      ...   \n",
       "3628                                      Merrill Lynch  $16.00   $21.94    \n",
       "3629                               Goldman Sachs/Lazard  $20.00   $22.06    \n",
       "3630                         Credit Suisse First Boston  $10.69   $12.00    \n",
       "3631                                        J.P. Morgan   $9.50   $10.56    \n",
       "3632                         Credit Suisse First Boston  $12.00   $13.63    \n",
       "\n",
       "      1st Day            $ Change             Star Unnamed: 11_level_0  \n",
       "        Close % Px Chng   Opening    Close Ratings           Performed  \n",
       "0     $12.75      -8.93%   $0.75   ($1.25)       2                 NaN  \n",
       "1     $11.63       5.73%   $0.03    $0.63        1                 NaN  \n",
       "2     $13.50       0.00%   $0.00    $0.00        1                 NaN  \n",
       "3     $13.51       3.92%   $0.85    $0.51        1                 NaN  \n",
       "4     $10.45       4.50%   $0.52    $0.45        1                 NaN  \n",
       "...       ...        ...      ...      ...     ...                 ...  \n",
       "3628  $23.31      45.70%   $5.94    $7.31        3                 NaN  \n",
       "3629  $24.50      22.50%   $2.06    $4.50        2                 NaN  \n",
       "3630  $13.38      25.12%   $1.31    $2.69        1                 NaN  \n",
       "3631   $9.88       3.95%   $1.06    $0.38        2                 NaN  \n",
       "3632  $16.00      33.33%   $1.63    $4.00        2                 NaN  \n",
       "\n",
       "[3633 rows x 12 columns]"
      ]
     },
     "execution_count": 2,
     "metadata": {},
     "output_type": "execute_result"
    }
   ],
   "source": [
    "managers = pd.read_csv(\"data/ipo_managers.csv\", header=[0,1])\n",
    "managers"
   ]
  },
  {
   "cell_type": "code",
   "execution_count": 3,
   "id": "ec8c02be",
   "metadata": {},
   "outputs": [],
   "source": [
    "managers.columns = ['_'.join(col) for col in managers.columns.values]\n"
   ]
  },
  {
   "cell_type": "code",
   "execution_count": 4,
   "id": "d5652ee7",
   "metadata": {},
   "outputs": [],
   "source": [
    "managers.columns = managers.columns.str.replace(' ','_').str.lower()"
   ]
  },
  {
   "cell_type": "code",
   "execution_count": 5,
   "id": "af920d00",
   "metadata": {},
   "outputs": [],
   "source": [
    "managers.rename(columns={\n",
    "    'unnamed:_1_level_0_issuer':'company_name', \n",
    "    'unnamed:_2_level_0_symbol': 'ticker',\n",
    "    'lead/joint-lead__managers': 'all_managers',\n",
    "    'price': 'opening_price',\n",
    "    'unnamed:_11_level_0_performed': 'performed'},\n",
    "                inplace=True)"
   ]
  },
  {
   "cell_type": "code",
   "execution_count": 6,
   "id": "5802a3bb",
   "metadata": {},
   "outputs": [
    {
     "data": {
      "text/plain": [
       "['trade_date',\n",
       " 'company_name',\n",
       " 'ticker',\n",
       " 'offer_price',\n",
       " 'opening_price',\n",
       " '1st_day_close',\n",
       " '1st_day_%_px_chng_',\n",
       " '$_change_opening',\n",
       " '$_change_close',\n",
       " 'star_ratings',\n",
       " 'performed']"
      ]
     },
     "execution_count": 6,
     "metadata": {},
     "output_type": "execute_result"
    }
   ],
   "source": [
    "# turn multi-valued managers cells into multi-row, single-valued\n",
    "managers_columns = list(managers.columns)\n",
    "managers_columns.remove('all_managers')\n",
    "managers_columns"
   ]
  },
  {
   "cell_type": "code",
   "execution_count": 7,
   "id": "17ab455e",
   "metadata": {},
   "outputs": [
    {
     "data": {
      "text/plain": [
       "0                                     [Jefferies ,  CICC]\n",
       "1                            [Credit Suisse ,  Citigroup]\n",
       "2             [Citigroup ,  Credit Suisse ,  J.P. Morgan]\n",
       "3       [Wells Fargo Securities ,  Citigroup ,  JMP Se...\n",
       "4                              [Deutsche Bank Securities]\n",
       "                              ...                        \n",
       "3628                                      [Merrill Lynch]\n",
       "3629                             [Goldman Sachs , Lazard]\n",
       "3630                         [Credit Suisse First Boston]\n",
       "3631                                        [J.P. Morgan]\n",
       "3632                         [Credit Suisse First Boston]\n",
       "Name: all_managers, Length: 3633, dtype: object"
      ]
     },
     "execution_count": 7,
     "metadata": {},
     "output_type": "execute_result"
    }
   ],
   "source": [
    "managers.dropna(subset=['all_managers'], inplace=True)\n",
    "managers['all_managers'] = managers['all_managers'].map(lambda x: x.replace(\"/\",\" ,\"))\n",
    "\n",
    "managers['all_managers'] = managers['all_managers'].map(lambda x: x.split(\",\"))\n",
    "managers['all_managers']"
   ]
  },
  {
   "cell_type": "code",
   "execution_count": 8,
   "id": "65428543",
   "metadata": {},
   "outputs": [],
   "source": [
    "managers_melt = managers.all_managers.apply(pd.Series) \\\n",
    "    .merge(managers, right_index = True, left_index = True) \\\n",
    "    .drop([\"all_managers\"], axis = 1) \\\n",
    "    .melt(id_vars = managers_columns , value_name = \"managers\") \n"
   ]
  },
  {
   "cell_type": "code",
   "execution_count": 9,
   "id": "2719d330",
   "metadata": {},
   "outputs": [],
   "source": [
    "managers_melt.dropna(subset=['managers'], inplace=True)"
   ]
  },
  {
   "cell_type": "code",
   "execution_count": 10,
   "id": "58ee6dfd",
   "metadata": {},
   "outputs": [
    {
     "data": {
      "text/html": [
       "<div>\n",
       "<style scoped>\n",
       "    .dataframe tbody tr th:only-of-type {\n",
       "        vertical-align: middle;\n",
       "    }\n",
       "\n",
       "    .dataframe tbody tr th {\n",
       "        vertical-align: top;\n",
       "    }\n",
       "\n",
       "    .dataframe thead th {\n",
       "        text-align: right;\n",
       "    }\n",
       "</style>\n",
       "<table border=\"1\" class=\"dataframe\">\n",
       "  <thead>\n",
       "    <tr style=\"text-align: right;\">\n",
       "      <th></th>\n",
       "      <th>trade_date</th>\n",
       "      <th>company_name</th>\n",
       "      <th>ticker</th>\n",
       "      <th>offer_price</th>\n",
       "      <th>opening_price</th>\n",
       "      <th>1st_day_close</th>\n",
       "      <th>1st_day_%_px_chng_</th>\n",
       "      <th>$_change_opening</th>\n",
       "      <th>$_change_close</th>\n",
       "      <th>star_ratings</th>\n",
       "      <th>performed</th>\n",
       "      <th>variable</th>\n",
       "      <th>managers</th>\n",
       "    </tr>\n",
       "  </thead>\n",
       "  <tbody>\n",
       "    <tr>\n",
       "      <th>0</th>\n",
       "      <td>1/17/20</td>\n",
       "      <td>I-Mab</td>\n",
       "      <td>IMAB</td>\n",
       "      <td>$14.00</td>\n",
       "      <td>$14.75</td>\n",
       "      <td>$12.75</td>\n",
       "      <td>-8.93%</td>\n",
       "      <td>$0.75</td>\n",
       "      <td>($1.25)</td>\n",
       "      <td>2</td>\n",
       "      <td>NaN</td>\n",
       "      <td>0</td>\n",
       "      <td>Jefferies</td>\n",
       "    </tr>\n",
       "    <tr>\n",
       "      <th>1</th>\n",
       "      <td>1/17/20</td>\n",
       "      <td>LIZHI</td>\n",
       "      <td>LIZI</td>\n",
       "      <td>$11.00</td>\n",
       "      <td>$11.03</td>\n",
       "      <td>$11.63</td>\n",
       "      <td>5.73%</td>\n",
       "      <td>$0.03</td>\n",
       "      <td>$0.63</td>\n",
       "      <td>1</td>\n",
       "      <td>NaN</td>\n",
       "      <td>0</td>\n",
       "      <td>Credit Suisse</td>\n",
       "    </tr>\n",
       "    <tr>\n",
       "      <th>2</th>\n",
       "      <td>1/17/20</td>\n",
       "      <td>Phoenix Tree Holdings Ltd.</td>\n",
       "      <td>DNK</td>\n",
       "      <td>$13.50</td>\n",
       "      <td>$13.50</td>\n",
       "      <td>$13.50</td>\n",
       "      <td>0.00%</td>\n",
       "      <td>$0.00</td>\n",
       "      <td>$0.00</td>\n",
       "      <td>1</td>\n",
       "      <td>NaN</td>\n",
       "      <td>0</td>\n",
       "      <td>Citigroup</td>\n",
       "    </tr>\n",
       "    <tr>\n",
       "      <th>3</th>\n",
       "      <td>1/17/20</td>\n",
       "      <td>Velocity Financial</td>\n",
       "      <td>VEL</td>\n",
       "      <td>$13.00</td>\n",
       "      <td>$13.85</td>\n",
       "      <td>$13.51</td>\n",
       "      <td>3.92%</td>\n",
       "      <td>$0.85</td>\n",
       "      <td>$0.51</td>\n",
       "      <td>1</td>\n",
       "      <td>NaN</td>\n",
       "      <td>0</td>\n",
       "      <td>Wells Fargo Securities</td>\n",
       "    </tr>\n",
       "    <tr>\n",
       "      <th>4</th>\n",
       "      <td>1/24/20</td>\n",
       "      <td>Gores Holdings IV</td>\n",
       "      <td>GHIVU</td>\n",
       "      <td>$10.00</td>\n",
       "      <td>$10.52</td>\n",
       "      <td>$10.45</td>\n",
       "      <td>4.50%</td>\n",
       "      <td>$0.52</td>\n",
       "      <td>$0.45</td>\n",
       "      <td>1</td>\n",
       "      <td>NaN</td>\n",
       "      <td>0</td>\n",
       "      <td>Deutsche Bank Securities</td>\n",
       "    </tr>\n",
       "    <tr>\n",
       "      <th>...</th>\n",
       "      <td>...</td>\n",
       "      <td>...</td>\n",
       "      <td>...</td>\n",
       "      <td>...</td>\n",
       "      <td>...</td>\n",
       "      <td>...</td>\n",
       "      <td>...</td>\n",
       "      <td>...</td>\n",
       "      <td>...</td>\n",
       "      <td>...</td>\n",
       "      <td>...</td>\n",
       "      <td>...</td>\n",
       "      <td>...</td>\n",
       "    </tr>\n",
       "    <tr>\n",
       "      <th>44636</th>\n",
       "      <td>7/1/15</td>\n",
       "      <td>CNX Coal Resources LP</td>\n",
       "      <td>CNXC</td>\n",
       "      <td>$15.00</td>\n",
       "      <td>$15.00</td>\n",
       "      <td>$15.41</td>\n",
       "      <td>2.73%</td>\n",
       "      <td>$0.00</td>\n",
       "      <td>$0.41</td>\n",
       "      <td>1</td>\n",
       "      <td>NaN</td>\n",
       "      <td>12</td>\n",
       "      <td>Nomura</td>\n",
       "    </tr>\n",
       "    <tr>\n",
       "      <th>44687</th>\n",
       "      <td>10/14/15</td>\n",
       "      <td>First Data</td>\n",
       "      <td>FDC</td>\n",
       "      <td>$16.00</td>\n",
       "      <td>$16.39</td>\n",
       "      <td>$15.75</td>\n",
       "      <td>-1.56%</td>\n",
       "      <td>$0.39</td>\n",
       "      <td>($0.25)</td>\n",
       "      <td>1</td>\n",
       "      <td>NaN</td>\n",
       "      <td>12</td>\n",
       "      <td>Wells Fargo Securities</td>\n",
       "    </tr>\n",
       "    <tr>\n",
       "      <th>44716</th>\n",
       "      <td>1/23/14</td>\n",
       "      <td>Santander Consumer USA Holdings</td>\n",
       "      <td>SC</td>\n",
       "      <td>$24.00</td>\n",
       "      <td>$25.75</td>\n",
       "      <td>$25.28</td>\n",
       "      <td>5.33%</td>\n",
       "      <td>$1.75</td>\n",
       "      <td>$1.28</td>\n",
       "      <td>2</td>\n",
       "      <td>NaN</td>\n",
       "      <td>12</td>\n",
       "      <td>Wells Fargo Securities</td>\n",
       "    </tr>\n",
       "    <tr>\n",
       "      <th>47244</th>\n",
       "      <td>2/6/20</td>\n",
       "      <td>PPD</td>\n",
       "      <td>PPD</td>\n",
       "      <td>$27.00</td>\n",
       "      <td>$31.00</td>\n",
       "      <td>$30.00</td>\n",
       "      <td>11.11%</td>\n",
       "      <td>$4.00</td>\n",
       "      <td>$3.00</td>\n",
       "      <td>3</td>\n",
       "      <td>NaN</td>\n",
       "      <td>13</td>\n",
       "      <td>Baird</td>\n",
       "    </tr>\n",
       "    <tr>\n",
       "      <th>50877</th>\n",
       "      <td>2/6/20</td>\n",
       "      <td>PPD</td>\n",
       "      <td>PPD</td>\n",
       "      <td>$27.00</td>\n",
       "      <td>$31.00</td>\n",
       "      <td>$30.00</td>\n",
       "      <td>11.11%</td>\n",
       "      <td>$4.00</td>\n",
       "      <td>$3.00</td>\n",
       "      <td>3</td>\n",
       "      <td>NaN</td>\n",
       "      <td>14</td>\n",
       "      <td>William Blair</td>\n",
       "    </tr>\n",
       "  </tbody>\n",
       "</table>\n",
       "<p>8190 rows × 13 columns</p>\n",
       "</div>"
      ],
      "text/plain": [
       "      trade_date                       company_name ticker offer_price  \\\n",
       "0        1/17/20                             I-Mab    IMAB     $14.00    \n",
       "1        1/17/20                             LIZHI    LIZI     $11.00    \n",
       "2        1/17/20        Phoenix Tree Holdings Ltd.     DNK     $13.50    \n",
       "3        1/17/20                Velocity Financial     VEL     $13.00    \n",
       "4        1/24/20                 Gores Holdings IV   GHIVU     $10.00    \n",
       "...          ...                                ...    ...         ...   \n",
       "44636     7/1/15            CNX Coal Resources LP     CNXC     $15.00    \n",
       "44687   10/14/15                      First Data       FDC     $16.00    \n",
       "44716    1/23/14  Santander Consumer USA Holdings       SC     $24.00    \n",
       "47244     2/6/20                               PPD     PPD     $27.00    \n",
       "50877     2/6/20                               PPD     PPD     $27.00    \n",
       "\n",
       "      opening_price 1st_day_close 1st_day_%_px_chng_ $_change_opening  \\\n",
       "0           $14.75        $12.75              -8.93%           $0.75    \n",
       "1           $11.03        $11.63               5.73%           $0.03    \n",
       "2           $13.50        $13.50               0.00%           $0.00    \n",
       "3           $13.85        $13.51               3.92%           $0.85    \n",
       "4           $10.52        $10.45               4.50%           $0.52    \n",
       "...             ...           ...                ...              ...   \n",
       "44636       $15.00        $15.41               2.73%           $0.00    \n",
       "44687       $16.39        $15.75              -1.56%           $0.39    \n",
       "44716       $25.75        $25.28               5.33%           $1.75    \n",
       "47244       $31.00        $30.00              11.11%           $4.00    \n",
       "50877       $31.00        $30.00              11.11%           $4.00    \n",
       "\n",
       "      $_change_close star_ratings performed variable                  managers  \n",
       "0            ($1.25)            2       NaN        0                Jefferies   \n",
       "1             $0.63             1       NaN        0            Credit Suisse   \n",
       "2             $0.00             1       NaN        0                Citigroup   \n",
       "3             $0.51             1       NaN        0   Wells Fargo Securities   \n",
       "4             $0.45             1       NaN        0  Deutsche Bank Securities  \n",
       "...              ...          ...       ...      ...                       ...  \n",
       "44636         $0.41             1       NaN       12                    Nomura  \n",
       "44687        ($0.25)            1       NaN       12    Wells Fargo Securities  \n",
       "44716         $1.28             2       NaN       12    Wells Fargo Securities  \n",
       "47244         $3.00             3       NaN       13                    Baird   \n",
       "50877         $3.00             3       NaN       14             William Blair  \n",
       "\n",
       "[8190 rows x 13 columns]"
      ]
     },
     "execution_count": 10,
     "metadata": {},
     "output_type": "execute_result"
    }
   ],
   "source": [
    "managers_melt"
   ]
  },
  {
   "cell_type": "markdown",
   "id": "cbc5b4df",
   "metadata": {},
   "source": [
    "# Age"
   ]
  },
  {
   "cell_type": "code",
   "execution_count": 11,
   "id": "c949c7fa",
   "metadata": {},
   "outputs": [],
   "source": [
    "age = pd.read_csv(\"data/ipo_age.csv\")"
   ]
  },
  {
   "cell_type": "code",
   "execution_count": 12,
   "id": "14158bc1",
   "metadata": {},
   "outputs": [],
   "source": [
    "age.columns = age.columns.str.replace(' ','_').str.lower()"
   ]
  },
  {
   "cell_type": "code",
   "execution_count": 13,
   "id": "00733d0d",
   "metadata": {},
   "outputs": [
    {
     "data": {
      "text/plain": [
       "array([[<AxesSubplot:title={'center':'offer_date'}>,\n",
       "        <AxesSubplot:title={'center':'post-issue_shares'}>]], dtype=object)"
      ]
     },
     "execution_count": 13,
     "metadata": {},
     "output_type": "execute_result"
    },
    {
     "data": {
      "image/png": "[encoded data removed]",
      "text/plain": [
       "<Figure size 432x288 with 2 Axes>"
      ]
     },
     "metadata": {
      "needs_background": "light"
     },
     "output_type": "display_data"
    }
   ],
   "source": [
    "age['post-issue_shares'] = age['post-issue_shares'].replace('.',0).astype(int)\n",
    "age[age['post-issue_shares']>0].hist()"
   ]
  },
  {
   "cell_type": "code",
   "execution_count": 14,
   "id": "a4089cd6",
   "metadata": {},
   "outputs": [
    {
     "data": {
      "text/plain": [
       "0    11163\n",
       "1      818\n",
       "9       18\n",
       ".        7\n",
       "Name: internet, dtype: int64"
      ]
     },
     "execution_count": 14,
     "metadata": {},
     "output_type": "execute_result"
    }
   ],
   "source": [
    "age['internet'].value_counts()\n"
   ]
  },
  {
   "cell_type": "code",
   "execution_count": 15,
   "id": "def9cbc2",
   "metadata": {},
   "outputs": [
    {
     "data": {
      "text/plain": [
       "array([[<AxesSubplot:title={'center':'offer_date'}>,\n",
       "        <AxesSubplot:title={'center':'post-issue_shares'}>]], dtype=object)"
      ]
     },
     "execution_count": 15,
     "metadata": {},
     "output_type": "execute_result"
    },
    {
     "data": {
      "image/png": "[encoded data removed]",
      "text/plain": [
       "<Figure size 432x288 with 2 Axes>"
      ]
     },
     "metadata": {
      "needs_background": "light"
     },
     "output_type": "display_data"
    }
   ],
   "source": [
    "messy_columns = age[(age[\"vc_dummy\"].isin(['9','.']))\n",
    "   | (age[\"dual\"].isin(['9','.']))\n",
    "   | (age[\"rollup\"].isin(['.']))\n",
    "   | (age[\"internet\"].isin(['9','.']))]\n",
    "\n",
    "messy_columns[messy_columns[\"rollup\"].isin(['9','.'])].hist()"
   ]
  },
  {
   "cell_type": "markdown",
   "id": "54ce9da6",
   "metadata": {},
   "source": [
    "<br>**vc_dummy** - is a dummy with 1 for VC and 2 for a subset of VC (growth capital)\n",
    "<br>**dual** - dummy for multiple share class IPOs\n",
    "<br>**rollup** - 0-1 dummy variable for whether the IPO was a rollup \n",
    "<br>**internet** - dummy with 1 if it is an internet-based  company \n",
    "\n",
    "<br>**will not drop any rows right away, until after the merge**"
   ]
  },
  {
   "cell_type": "markdown",
   "id": "412e42db",
   "metadata": {},
   "source": [
    "# Financial Data"
   ]
  },
  {
   "cell_type": "code",
   "execution_count": 16,
   "id": "f6135b13",
   "metadata": {},
   "outputs": [],
   "source": [
    "# import financials -- all num.txt and sub.txt\n",
    "years = list(range(2009,2021))\n",
    "quarters = ['q1','q2','q3','q4']\n",
    "filenames = ['num.txt','sub.txt']   \n",
    "dataset = 'financial-statement-data-sets'\n",
    "# 'pre.txt','tag.txt\n",
    "\n",
    "def SEC_data(dataset,quarter,year,filename):\n",
    "    url = f\"https://www.sec.gov/files/dera/data/{dataset}/{year}{quarter}.zip\"\n",
    "    r = requests.get(url)\n",
    "    z = zipfile.ZipFile(io.BytesIO(r.content))\n",
    "    z.extractall()\n",
    "    df = pd.read_csv(filename,sep=\"\\t\",dtype={\"cik\":str})\n",
    "    return df"
   ]
  },
  {
   "cell_type": "code",
   "execution_count": 17,
   "id": "f871edf6",
   "metadata": {},
   "outputs": [
    {
     "name": "stderr",
     "output_type": "stream",
     "text": [
      "/Users/lorelablaka/opt/anaconda3/lib/python3.8/site-packages/IPython/core/interactiveshell.py:3357: DtypeWarning: Columns (3) have mixed types.Specify dtype option on import or set low_memory=False.\n",
      "  if (await self.run_code(code, result,  async_=asy)):\n",
      "/Users/lorelablaka/opt/anaconda3/lib/python3.8/site-packages/IPython/core/interactiveshell.py:3357: DtypeWarning: Columns (35) have mixed types.Specify dtype option on import or set low_memory=False.\n",
      "  if (await self.run_code(code, result,  async_=asy)):\n"
     ]
    }
   ],
   "source": [
    "financials = []    \n",
    "for year in years:\n",
    "    for quarter in quarters:\n",
    "        for filename in filenames:\n",
    "            df = SEC_data(dataset,quarter, year, filename)\n",
    "            financials.append(df)"
   ]
  },
  {
   "cell_type": "code",
   "execution_count": 18,
   "id": "0da642ad",
   "metadata": {},
   "outputs": [],
   "source": [
    "numi = []\n",
    "subi = []\n",
    "financials_all = []\n",
    "\n",
    "for n in list(range(len(financials))):\n",
    "    if n % 2 == 0:\n",
    "        numi.append(n)\n",
    "    else:  \n",
    "        subi.append(n)\n",
    "        \n",
    "for n, s in zip(numi,subi):\n",
    "    merged_df = financials[n].merge(financials[s][[\"adsh\",\"cik\",\"name\",\"period\",\"fy\",\"fp\",\"filed\", \"form\",\"instance\"]])\n",
    "    financials_all.append(merged_df)"
   ]
  },
  {
   "cell_type": "markdown",
   "id": "3ade056c",
   "metadata": {},
   "source": [
    "Filter for only 10-Ks only\n",
    "<br> Companies have different FYs and larger companies take much longer to submit filings -- will not filter for quarter "
   ]
  },
  {
   "cell_type": "code",
   "execution_count": 19,
   "id": "64bd4095",
   "metadata": {},
   "outputs": [
    {
     "name": "stdout",
     "output_type": "stream",
     "text": [
      "<class 'pandas.core.frame.DataFrame'>\n",
      "Int64Index: 105850078 entries, 0 to 2373223\n",
      "Data columns (total 17 columns):\n",
      " #   Column    Dtype  \n",
      "---  ------    -----  \n",
      " 0   tag       object \n",
      " 1   version   object \n",
      " 2   coreg     object \n",
      " 3   ddate     object \n",
      " 4   qtrs      object \n",
      " 5   uom       object \n",
      " 6   value     float64\n",
      " 7   footnote  object \n",
      " 8   adsh      object \n",
      " 9   cik       object \n",
      " 10  name      object \n",
      " 11  period    float64\n",
      " 12  fy        float64\n",
      " 13  fp        object \n",
      " 14  filed     object \n",
      " 15  form      object \n",
      " 16  instance  object \n",
      "dtypes: float64(3), object(14)\n",
      "memory usage: 14.2+ GB\n"
     ]
    }
   ],
   "source": [
    "financials = pd.concat(financials_all)\n",
    "financials.info()"
   ]
  },
  {
   "cell_type": "code",
   "execution_count": 20,
   "id": "6926108f",
   "metadata": {},
   "outputs": [
    {
     "data": {
      "text/html": [
       "<div>\n",
       "<style scoped>\n",
       "    .dataframe tbody tr th:only-of-type {\n",
       "        vertical-align: middle;\n",
       "    }\n",
       "\n",
       "    .dataframe tbody tr th {\n",
       "        vertical-align: top;\n",
       "    }\n",
       "\n",
       "    .dataframe thead th {\n",
       "        text-align: right;\n",
       "    }\n",
       "</style>\n",
       "<table border=\"1\" class=\"dataframe\">\n",
       "  <thead>\n",
       "    <tr style=\"text-align: right;\">\n",
       "      <th></th>\n",
       "      <th>tag</th>\n",
       "    </tr>\n",
       "  </thead>\n",
       "  <tbody>\n",
       "    <tr>\n",
       "      <th>NetIncomeLoss</th>\n",
       "      <td>1219874</td>\n",
       "    </tr>\n",
       "    <tr>\n",
       "      <th>CashAndCashEquivalentsAtCarryingValue</th>\n",
       "      <td>1090750</td>\n",
       "    </tr>\n",
       "    <tr>\n",
       "      <th>OperatingIncomeLoss</th>\n",
       "      <td>905307</td>\n",
       "    </tr>\n",
       "    <tr>\n",
       "      <th>IncomeTaxExpenseBenefit</th>\n",
       "      <td>853246</td>\n",
       "    </tr>\n",
       "    <tr>\n",
       "      <th>StockholdersEquity</th>\n",
       "      <td>795342</td>\n",
       "    </tr>\n",
       "    <tr>\n",
       "      <th>Assets</th>\n",
       "      <td>698393</td>\n",
       "    </tr>\n",
       "    <tr>\n",
       "      <th>InterestExpense</th>\n",
       "      <td>673430</td>\n",
       "    </tr>\n",
       "    <tr>\n",
       "      <th>LiabilitiesAndStockholdersEquity</th>\n",
       "      <td>665961</td>\n",
       "    </tr>\n",
       "    <tr>\n",
       "      <th>EarningsPerShareBasic</th>\n",
       "      <td>659969</td>\n",
       "    </tr>\n",
       "    <tr>\n",
       "      <th>EarningsPerShareDiluted</th>\n",
       "      <td>639670</td>\n",
       "    </tr>\n",
       "    <tr>\n",
       "      <th>Revenues</th>\n",
       "      <td>583283</td>\n",
       "    </tr>\n",
       "    <tr>\n",
       "      <th>ComprehensiveIncomeNetOfTax</th>\n",
       "      <td>582709</td>\n",
       "    </tr>\n",
       "    <tr>\n",
       "      <th>NetCashProvidedByUsedInOperatingActivities</th>\n",
       "      <td>582601</td>\n",
       "    </tr>\n",
       "    <tr>\n",
       "      <th>NetCashProvidedByUsedInFinancingActivities</th>\n",
       "      <td>570971</td>\n",
       "    </tr>\n",
       "    <tr>\n",
       "      <th>CashAndCashEquivalentsPeriodIncreaseDecrease</th>\n",
       "      <td>558880</td>\n",
       "    </tr>\n",
       "    <tr>\n",
       "      <th>WeightedAverageNumberOfSharesOutstandingBasic</th>\n",
       "      <td>557474</td>\n",
       "    </tr>\n",
       "    <tr>\n",
       "      <th>NetCashProvidedByUsedInInvestingActivities</th>\n",
       "      <td>532263</td>\n",
       "    </tr>\n",
       "    <tr>\n",
       "      <th>WeightedAverageNumberOfDilutedSharesOutstanding</th>\n",
       "      <td>530321</td>\n",
       "    </tr>\n",
       "    <tr>\n",
       "      <th>RetainedEarningsAccumulatedDeficit</th>\n",
       "      <td>523196</td>\n",
       "    </tr>\n",
       "    <tr>\n",
       "      <th>AssetsCurrent</th>\n",
       "      <td>520093</td>\n",
       "    </tr>\n",
       "    <tr>\n",
       "      <th>LiabilitiesCurrent</th>\n",
       "      <td>516749</td>\n",
       "    </tr>\n",
       "    <tr>\n",
       "      <th>PropertyPlantAndEquipmentNet</th>\n",
       "      <td>514739</td>\n",
       "    </tr>\n",
       "    <tr>\n",
       "      <th>OperatingExpenses</th>\n",
       "      <td>506780</td>\n",
       "    </tr>\n",
       "    <tr>\n",
       "      <th>Liabilities</th>\n",
       "      <td>505677</td>\n",
       "    </tr>\n",
       "  </tbody>\n",
       "</table>\n",
       "</div>"
      ],
      "text/plain": [
       "                                                     tag\n",
       "NetIncomeLoss                                    1219874\n",
       "CashAndCashEquivalentsAtCarryingValue            1090750\n",
       "OperatingIncomeLoss                               905307\n",
       "IncomeTaxExpenseBenefit                           853246\n",
       "StockholdersEquity                                795342\n",
       "Assets                                            698393\n",
       "InterestExpense                                   673430\n",
       "LiabilitiesAndStockholdersEquity                  665961\n",
       "EarningsPerShareBasic                             659969\n",
       "EarningsPerShareDiluted                           639670\n",
       "Revenues                                          583283\n",
       "ComprehensiveIncomeNetOfTax                       582709\n",
       "NetCashProvidedByUsedInOperatingActivities        582601\n",
       "NetCashProvidedByUsedInFinancingActivities        570971\n",
       "CashAndCashEquivalentsPeriodIncreaseDecrease      558880\n",
       "WeightedAverageNumberOfSharesOutstandingBasic     557474\n",
       "NetCashProvidedByUsedInInvestingActivities        532263\n",
       "WeightedAverageNumberOfDilutedSharesOutstanding   530321\n",
       "RetainedEarningsAccumulatedDeficit                523196\n",
       "AssetsCurrent                                     520093\n",
       "LiabilitiesCurrent                                516749\n",
       "PropertyPlantAndEquipmentNet                      514739\n",
       "OperatingExpenses                                 506780\n",
       "Liabilities                                       505677"
      ]
     },
     "execution_count": 20,
     "metadata": {},
     "output_type": "execute_result"
    }
   ],
   "source": [
    "tags = pd.DataFrame(financials['tag'].value_counts())\n",
    "tags[tags['tag']>=500000]"
   ]
  },
  {
   "cell_type": "code",
   "execution_count": 21,
   "id": "a7580fab",
   "metadata": {},
   "outputs": [],
   "source": [
    "financials_tags = financials[financials[\"tag\"].isin([\"NetIncomeLoss\",\n",
    "                                                 \"CashAndCashEquivalentsAtCarryingValue\",\n",
    "                                                 \"OperatingIncomeLoss\",\n",
    "                                                 \"StockholdersEquity\",\n",
    "                                                 \"Assets\",\n",
    "                                                 \n",
    "                                                 \"LiabilitiesAndStockholdersEquity\",\n",
    "                                                 \"LiabilitiesAndStockholdersEquity\",\n",
    "                                                 \n",
    "                                                 \"EarningsPerShareBasic\",\n",
    "                                                 \"EarningsPerShareDiluted\",\n",
    "                                                 \n",
    "                                                 \"NetCashProvidedByUsedInOperatingActivities\",\n",
    "                                                 \"NetCashProvidedByUsedInFinancingActivities\",\n",
    "                                                 \n",
    "                                                 \"RetainedEarningsAccumulatedDeficit\",\n",
    "                                                 \"EarningsPerShareDiluted\",\n",
    "                                                 \"CommonStockSharesAuthorized\"\n",
    "                                                 ])]"
   ]
  },
  {
   "cell_type": "code",
   "execution_count": 22,
   "id": "9ceaad5e",
   "metadata": {},
   "outputs": [],
   "source": [
    "annual_raw = financials_tags[financials_tags[\"form\"].isin([\"10-K\",\"20-K\",\"40-K\"])]\n"
   ]
  },
  {
   "cell_type": "code",
   "execution_count": 23,
   "id": "7ea303d5",
   "metadata": {},
   "outputs": [
    {
     "name": "stderr",
     "output_type": "stream",
     "text": [
      "/Users/lorelablaka/opt/anaconda3/lib/python3.8/site-packages/pandas/core/frame.py:4308: SettingWithCopyWarning: \n",
      "A value is trying to be set on a copy of a slice from a DataFrame\n",
      "\n",
      "See the caveats in the documentation: https://pandas.pydata.org/pandas-docs/stable/user_guide/indexing.html#returning-a-view-versus-a-copy\n",
      "  return super().drop(\n"
     ]
    }
   ],
   "source": [
    "annual_raw.drop(annual_raw.columns[np.r_[7]], axis=1, inplace=True)\n"
   ]
  },
  {
   "cell_type": "code",
   "execution_count": 24,
   "id": "34bcaa10",
   "metadata": {},
   "outputs": [
    {
     "name": "stderr",
     "output_type": "stream",
     "text": [
      "<ipython-input-24-f35c028b3ecf>:1: SettingWithCopyWarning: \n",
      "A value is trying to be set on a copy of a slice from a DataFrame\n",
      "\n",
      "See the caveats in the documentation: https://pandas.pydata.org/pandas-docs/stable/user_guide/indexing.html#returning-a-view-versus-a-copy\n",
      "  annual_raw.drop_duplicates(inplace= True)\n"
     ]
    }
   ],
   "source": [
    "annual_raw.drop_duplicates(inplace= True)"
   ]
  },
  {
   "cell_type": "code",
   "execution_count": 25,
   "id": "aee03fff",
   "metadata": {},
   "outputs": [
    {
     "name": "stdout",
     "output_type": "stream",
     "text": [
      "<class 'pandas.core.frame.DataFrame'>\n",
      "Int64Index: 2393312 entries, 3481 to 2288717\n",
      "Data columns (total 16 columns):\n",
      " #   Column    Dtype  \n",
      "---  ------    -----  \n",
      " 0   tag       object \n",
      " 1   version   object \n",
      " 2   coreg     object \n",
      " 3   ddate     object \n",
      " 4   qtrs      object \n",
      " 5   uom       object \n",
      " 6   value     float64\n",
      " 7   adsh      object \n",
      " 8   cik       object \n",
      " 9   name      object \n",
      " 10  period    float64\n",
      " 11  fy        float64\n",
      " 12  fp        object \n",
      " 13  filed     object \n",
      " 14  form      object \n",
      " 15  instance  object \n",
      "dtypes: float64(3), object(13)\n",
      "memory usage: 310.4+ MB\n"
     ]
    }
   ],
   "source": [
    "annual_raw.info()"
   ]
  },
  {
   "cell_type": "code",
   "execution_count": 26,
   "id": "7de947b6",
   "metadata": {},
   "outputs": [],
   "source": [
    "annual = annual_raw.pivot_table(values='value', \n",
    "                          index= ['version',\n",
    "                                  'coreg',\n",
    "                                  'ddate',\n",
    "                                  'qtrs',\n",
    "                                  'uom',\n",
    "                                  'adsh',\n",
    "                                  'cik',\n",
    "                                  'name',\n",
    "                                  'period',\n",
    "                                  'fy',\n",
    "                                  'fp',\n",
    "                                  'filed',\n",
    "                                  'form',\n",
    "                                  'instance'],\n",
    "                          columns = 'tag')\n"
   ]
  },
  {
   "cell_type": "code",
   "execution_count": 27,
   "id": "862fbbb7",
   "metadata": {},
   "outputs": [],
   "source": [
    "annual.reset_index(inplace=True)"
   ]
  },
  {
   "cell_type": "code",
   "execution_count": 28,
   "id": "49905f17",
   "metadata": {},
   "outputs": [
    {
     "name": "stdout",
     "output_type": "stream",
     "text": [
      "<class 'pandas.core.frame.DataFrame'>\n",
      "RangeIndex: 114475 entries, 0 to 114474\n",
      "Data columns (total 26 columns):\n",
      " #   Column                                      Non-Null Count   Dtype  \n",
      "---  ------                                      --------------   -----  \n",
      " 0   version                                     114475 non-null  object \n",
      " 1   coreg                                       114475 non-null  object \n",
      " 2   ddate                                       114475 non-null  int64  \n",
      " 3   qtrs                                        114475 non-null  int64  \n",
      " 4   uom                                         114475 non-null  object \n",
      " 5   adsh                                        114475 non-null  object \n",
      " 6   cik                                         114475 non-null  object \n",
      " 7   name                                        114475 non-null  object \n",
      " 8   period                                      114475 non-null  float64\n",
      " 9   fy                                          114475 non-null  float64\n",
      " 10  fp                                          114475 non-null  object \n",
      " 11  filed                                       114475 non-null  int64  \n",
      " 12  form                                        114475 non-null  object \n",
      " 13  instance                                    114475 non-null  object \n",
      " 14  Assets                                      33044 non-null   float64\n",
      " 15  CashAndCashEquivalentsAtCarryingValue       49068 non-null   float64\n",
      " 16  CommonStockSharesAuthorized                 3158 non-null    float64\n",
      " 17  EarningsPerShareBasic                       2980 non-null    float64\n",
      " 18  EarningsPerShareDiluted                     2756 non-null    float64\n",
      " 19  LiabilitiesAndStockholdersEquity            29984 non-null   float64\n",
      " 20  NetCashProvidedByUsedInFinancingActivities  31546 non-null   float64\n",
      " 21  NetCashProvidedByUsedInOperatingActivities  31519 non-null   float64\n",
      " 22  NetIncomeLoss                               42891 non-null   float64\n",
      " 23  OperatingIncomeLoss                         31882 non-null   float64\n",
      " 24  RetainedEarningsAccumulatedDeficit          9300 non-null    float64\n",
      " 25  StockholdersEquity                          24638 non-null   float64\n",
      "dtypes: float64(14), int64(3), object(9)\n",
      "memory usage: 22.7+ MB\n"
     ]
    }
   ],
   "source": [
    "annual.info()"
   ]
  },
  {
   "cell_type": "markdown",
   "id": "77374dde",
   "metadata": {},
   "source": [
    "# Crowdfunding Data"
   ]
  },
  {
   "cell_type": "code",
   "execution_count": 29,
   "id": "4e29c4d1",
   "metadata": {},
   "outputs": [],
   "source": [
    "# import crowdfunding -- 'FORM_C_SUBMISSION.tsv','FORM_C_DISCLOSURE.tsv'\n",
    "quarters = ['q1_cf','q2_cf','q3_cf','q4_cf']\n",
    "years = list(range(2017,2021))\n",
    "dataset = 'crowdfunding-offerings-data-sets'\n",
    "\n",
    "crowdfunding = []    \n",
    "for year in years:\n",
    "    for quarter in quarters:\n",
    "        file_disc = f\"{year}{quarter.capitalize()}/FORM_C_DISCLOSURE.tsv\"\n",
    "        file_issuer = f\"{year}{quarter.capitalize()}/FORM_C_ISSUER_INFORMATION.tsv\"        \n",
    "        filenames =[file_disc,file_issuer]\n",
    "        for filename in filenames:\n",
    "            df = SEC_data(dataset, quarter, year, filename)\n",
    "            crowdfunding.append(df)\n",
    " "
   ]
  },
  {
   "cell_type": "code",
   "execution_count": 30,
   "id": "c6607818",
   "metadata": {},
   "outputs": [],
   "source": [
    "disc_i = []\n",
    "issuer_i = []\n",
    "crowdfunding_all = []\n",
    "\n",
    "for n in list(range(len(crowdfunding))):\n",
    "    if n % 2 == 0:\n",
    "        disc_i.append(n)\n",
    "    else:  \n",
    "        issuer_i.append(n)\n",
    "        \n",
    "for n, s in zip(disc_i,issuer_i):\n",
    "    df = crowdfunding[n].merge(crowdfunding[s])\n",
    "    crowdfunding_all.append(df)"
   ]
  },
  {
   "cell_type": "code",
   "execution_count": 31,
   "id": "ac953830",
   "metadata": {},
   "outputs": [],
   "source": [
    "crowdfunding = pd.concat(crowdfunding_all)"
   ]
  },
  {
   "cell_type": "code",
   "execution_count": 32,
   "id": "9e52ab37",
   "metadata": {},
   "outputs": [
    {
     "name": "stdout",
     "output_type": "stream",
     "text": [
      "<class 'pandas.core.frame.DataFrame'>\n",
      "Int64Index: 9553 entries, 0 to 1013\n",
      "Data columns (total 51 columns):\n",
      " #   Column                          Non-Null Count  Dtype  \n",
      "---  ------                          --------------  -----  \n",
      " 0   ACCESSION_NUMBER                9553 non-null   object \n",
      " 1   COMPENSATIONAMOUNT              7958 non-null   object \n",
      " 2   FINANCIALINTEREST               5716 non-null   object \n",
      " 3   SECURITYOFFEREDTYPE             7958 non-null   object \n",
      " 4   SECURITYOFFEREDOTHERDESC        3625 non-null   object \n",
      " 5   NOOFSECURITYOFFERED             6401 non-null   float64\n",
      " 6   PRICE                           7300 non-null   float64\n",
      " 7   PRICEDETERMINATIONMETHOD        4245 non-null   object \n",
      " 8   OFFERINGAMOUNT                  7958 non-null   float64\n",
      " 9   OVERSUBSCRIPTIONACCEPTED        7958 non-null   object \n",
      " 10  OVERSUBSCRIPTIONALLOCATIONTYPE  7875 non-null   object \n",
      " 11  DESCOVERSUBSCRIPTION            4575 non-null   object \n",
      " 12  MAXIMUMOFFERINGAMOUNT           7875 non-null   float64\n",
      " 13  DEADLINEDATE                    7958 non-null   object \n",
      " 14  CURRENTEMPLOYEES                9045 non-null   float64\n",
      " 15  TOTALASSETMOSTRECENTFISCALYEAR  9045 non-null   float64\n",
      " 16  TOTALASSETPRIORFISCALYEAR       9045 non-null   float64\n",
      " 17  CASHEQUIMOSTRECENTFISCALYEAR    9045 non-null   float64\n",
      " 18  CASHEQUIPRIORFISCALYEAR         9045 non-null   float64\n",
      " 19  ACTRECEIVEDRECENTFISCALYEAR     9045 non-null   float64\n",
      " 20  ACTRECEIVEDPRIORFISCALYEAR      9045 non-null   float64\n",
      " 21  SHORTTERMDEBTMRECENTFISCALYEAR  9045 non-null   float64\n",
      " 22  SHORTTERMDEBTPRIORFISCALYEAR    9045 non-null   float64\n",
      " 23  LONGTERMDEBTRECENTFISCALYEAR    9045 non-null   float64\n",
      " 24  LONGTERMDEBTPRIORFISCALYEAR     9045 non-null   float64\n",
      " 25  REVENUEMOSTRECENTFISCALYEAR     9045 non-null   float64\n",
      " 26  REVENUEPRIORFISCALYEAR          9045 non-null   float64\n",
      " 27  COSTGOODSSOLDRECENTFISCALYEAR   9045 non-null   float64\n",
      " 28  COSTGOODSSOLDPRIORFISCALYEAR    9045 non-null   float64\n",
      " 29  TAXPAIDMOSTRECENTFISCALYEAR     9045 non-null   float64\n",
      " 30  TAXPAIDPRIORFISCALYEAR          9045 non-null   float64\n",
      " 31  NETINCOMEMOSTRECENTFISCALYEAR   9045 non-null   float64\n",
      " 32  NETINCOMEPRIORFISCALYEAR        9045 non-null   float64\n",
      " 33  ISAMENDMENT                     9553 non-null   int64  \n",
      " 34  PROGRESSUPDATE                  1311 non-null   object \n",
      " 35  NATUREOFAMENDMENT               3501 non-null   object \n",
      " 36  NAMEOFISSUER                    9553 non-null   object \n",
      " 37  LEGALSTATUSFORM                 9233 non-null   object \n",
      " 38  LEGALSTATUSOTHERDESC            85 non-null     object \n",
      " 39  JURISDICTIONORGANIZATION        9233 non-null   object \n",
      " 40  DATEINCORPORATION               9233 non-null   object \n",
      " 41  STREET1                         9232 non-null   object \n",
      " 42  STREET2                         2838 non-null   object \n",
      " 43  CITY                            9233 non-null   object \n",
      " 44  STATEORCOUNTRY                  9233 non-null   object \n",
      " 45  ZIPCODE                         9233 non-null   object \n",
      " 46  ISSUERWEBSITE                   9228 non-null   object \n",
      " 47  COMPANYNAME                     7980 non-null   object \n",
      " 48  COMMISSIONCIK                   7980 non-null   float64\n",
      " 49  COMMISSIONFILENUMBER            7980 non-null   object \n",
      " 50  CRDNUMBER                       4903 non-null   float64\n",
      "dtypes: float64(25), int64(1), object(25)\n",
      "memory usage: 3.8+ MB\n"
     ]
    }
   ],
   "source": [
    "crowdfunding.info()"
   ]
  },
  {
   "cell_type": "code",
   "execution_count": 33,
   "id": "91a86df2",
   "metadata": {},
   "outputs": [],
   "source": [
    "crowdfunding.drop(crowdfunding.columns[np.r_[30:45,46,48,49]], axis=1, inplace=True)"
   ]
  },
  {
   "cell_type": "code",
   "execution_count": 34,
   "id": "27ad558f",
   "metadata": {},
   "outputs": [
    {
     "name": "stdout",
     "output_type": "stream",
     "text": [
      "<class 'pandas.core.frame.DataFrame'>\n",
      "Int64Index: 9553 entries, 0 to 1013\n",
      "Data columns (total 33 columns):\n",
      " #   Column                          Non-Null Count  Dtype  \n",
      "---  ------                          --------------  -----  \n",
      " 0   ACCESSION_NUMBER                9553 non-null   object \n",
      " 1   COMPENSATIONAMOUNT              7958 non-null   object \n",
      " 2   FINANCIALINTEREST               5716 non-null   object \n",
      " 3   SECURITYOFFEREDTYPE             7958 non-null   object \n",
      " 4   SECURITYOFFEREDOTHERDESC        3625 non-null   object \n",
      " 5   NOOFSECURITYOFFERED             6401 non-null   float64\n",
      " 6   PRICE                           7300 non-null   float64\n",
      " 7   PRICEDETERMINATIONMETHOD        4245 non-null   object \n",
      " 8   OFFERINGAMOUNT                  7958 non-null   float64\n",
      " 9   OVERSUBSCRIPTIONACCEPTED        7958 non-null   object \n",
      " 10  OVERSUBSCRIPTIONALLOCATIONTYPE  7875 non-null   object \n",
      " 11  DESCOVERSUBSCRIPTION            4575 non-null   object \n",
      " 12  MAXIMUMOFFERINGAMOUNT           7875 non-null   float64\n",
      " 13  DEADLINEDATE                    7958 non-null   object \n",
      " 14  CURRENTEMPLOYEES                9045 non-null   float64\n",
      " 15  TOTALASSETMOSTRECENTFISCALYEAR  9045 non-null   float64\n",
      " 16  TOTALASSETPRIORFISCALYEAR       9045 non-null   float64\n",
      " 17  CASHEQUIMOSTRECENTFISCALYEAR    9045 non-null   float64\n",
      " 18  CASHEQUIPRIORFISCALYEAR         9045 non-null   float64\n",
      " 19  ACTRECEIVEDRECENTFISCALYEAR     9045 non-null   float64\n",
      " 20  ACTRECEIVEDPRIORFISCALYEAR      9045 non-null   float64\n",
      " 21  SHORTTERMDEBTMRECENTFISCALYEAR  9045 non-null   float64\n",
      " 22  SHORTTERMDEBTPRIORFISCALYEAR    9045 non-null   float64\n",
      " 23  LONGTERMDEBTRECENTFISCALYEAR    9045 non-null   float64\n",
      " 24  LONGTERMDEBTPRIORFISCALYEAR     9045 non-null   float64\n",
      " 25  REVENUEMOSTRECENTFISCALYEAR     9045 non-null   float64\n",
      " 26  REVENUEPRIORFISCALYEAR          9045 non-null   float64\n",
      " 27  COSTGOODSSOLDRECENTFISCALYEAR   9045 non-null   float64\n",
      " 28  COSTGOODSSOLDPRIORFISCALYEAR    9045 non-null   float64\n",
      " 29  TAXPAIDMOSTRECENTFISCALYEAR     9045 non-null   float64\n",
      " 30  ZIPCODE                         9233 non-null   object \n",
      " 31  COMPANYNAME                     7980 non-null   object \n",
      " 32  CRDNUMBER                       4903 non-null   float64\n",
      "dtypes: float64(21), object(12)\n",
      "memory usage: 2.5+ MB\n"
     ]
    }
   ],
   "source": [
    "crowdfunding.info()"
   ]
  },
  {
   "cell_type": "code",
   "execution_count": 35,
   "id": "1875d420",
   "metadata": {},
   "outputs": [],
   "source": [
    "crowdfunding.rename(columns={\n",
    "    'ACCESSION_NUMBER':'accession_number',\n",
    "    'COMPENSATIONAMOUNT': 'compensation_amount',\n",
    "    'FINANCIALINTEREST': 'financial_interest',\n",
    "    'SECURITYOFFEREDTYPE': 'security_offered_type',\n",
    "    'SECURITYOFFEREDOTHERDESC': 'security_offered_other_desc',\n",
    "    'NOOFSECURITYOFFERED':'no_of_security_offered', \n",
    "    'PRICE': 'price',\n",
    "    'PRICEDETERMINATIONMETHOD': 'price_determination_method',\n",
    "    'OFFERINGAMOUNT': 'offering_amount',\n",
    "    'DESCOVERSUBSCRIPTION' : 'desc_over_subscription',\n",
    "   \n",
    "    'OVERSUBSCRIPTIONACCEPTED': 'oversubscription_accepted',    \n",
    "    'OVERSUBSCRIPTIONALLOCATIONTYPE':'oversubscriptional_location_type', \n",
    "    'COMPENSATIONAMOUNT': 'des_cover_subscription',\n",
    "    'MAXIMUMOFFERINGAMOUNT': 'maximum_offering_amount',\n",
    "    'DEADLINEDATE': 'deadline_date',\n",
    "    \n",
    "    'CURRENTEMPLOYEES': 'current_employees',\n",
    "    \n",
    "    \n",
    "    'TOTALASSETMOSTRECENTFISCALYEAR':'total_asset_most_recent_fiscalyear', \n",
    "    'TOTALASSETPRIORFISCALYEAR': 'total_asset_prior_fiscal_year',\n",
    "    \n",
    "    'CASHEQUIMOSTRECENTFISCALYEAR': 'cash_equi_most_recent_fiscal_year',\n",
    "    'CASHEQUIPRIORFISCALYEAR': 'cash_equi_prior_fiscal_year',\n",
    "    \n",
    "    'ACTRECEIVEDRECENTFISCALYEAR': 'act_received_recent_fiscal_year',\n",
    "    'ACTRECEIVEDPRIORFISCALYEAR':'act_received_prior_fiscal_year', \n",
    "    \n",
    "    'SHORTTERMDEBTMRECENTFISCALYEAR': 'short_term_debt_m_recent_fiscal_year',\n",
    "    'SHORTTERMDEBTPRIORFISCALYEAR': 'short_term_debt_prior_fiscal_year',\n",
    "    \n",
    "    'LONGTERMDEBTRECENTFISCALYEAR': 'long_term_debt_recent_fiscal_year',\n",
    "    'LONGTERMDEBTPRIORFISCALYEAR': 'long_term_debt_prior_fiscal_year',    \n",
    "    \n",
    "    'REVENUEMOSTRECENTFISCALYEAR':'revenue_most_recent_fiscal_year', \n",
    "    'REVENUEPRIORFISCALYEAR': 'revenue_prior_fiscal_year',\n",
    "    \n",
    "    'COSTGOODSSOLDRECENTFISCALYEAR': 'cost_goods_sold_recent_fiscal_year',\n",
    "    'COSTGOODSSOLDPRIORFISCALYEAR': 'cost_goods_sold_prior_fiscal_year',\n",
    "    \n",
    "    'TAXPAIDMOSTRECENTFISCALYEAR': 'tax_paid_most_recent_fiscal_year',\n",
    "    \n",
    "    'ZIPCODE':'zipcode', \n",
    "    'COMPANYNAME': 'company_name',\n",
    "    'CRDNUMBER': 'financial_interest'\n",
    "},\n",
    "                inplace=True)"
   ]
  },
  {
   "cell_type": "code",
   "execution_count": 36,
   "id": "4d188a41",
   "metadata": {},
   "outputs": [
    {
     "data": {
      "text/plain": [
       "Index(['accession_number', 'des_cover_subscription', 'financial_interest',\n",
       "       'security_offered_type', 'security_offered_other_desc',\n",
       "       'no_of_security_offered', 'price', 'price_determination_method',\n",
       "       'offering_amount', 'oversubscription_accepted',\n",
       "       'oversubscriptional_location_type', 'desc_over_subscription',\n",
       "       'maximum_offering_amount', 'deadline_date', 'current_employees',\n",
       "       'total_asset_most_recent_fiscalyear', 'total_asset_prior_fiscal_year',\n",
       "       'cash_equi_most_recent_fiscal_year', 'cash_equi_prior_fiscal_year',\n",
       "       'act_received_recent_fiscal_year', 'act_received_prior_fiscal_year',\n",
       "       'short_term_debt_m_recent_fiscal_year',\n",
       "       'short_term_debt_prior_fiscal_year',\n",
       "       'long_term_debt_recent_fiscal_year', 'long_term_debt_prior_fiscal_year',\n",
       "       'revenue_most_recent_fiscal_year', 'revenue_prior_fiscal_year',\n",
       "       'cost_goods_sold_recent_fiscal_year',\n",
       "       'cost_goods_sold_prior_fiscal_year', 'tax_paid_most_recent_fiscal_year',\n",
       "       'zipcode', 'company_name', 'financial_interest'],\n",
       "      dtype='object')"
      ]
     },
     "execution_count": 36,
     "metadata": {},
     "output_type": "execute_result"
    }
   ],
   "source": [
    "crowdfunding.columns"
   ]
  },
  {
   "cell_type": "markdown",
   "id": "e55b1e3e",
   "metadata": {},
   "source": [
    "# Save Collected Data "
   ]
  },
  {
   "cell_type": "code",
   "execution_count": 39,
   "id": "bd7a2aaf",
   "metadata": {},
   "outputs": [
    {
     "data": {
      "text/plain": [
       "['age.pkl']"
      ]
     },
     "execution_count": 39,
     "metadata": {},
     "output_type": "execute_result"
    }
   ],
   "source": [
    "import joblib \n",
    "joblib.dump(crowdfunding,\"crowdfunding.pkl\")\n",
    "joblib.dump(annual,\"annual.pkl\")\n",
    "joblib.dump(managers_melt,\"managers_melt.pkl\")\n",
    "joblib.dump(managers,\"managers.pkl\")\n",
    "joblib.dump(age,\"age.pkl\")"
   ]
  },
  {
   "cell_type": "code",
   "execution_count": 40,
   "id": "b22246df",
   "metadata": {},
   "outputs": [
    {
     "name": "stdout",
     "output_type": "stream",
     "text": [
      "\u001b[34m2017Q1_cf\u001b[m\u001b[m/             \u001b[34m2019Q3_cf\u001b[m\u001b[m/             \u001b[34mdata\u001b[m\u001b[m/\r\n",
      "\u001b[34m2017Q2_cf\u001b[m\u001b[m/             \u001b[34m2019Q4_cf\u001b[m\u001b[m/             data_collection.ipynb\r\n",
      "\u001b[34m2017Q3_cf\u001b[m\u001b[m/             \u001b[34m2020Q1_cf\u001b[m\u001b[m/             data_merge.ipynb\r\n",
      "\u001b[34m2017Q4_cf\u001b[m\u001b[m/             \u001b[34m2020Q2_cf\u001b[m\u001b[m/             managers.pkl\r\n",
      "\u001b[34m2018Q1_cf\u001b[m\u001b[m/             \u001b[34m2020Q3_cf\u001b[m\u001b[m/             managers_melt.pkl\r\n",
      "\u001b[34m2018Q2_cf\u001b[m\u001b[m/             \u001b[34m2020Q4_cf\u001b[m\u001b[m/             num.txt\r\n",
      "\u001b[34m2018Q3_cf\u001b[m\u001b[m/             \u001b[34m2021Q1_cf\u001b[m\u001b[m/             pre.txt\r\n",
      "\u001b[34m2018Q4_cf\u001b[m\u001b[m/             age.pkl                readme.htm\r\n",
      "\u001b[34m2019Q1_cf\u001b[m\u001b[m/             annual.pkl             sub.txt\r\n",
      "\u001b[34m2019Q2_cf\u001b[m\u001b[m/             crowdfunding.pkl       tag.txt\r\n"
     ]
    }
   ],
   "source": [
    "ls\n"
   ]
  },
  {
   "cell_type": "code",
   "execution_count": null,
   "id": "cada8900",
   "metadata": {},
   "outputs": [],
   "source": []
  }
 ],
 "metadata": {
  "kernelspec": {
   "display_name": "Python 3",
   "language": "python",
   "name": "python3"
  },
  "language_info": {
   "codemirror_mode": {
    "name": "ipython",
    "version": 3
   },
   "file_extension": ".py",
   "mimetype": "text/x-python",
   "name": "python",
   "nbconvert_exporter": "python",
   "pygments_lexer": "ipython3",
   "version": "3.8.8"
  }
 },
 "nbformat": 4,
 "nbformat_minor": 5
}
