{
 "cells": [
  {
   "cell_type": "code",
   "execution_count": 1,
   "id": "2314a119",
   "metadata": {},
   "outputs": [],
   "source": [
    "import pandas as pd\n",
    "import os\n",
    "import requests, zipfile, io\n",
    "import numpy as np\n"
   ]
  },
  {
   "cell_type": "code",
   "execution_count": 2,
   "id": "17c63e9f",
   "metadata": {},
   "outputs": [],
   "source": [
    "managers = pd.read_csv(\"data/ipo_managers.csv\")"
   ]
  },
  {
   "cell_type": "code",
   "execution_count": 3,
   "id": "c949c7fa",
   "metadata": {},
   "outputs": [],
   "source": [
    "age = pd.read_csv(\"data/ipo_age.csv\")"
   ]
  },
  {
   "cell_type": "markdown",
   "id": "49ee7e78",
   "metadata": {},
   "source": [
    "# Financial Data"
   ]
  },
  {
   "cell_type": "code",
   "execution_count": 4,
   "id": "85cb354a",
   "metadata": {},
   "outputs": [],
   "source": [
    "# import financials -- all num.txt and sub.txt\n",
    "years = list(range(2009,2021))\n",
    "quarters = ['q1','q2','q3','q4']\n",
    "filenames = ['num.txt','sub.txt']   \n",
    "dataset = 'financial-statement-data-sets'\n",
    "# 'pre.txt','tag.txt\n",
    "\n",
    "def SEC_data(dataset,quarter,year,filename):\n",
    "    url = f\"https://www.sec.gov/files/dera/data/{dataset}/{year}{quarter}.zip\"\n",
    "    r = requests.get(url)\n",
    "    z = zipfile.ZipFile(io.BytesIO(r.content))\n",
    "    z.extractall()\n",
    "    df = pd.read_csv(filename,sep=\"\\t\",dtype={\"cik\":str})\n",
    "    return df"
   ]
  },
  {
   "cell_type": "code",
   "execution_count": 5,
   "id": "65e07fe6",
   "metadata": {},
   "outputs": [
    {
     "name": "stderr",
     "output_type": "stream",
     "text": [
      "/Users/lorelablaka/opt/anaconda3/lib/python3.8/site-packages/IPython/core/interactiveshell.py:3357: DtypeWarning: Columns (3) have mixed types.Specify dtype option on import or set low_memory=False.\n",
      "  if (await self.run_code(code, result,  async_=asy)):\n",
      "/Users/lorelablaka/opt/anaconda3/lib/python3.8/site-packages/IPython/core/interactiveshell.py:3357: DtypeWarning: Columns (35) have mixed types.Specify dtype option on import or set low_memory=False.\n",
      "  if (await self.run_code(code, result,  async_=asy)):\n"
     ]
    }
   ],
   "source": [
    "financials = []    \n",
    "for year in years:\n",
    "    for quarter in quarters:\n",
    "        for filename in filenames:\n",
    "            df = SEC_data(dataset,quarter, year, filename)\n",
    "            financials.append(df)"
   ]
  },
  {
   "cell_type": "code",
   "execution_count": 6,
   "id": "6ba1dd80",
   "metadata": {},
   "outputs": [],
   "source": [
    "numi = []\n",
    "subi = []\n",
    "financials_all = []\n",
    "\n",
    "for n in list(range(len(financials))):\n",
    "    if n % 2 == 0:\n",
    "        numi.append(n)\n",
    "    else:  \n",
    "        subi.append(n)\n",
    "        \n",
    "for n, s in zip(numi,subi):\n",
    "    merged_df = financials[n].merge(financials[s][[\"adsh\",\"cik\",\"name\",\"period\",\"fy\",\"fp\",\"filed\", \"form\",\"instance\"]])\n",
    "    financials_all.append(merged_df)"
   ]
  },
  {
   "cell_type": "markdown",
   "id": "bc371f24",
   "metadata": {},
   "source": [
    "Filter for only 10-Ks only\n",
    "<br> Companies have different FYs and larger companies take much longer to submit filings -- will not filter for quarter "
   ]
  },
  {
   "cell_type": "code",
   "execution_count": 7,
   "id": "b4878f7d",
   "metadata": {},
   "outputs": [
    {
     "name": "stdout",
     "output_type": "stream",
     "text": [
      "<class 'pandas.core.frame.DataFrame'>\n",
      "Int64Index: 105850078 entries, 0 to 2373223\n",
      "Data columns (total 17 columns):\n",
      " #   Column    Dtype  \n",
      "---  ------    -----  \n",
      " 0   tag       object \n",
      " 1   version   object \n",
      " 2   coreg     object \n",
      " 3   ddate     object \n",
      " 4   qtrs      object \n",
      " 5   uom       object \n",
      " 6   value     float64\n",
      " 7   footnote  object \n",
      " 8   adsh      object \n",
      " 9   cik       object \n",
      " 10  name      object \n",
      " 11  period    float64\n",
      " 12  fy        float64\n",
      " 13  fp        object \n",
      " 14  filed     object \n",
      " 15  form      object \n",
      " 16  instance  object \n",
      "dtypes: float64(3), object(14)\n",
      "memory usage: 14.2+ GB\n"
     ]
    }
   ],
   "source": [
    "financials = pd.concat(financials_all)\n",
    "financials.info()"
   ]
  },
  {
   "cell_type": "code",
   "execution_count": 17,
   "id": "c5f6bb7e",
   "metadata": {},
   "outputs": [
    {
     "data": {
      "text/html": [
       "<div>\n",
       "<style scoped>\n",
       "    .dataframe tbody tr th:only-of-type {\n",
       "        vertical-align: middle;\n",
       "    }\n",
       "\n",
       "    .dataframe tbody tr th {\n",
       "        vertical-align: top;\n",
       "    }\n",
       "\n",
       "    .dataframe thead th {\n",
       "        text-align: right;\n",
       "    }\n",
       "</style>\n",
       "<table border=\"1\" class=\"dataframe\">\n",
       "  <thead>\n",
       "    <tr style=\"text-align: right;\">\n",
       "      <th></th>\n",
       "      <th>tag</th>\n",
       "    </tr>\n",
       "  </thead>\n",
       "  <tbody>\n",
       "    <tr>\n",
       "      <th>NetIncomeLoss</th>\n",
       "      <td>1219874</td>\n",
       "    </tr>\n",
       "    <tr>\n",
       "      <th>CashAndCashEquivalentsAtCarryingValue</th>\n",
       "      <td>1090750</td>\n",
       "    </tr>\n",
       "    <tr>\n",
       "      <th>OperatingIncomeLoss</th>\n",
       "      <td>905307</td>\n",
       "    </tr>\n",
       "    <tr>\n",
       "      <th>IncomeTaxExpenseBenefit</th>\n",
       "      <td>853246</td>\n",
       "    </tr>\n",
       "    <tr>\n",
       "      <th>StockholdersEquity</th>\n",
       "      <td>795342</td>\n",
       "    </tr>\n",
       "    <tr>\n",
       "      <th>Assets</th>\n",
       "      <td>698393</td>\n",
       "    </tr>\n",
       "    <tr>\n",
       "      <th>InterestExpense</th>\n",
       "      <td>673430</td>\n",
       "    </tr>\n",
       "    <tr>\n",
       "      <th>LiabilitiesAndStockholdersEquity</th>\n",
       "      <td>665961</td>\n",
       "    </tr>\n",
       "    <tr>\n",
       "      <th>EarningsPerShareBasic</th>\n",
       "      <td>659969</td>\n",
       "    </tr>\n",
       "    <tr>\n",
       "      <th>EarningsPerShareDiluted</th>\n",
       "      <td>639670</td>\n",
       "    </tr>\n",
       "    <tr>\n",
       "      <th>Revenues</th>\n",
       "      <td>583283</td>\n",
       "    </tr>\n",
       "    <tr>\n",
       "      <th>ComprehensiveIncomeNetOfTax</th>\n",
       "      <td>582709</td>\n",
       "    </tr>\n",
       "    <tr>\n",
       "      <th>NetCashProvidedByUsedInOperatingActivities</th>\n",
       "      <td>582601</td>\n",
       "    </tr>\n",
       "    <tr>\n",
       "      <th>NetCashProvidedByUsedInFinancingActivities</th>\n",
       "      <td>570971</td>\n",
       "    </tr>\n",
       "    <tr>\n",
       "      <th>CashAndCashEquivalentsPeriodIncreaseDecrease</th>\n",
       "      <td>558880</td>\n",
       "    </tr>\n",
       "    <tr>\n",
       "      <th>WeightedAverageNumberOfSharesOutstandingBasic</th>\n",
       "      <td>557474</td>\n",
       "    </tr>\n",
       "    <tr>\n",
       "      <th>NetCashProvidedByUsedInInvestingActivities</th>\n",
       "      <td>532263</td>\n",
       "    </tr>\n",
       "    <tr>\n",
       "      <th>WeightedAverageNumberOfDilutedSharesOutstanding</th>\n",
       "      <td>530321</td>\n",
       "    </tr>\n",
       "    <tr>\n",
       "      <th>RetainedEarningsAccumulatedDeficit</th>\n",
       "      <td>523196</td>\n",
       "    </tr>\n",
       "    <tr>\n",
       "      <th>AssetsCurrent</th>\n",
       "      <td>520093</td>\n",
       "    </tr>\n",
       "    <tr>\n",
       "      <th>LiabilitiesCurrent</th>\n",
       "      <td>516749</td>\n",
       "    </tr>\n",
       "    <tr>\n",
       "      <th>PropertyPlantAndEquipmentNet</th>\n",
       "      <td>514739</td>\n",
       "    </tr>\n",
       "    <tr>\n",
       "      <th>OperatingExpenses</th>\n",
       "      <td>506780</td>\n",
       "    </tr>\n",
       "    <tr>\n",
       "      <th>Liabilities</th>\n",
       "      <td>505677</td>\n",
       "    </tr>\n",
       "  </tbody>\n",
       "</table>\n",
       "</div>"
      ],
      "text/plain": [
       "                                                     tag\n",
       "NetIncomeLoss                                    1219874\n",
       "CashAndCashEquivalentsAtCarryingValue            1090750\n",
       "OperatingIncomeLoss                               905307\n",
       "IncomeTaxExpenseBenefit                           853246\n",
       "StockholdersEquity                                795342\n",
       "Assets                                            698393\n",
       "InterestExpense                                   673430\n",
       "LiabilitiesAndStockholdersEquity                  665961\n",
       "EarningsPerShareBasic                             659969\n",
       "EarningsPerShareDiluted                           639670\n",
       "Revenues                                          583283\n",
       "ComprehensiveIncomeNetOfTax                       582709\n",
       "NetCashProvidedByUsedInOperatingActivities        582601\n",
       "NetCashProvidedByUsedInFinancingActivities        570971\n",
       "CashAndCashEquivalentsPeriodIncreaseDecrease      558880\n",
       "WeightedAverageNumberOfSharesOutstandingBasic     557474\n",
       "NetCashProvidedByUsedInInvestingActivities        532263\n",
       "WeightedAverageNumberOfDilutedSharesOutstanding   530321\n",
       "RetainedEarningsAccumulatedDeficit                523196\n",
       "AssetsCurrent                                     520093\n",
       "LiabilitiesCurrent                                516749\n",
       "PropertyPlantAndEquipmentNet                      514739\n",
       "OperatingExpenses                                 506780\n",
       "Liabilities                                       505677"
      ]
     },
     "execution_count": 17,
     "metadata": {},
     "output_type": "execute_result"
    }
   ],
   "source": [
    "tags = pd.DataFrame(financials['tag'].value_counts())\n",
    "tags[tags['tag']>=500000]"
   ]
  },
  {
   "cell_type": "code",
   "execution_count": 18,
   "id": "178d6232",
   "metadata": {},
   "outputs": [],
   "source": [
    "financials_tags = financials[financials[\"tag\"].isin([\"NetIncomeLoss\",\n",
    "                                                 \"CashAndCashEquivalentsAtCarryingValue\",\n",
    "                                                 \"OperatingIncomeLoss\",\n",
    "                                                 \"StockholdersEquity\",\n",
    "                                                 \"Assets\",\n",
    "                                                 \n",
    "                                                 \"LiabilitiesAndStockholdersEquity\",\n",
    "                                                 \"LiabilitiesAndStockholdersEquity\",\n",
    "                                                 \n",
    "                                                 \"EarningsPerShareBasic\",\n",
    "                                                 \"EarningsPerShareDiluted\",\n",
    "                                                 \n",
    "                                                 \"NetCashProvidedByUsedInOperatingActivities\",\n",
    "                                                 \"NetCashProvidedByUsedInFinancingActivities\",\n",
    "                                                 \n",
    "                                                 \"RetainedEarningsAccumulatedDeficit\",\n",
    "                                                 \"EarningsPerShareDiluted\",\n",
    "                                                 \"CommonStockSharesAuthorized\"\n",
    "                                                 ])]"
   ]
  },
  {
   "cell_type": "code",
   "execution_count": 19,
   "id": "7c2ccc7c",
   "metadata": {},
   "outputs": [
    {
     "name": "stdout",
     "output_type": "stream",
     "text": [
      "<class 'pandas.core.frame.DataFrame'>\n",
      "Int64Index: 2393323 entries, 3481 to 2288717\n",
      "Data columns (total 17 columns):\n",
      " #   Column    Dtype  \n",
      "---  ------    -----  \n",
      " 0   tag       object \n",
      " 1   version   object \n",
      " 2   coreg     object \n",
      " 3   ddate     object \n",
      " 4   qtrs      object \n",
      " 5   uom       object \n",
      " 6   value     float64\n",
      " 7   footnote  object \n",
      " 8   adsh      object \n",
      " 9   cik       object \n",
      " 10  name      object \n",
      " 11  period    float64\n",
      " 12  fy        float64\n",
      " 13  fp        object \n",
      " 14  filed     object \n",
      " 15  form      object \n",
      " 16  instance  object \n",
      "dtypes: float64(3), object(14)\n",
      "memory usage: 328.7+ MB\n"
     ]
    }
   ],
   "source": [
    "annual_raw = financials_tags[financials_tags[\"form\"].isin([\"10-K\",\"20-K\",\"40-K\"])]\n"
   ]
  },
  {
   "cell_type": "code",
   "execution_count": 29,
   "id": "1974d924",
   "metadata": {},
   "outputs": [
    {
     "name": "stderr",
     "output_type": "stream",
     "text": [
      "/Users/lorelablaka/opt/anaconda3/lib/python3.8/site-packages/pandas/core/frame.py:4308: SettingWithCopyWarning: \n",
      "A value is trying to be set on a copy of a slice from a DataFrame\n",
      "\n",
      "See the caveats in the documentation: https://pandas.pydata.org/pandas-docs/stable/user_guide/indexing.html#returning-a-view-versus-a-copy\n",
      "  return super().drop(\n"
     ]
    }
   ],
   "source": [
    "annual_raw.drop(annual_raw.columns[np.r_[7]], axis=1, inplace=True)\n"
   ]
  },
  {
   "cell_type": "code",
   "execution_count": 30,
   "id": "30374c2a",
   "metadata": {},
   "outputs": [
    {
     "name": "stderr",
     "output_type": "stream",
     "text": [
      "<ipython-input-30-f35c028b3ecf>:1: SettingWithCopyWarning: \n",
      "A value is trying to be set on a copy of a slice from a DataFrame\n",
      "\n",
      "See the caveats in the documentation: https://pandas.pydata.org/pandas-docs/stable/user_guide/indexing.html#returning-a-view-versus-a-copy\n",
      "  annual_raw.drop_duplicates(inplace= True)\n"
     ]
    }
   ],
   "source": [
    "annual_raw.drop_duplicates(inplace= True)"
   ]
  },
  {
   "cell_type": "code",
   "execution_count": 37,
   "id": "718e5c78",
   "metadata": {},
   "outputs": [
    {
     "name": "stdout",
     "output_type": "stream",
     "text": [
      "<class 'pandas.core.frame.DataFrame'>\n",
      "Int64Index: 2393312 entries, 3481 to 2288717\n",
      "Data columns (total 16 columns):\n",
      " #   Column    Dtype  \n",
      "---  ------    -----  \n",
      " 0   tag       object \n",
      " 1   version   object \n",
      " 2   coreg     object \n",
      " 3   ddate     object \n",
      " 4   qtrs      object \n",
      " 5   uom       object \n",
      " 6   value     float64\n",
      " 7   adsh      object \n",
      " 8   cik       object \n",
      " 9   name      object \n",
      " 10  period    float64\n",
      " 11  fy        float64\n",
      " 12  fp        object \n",
      " 13  filed     object \n",
      " 14  form      object \n",
      " 15  instance  object \n",
      "dtypes: float64(3), object(13)\n",
      "memory usage: 310.4+ MB\n"
     ]
    }
   ],
   "source": [
    "annual_raw.info()"
   ]
  },
  {
   "cell_type": "code",
   "execution_count": 41,
   "id": "f7a0d943",
   "metadata": {},
   "outputs": [],
   "source": [
    "annual = annual_raw.pivot_table(values='value', \n",
    "                          index= ['version',\n",
    "                                  'coreg',\n",
    "                                  'ddate',\n",
    "                                  'qtrs',\n",
    "                                  'uom',\n",
    "                                  'adsh',\n",
    "                                  'cik',\n",
    "                                  'name',\n",
    "                                  'period',\n",
    "                                  'fy',\n",
    "                                  'fp',\n",
    "                                  'filed',\n",
    "                                  'form',\n",
    "                                  'instance'],\n",
    "                          columns = 'tag')\n"
   ]
  },
  {
   "cell_type": "code",
   "execution_count": 42,
   "id": "892350f7",
   "metadata": {},
   "outputs": [],
   "source": [
    "annual.reset_index(inplace=True)"
   ]
  },
  {
   "cell_type": "code",
   "execution_count": 46,
   "id": "b1e04745",
   "metadata": {},
   "outputs": [
    {
     "name": "stdout",
     "output_type": "stream",
     "text": [
      "<class 'pandas.core.frame.DataFrame'>\n",
      "RangeIndex: 114475 entries, 0 to 114474\n",
      "Data columns (total 26 columns):\n",
      " #   Column                                      Non-Null Count   Dtype  \n",
      "---  ------                                      --------------   -----  \n",
      " 0   version                                     114475 non-null  object \n",
      " 1   coreg                                       114475 non-null  object \n",
      " 2   ddate                                       114475 non-null  int64  \n",
      " 3   qtrs                                        114475 non-null  int64  \n",
      " 4   uom                                         114475 non-null  object \n",
      " 5   adsh                                        114475 non-null  object \n",
      " 6   cik                                         114475 non-null  object \n",
      " 7   name                                        114475 non-null  object \n",
      " 8   period                                      114475 non-null  float64\n",
      " 9   fy                                          114475 non-null  float64\n",
      " 10  fp                                          114475 non-null  object \n",
      " 11  filed                                       114475 non-null  int64  \n",
      " 12  form                                        114475 non-null  object \n",
      " 13  instance                                    114475 non-null  object \n",
      " 14  Assets                                      33044 non-null   float64\n",
      " 15  CashAndCashEquivalentsAtCarryingValue       49068 non-null   float64\n",
      " 16  CommonStockSharesAuthorized                 3158 non-null    float64\n",
      " 17  EarningsPerShareBasic                       2980 non-null    float64\n",
      " 18  EarningsPerShareDiluted                     2756 non-null    float64\n",
      " 19  LiabilitiesAndStockholdersEquity            29984 non-null   float64\n",
      " 20  NetCashProvidedByUsedInFinancingActivities  31546 non-null   float64\n",
      " 21  NetCashProvidedByUsedInOperatingActivities  31519 non-null   float64\n",
      " 22  NetIncomeLoss                               42891 non-null   float64\n",
      " 23  OperatingIncomeLoss                         31882 non-null   float64\n",
      " 24  RetainedEarningsAccumulatedDeficit          9300 non-null    float64\n",
      " 25  StockholdersEquity                          24638 non-null   float64\n",
      "dtypes: float64(14), int64(3), object(9)\n",
      "memory usage: 22.7+ MB\n"
     ]
    }
   ],
   "source": [
    "annual.info()"
   ]
  },
  {
   "cell_type": "markdown",
   "id": "f4afa1c9",
   "metadata": {},
   "source": [
    "# Crowdfunding Data"
   ]
  },
  {
   "cell_type": "code",
   "execution_count": 47,
   "id": "bd79227d",
   "metadata": {},
   "outputs": [],
   "source": [
    "# import crowdfunding -- 'FORM_C_SUBMISSION.tsv','FORM_C_DISCLOSURE.tsv'\n",
    "quarters = ['q1_cf','q2_cf','q3_cf','q4_cf']\n",
    "years = list(range(2017,2021))\n",
    "dataset = 'crowdfunding-offerings-data-sets'\n",
    "\n",
    "crowdfunding = []    \n",
    "for year in years:\n",
    "    for quarter in quarters:\n",
    "        file_disc = f\"{year}{quarter.capitalize()}/FORM_C_DISCLOSURE.tsv\"\n",
    "        file_issuer = f\"{year}{quarter.capitalize()}/FORM_C_ISSUER_INFORMATION.tsv\"        \n",
    "        filenames =[file_disc,file_issuer]\n",
    "        for filename in filenames:\n",
    "            df = SEC_data(dataset, quarter, year, filename)\n",
    "            crowdfunding.append(df)\n",
    " "
   ]
  },
  {
   "cell_type": "code",
   "execution_count": 48,
   "id": "831dfc72",
   "metadata": {},
   "outputs": [],
   "source": [
    "disc_i = []\n",
    "issuer_i = []\n",
    "crowdfunding_all = []\n",
    "\n",
    "for n in list(range(len(crowdfunding))):\n",
    "    if n % 2 == 0:\n",
    "        disc_i.append(n)\n",
    "    else:  \n",
    "        issuer_i.append(n)\n",
    "        \n",
    "for n, s in zip(disc_i,issuer_i):\n",
    "    df = crowdfunding[n].merge(crowdfunding[s])\n",
    "    crowdfunding_all.append(df)"
   ]
  },
  {
   "cell_type": "code",
   "execution_count": 54,
   "id": "e00bbf7b",
   "metadata": {},
   "outputs": [],
   "source": [
    "crowdfunding = pd.concat(crowdfunding_all)"
   ]
  },
  {
   "cell_type": "code",
   "execution_count": 55,
   "id": "732948d8",
   "metadata": {},
   "outputs": [
    {
     "name": "stdout",
     "output_type": "stream",
     "text": [
      "<class 'pandas.core.frame.DataFrame'>\n",
      "Int64Index: 9553 entries, 0 to 1013\n",
      "Data columns (total 51 columns):\n",
      " #   Column                          Non-Null Count  Dtype  \n",
      "---  ------                          --------------  -----  \n",
      " 0   ACCESSION_NUMBER                9553 non-null   object \n",
      " 1   COMPENSATIONAMOUNT              7958 non-null   object \n",
      " 2   FINANCIALINTEREST               5716 non-null   object \n",
      " 3   SECURITYOFFEREDTYPE             7958 non-null   object \n",
      " 4   SECURITYOFFEREDOTHERDESC        3625 non-null   object \n",
      " 5   NOOFSECURITYOFFERED             6401 non-null   float64\n",
      " 6   PRICE                           7300 non-null   float64\n",
      " 7   PRICEDETERMINATIONMETHOD        4245 non-null   object \n",
      " 8   OFFERINGAMOUNT                  7958 non-null   float64\n",
      " 9   OVERSUBSCRIPTIONACCEPTED        7958 non-null   object \n",
      " 10  OVERSUBSCRIPTIONALLOCATIONTYPE  7875 non-null   object \n",
      " 11  DESCOVERSUBSCRIPTION            4575 non-null   object \n",
      " 12  MAXIMUMOFFERINGAMOUNT           7875 non-null   float64\n",
      " 13  DEADLINEDATE                    7958 non-null   object \n",
      " 14  CURRENTEMPLOYEES                9045 non-null   float64\n",
      " 15  TOTALASSETMOSTRECENTFISCALYEAR  9045 non-null   float64\n",
      " 16  TOTALASSETPRIORFISCALYEAR       9045 non-null   float64\n",
      " 17  CASHEQUIMOSTRECENTFISCALYEAR    9045 non-null   float64\n",
      " 18  CASHEQUIPRIORFISCALYEAR         9045 non-null   float64\n",
      " 19  ACTRECEIVEDRECENTFISCALYEAR     9045 non-null   float64\n",
      " 20  ACTRECEIVEDPRIORFISCALYEAR      9045 non-null   float64\n",
      " 21  SHORTTERMDEBTMRECENTFISCALYEAR  9045 non-null   float64\n",
      " 22  SHORTTERMDEBTPRIORFISCALYEAR    9045 non-null   float64\n",
      " 23  LONGTERMDEBTRECENTFISCALYEAR    9045 non-null   float64\n",
      " 24  LONGTERMDEBTPRIORFISCALYEAR     9045 non-null   float64\n",
      " 25  REVENUEMOSTRECENTFISCALYEAR     9045 non-null   float64\n",
      " 26  REVENUEPRIORFISCALYEAR          9045 non-null   float64\n",
      " 27  COSTGOODSSOLDRECENTFISCALYEAR   9045 non-null   float64\n",
      " 28  COSTGOODSSOLDPRIORFISCALYEAR    9045 non-null   float64\n",
      " 29  TAXPAIDMOSTRECENTFISCALYEAR     9045 non-null   float64\n",
      " 30  TAXPAIDPRIORFISCALYEAR          9045 non-null   float64\n",
      " 31  NETINCOMEMOSTRECENTFISCALYEAR   9045 non-null   float64\n",
      " 32  NETINCOMEPRIORFISCALYEAR        9045 non-null   float64\n",
      " 33  ISAMENDMENT                     9553 non-null   int64  \n",
      " 34  PROGRESSUPDATE                  1311 non-null   object \n",
      " 35  NATUREOFAMENDMENT               3501 non-null   object \n",
      " 36  NAMEOFISSUER                    9553 non-null   object \n",
      " 37  LEGALSTATUSFORM                 9233 non-null   object \n",
      " 38  LEGALSTATUSOTHERDESC            85 non-null     object \n",
      " 39  JURISDICTIONORGANIZATION        9233 non-null   object \n",
      " 40  DATEINCORPORATION               9233 non-null   object \n",
      " 41  STREET1                         9232 non-null   object \n",
      " 42  STREET2                         2838 non-null   object \n",
      " 43  CITY                            9233 non-null   object \n",
      " 44  STATEORCOUNTRY                  9233 non-null   object \n",
      " 45  ZIPCODE                         9233 non-null   object \n",
      " 46  ISSUERWEBSITE                   9228 non-null   object \n",
      " 47  COMPANYNAME                     7980 non-null   object \n",
      " 48  COMMISSIONCIK                   7980 non-null   float64\n",
      " 49  COMMISSIONFILENUMBER            7980 non-null   object \n",
      " 50  CRDNUMBER                       4903 non-null   float64\n",
      "dtypes: float64(25), int64(1), object(25)\n",
      "memory usage: 3.8+ MB\n"
     ]
    }
   ],
   "source": [
    "crowdfunding.info()"
   ]
  },
  {
   "cell_type": "raw",
   "id": "322729f7",
   "metadata": {},
   "source": [
    "CROWDFUNDING COLUMNS TO KEEP CURRENTLY \n",
    "# COMPENSATIONAMOUNT\n",
    "# SECURITYOFFEREDTYPE\n",
    "# NOOFSECURITYOFFERED\n",
    "# PRICE - Price per share of security\n",
    "# CURRENTEMPLOYEES\n",
    "\n",
    "# NAMEOFISSUER - Co name?\n",
    "# LEGALSTATUSFORM - Corp, LLC, LP, Other\n",
    "# DATEINCORPORATION\n",
    "# JURISDICTIONORGANIZATION - Jurisdiction in which the business is registered.\n",
    "# COMPANYNAME\n",
    "# ZIPCODE"
   ]
  },
  {
   "cell_type": "code",
   "execution_count": 61,
   "id": "27788297",
   "metadata": {},
   "outputs": [],
   "source": [
    "crowdfunding = crowdfunding[[\"COMPENSATIONAMOUNT\",\n",
    "                                         \"SECURITYOFFEREDTYPE\",\n",
    "                                         \"NOOFSECURITYOFFERED\",\n",
    "                                         \"PRICE\",                 \n",
    "                                         \"CURRENTEMPLOYEES\",\n",
    "                                         \"NAMEOFISSUER\",\n",
    "                                         \"LEGALSTATUSFORM\",\n",
    "                                         \"DATEINCORPORATION\",\n",
    "                                         \"JURISDICTIONORGANIZATION\",\n",
    "                                         \"COMPANYNAME\",\n",
    "                                         \"ZIPCODE\"]]\n",
    "                                         \n",
    "           "
   ]
  },
  {
   "cell_type": "code",
   "execution_count": 62,
   "id": "4e8cf945",
   "metadata": {},
   "outputs": [
    {
     "name": "stdout",
     "output_type": "stream",
     "text": [
      "<class 'pandas.core.frame.DataFrame'>\n",
      "Int64Index: 9553 entries, 0 to 1013\n",
      "Data columns (total 11 columns):\n",
      " #   Column                    Non-Null Count  Dtype  \n",
      "---  ------                    --------------  -----  \n",
      " 0   COMPENSATIONAMOUNT        7958 non-null   object \n",
      " 1   SECURITYOFFEREDTYPE       7958 non-null   object \n",
      " 2   NOOFSECURITYOFFERED       6401 non-null   float64\n",
      " 3   PRICE                     7300 non-null   float64\n",
      " 4   CURRENTEMPLOYEES          9045 non-null   float64\n",
      " 5   NAMEOFISSUER              9553 non-null   object \n",
      " 6   LEGALSTATUSFORM           9233 non-null   object \n",
      " 7   DATEINCORPORATION         9233 non-null   object \n",
      " 8   JURISDICTIONORGANIZATION  9233 non-null   object \n",
      " 9   COMPANYNAME               7980 non-null   object \n",
      " 10  ZIPCODE                   9233 non-null   object \n",
      "dtypes: float64(3), object(8)\n",
      "memory usage: 895.6+ KB\n"
     ]
    }
   ],
   "source": [
    "crowdfunding.info()"
   ]
  },
  {
   "cell_type": "code",
   "execution_count": null,
   "id": "d0f194b7",
   "metadata": {},
   "outputs": [],
   "source": []
  }
 ],
 "metadata": {
  "kernelspec": {
   "display_name": "Python 3",
   "language": "python",
   "name": "python3"
  },
  "language_info": {
   "codemirror_mode": {
    "name": "ipython",
    "version": 3
   },
   "file_extension": ".py",
   "mimetype": "text/x-python",
   "name": "python",
   "nbconvert_exporter": "python",
   "pygments_lexer": "ipython3",
   "version": "3.8.8"
  }
 },
 "nbformat": 4,
 "nbformat_minor": 5
}
